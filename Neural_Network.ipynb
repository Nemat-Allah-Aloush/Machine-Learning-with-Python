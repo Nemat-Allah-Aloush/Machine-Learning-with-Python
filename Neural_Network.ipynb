{
  "nbformat": 4,
  "nbformat_minor": 0,
  "metadata": {
    "colab": {
      "name": "Neural Network.ipynb",
      "provenance": [],
      "collapsed_sections": []
    },
    "kernelspec": {
      "name": "python3",
      "display_name": "Python 3"
    },
    "language_info": {
      "name": "python"
    }
  },
  "cells": [
    {
      "cell_type": "markdown",
      "source": [
        "### Neural Networks\n"
      ],
      "metadata": {
        "id": "lVspu-qtd6YN"
      }
    },
    {
      "cell_type": "markdown",
      "source": [
        "**Neural Networks** consists of : input layer, hidden layer(s), and output layer.\n",
        "\n",
        "In each layer there sre a number of nodes.\n",
        "\n",
        "Each layer is connected with the following one by connections (weights). The \n",
        "weights are the trainable parameters.\n",
        "Another trainable parameter is the Bias, the bias is a node located on the previous layer of the affected layer. The weights from the bias to the nodes are one by default.\n",
        "\n",
        "When two layers are *densely* connected, that means that each node from the first layer is connected with every node from the second layer."
      ],
      "metadata": {
        "id": "AzCLm8mqgFyk"
      }
    },
    {
      "cell_type": "markdown",
      "source": [
        "**Activation Function**\n",
        "\n",
        "Examples of activation functions:\n",
        "1. Relu (Rectified Linear Unit).\n",
        "2. Tanh (Hyperbolic Tangent). It transform the values to be in the range [-1,1], the more positive the value is the closet to one it is. \n",
        "3. Sigmoid. It squishes the values between zero and one.\n",
        "\n",
        "At each of the neuorons, there will be an activattion function to be applied on its output. \n",
        "\n"
      ],
      "metadata": {
        "id": "YR2BT9J9gb4D"
      }
    },
    {
      "cell_type": "markdown",
      "source": [
        "**Loss/Cost Function**\n",
        "\n",
        "Loss function calculates how far away is the model's output from the expected output.\n",
        "\n",
        "Example of loss functions:\n",
        "1. Mean Absolute error.\n",
        "2. Mean Squared error.\n",
        "3. Hinge Loss.\n",
        "\n",
        "The loss function determines if the model is getting better or worth after changing the weights and biases. Then we need to determine how to move to get beeter results, here we use Gradient Descent.\n"
      ],
      "metadata": {
        "id": "3FoG84ICkPeD"
      }
    },
    {
      "cell_type": "markdown",
      "source": [
        "**Gradient Descent**\n",
        "\n",
        "We want to get the least possible loss of the network. The algorithm tell us in which direction we should update the biases and weights in order to get the global minimum of the loss function. Then we apply the back propogation to go back and change those values."
      ],
      "metadata": {
        "id": "4XyudHZjktR7"
      }
    },
    {
      "cell_type": "markdown",
      "source": [
        "**Optimizer**\n",
        "\n",
        "A function that implements the gradient descent and backpropagation algorithms.\n",
        "\n",
        "Examples:\n",
        "1. Gradient Descent.\n",
        "2. Stochastic Gradient Descent.\n",
        "3. Mini-batch Gradient Descent.\n",
        "4. Momentum.\n",
        "5. Nesterov Accelerated Gradient."
      ],
      "metadata": {
        "id": "2Yda1XET5coQ"
      }
    },
    {
      "cell_type": "markdown",
      "source": [
        "## Creating a Neural Model"
      ],
      "metadata": {
        "id": "83ou4zdIAoKV"
      }
    },
    {
      "cell_type": "code",
      "execution_count": 1,
      "metadata": {
        "id": "2joFyTUgaUIE"
      },
      "outputs": [],
      "source": [
        "import tensorflow as tf\n",
        "from tensorflow import keras\n",
        "import numpy as np\n",
        "import matplotlib.pyplot as plt"
      ]
    },
    {
      "cell_type": "markdown",
      "source": [
        "#### Dataset\n",
        "Fashion MNIST dataset contain 60,000 images for training and 10,000 images for validating/testing.\n",
        "\n",
        "We have are 10 different classes.\n"
      ],
      "metadata": {
        "id": "4F7fy-urA3Dt"
      }
    },
    {
      "cell_type": "code",
      "source": [
        "fashion_minst = keras.datasets.fashion_mnist \n",
        "(train_images,train_labels),(test_images,test_labels)= fashion_minst.load_data()\n"
      ],
      "metadata": {
        "colab": {
          "base_uri": "https://localhost:8080/"
        },
        "id": "7WPA8jyeA2a4",
        "outputId": "5cb6383a-a217-4855-ae4c-f442c4505290"
      },
      "execution_count": 4,
      "outputs": [
        {
          "output_type": "stream",
          "name": "stdout",
          "text": [
            "Downloading data from https://storage.googleapis.com/tensorflow/tf-keras-datasets/train-labels-idx1-ubyte.gz\n",
            "32768/29515 [=================================] - 0s 0us/step\n",
            "40960/29515 [=========================================] - 0s 0us/step\n",
            "Downloading data from https://storage.googleapis.com/tensorflow/tf-keras-datasets/train-images-idx3-ubyte.gz\n",
            "26427392/26421880 [==============================] - 0s 0us/step\n",
            "26435584/26421880 [==============================] - 0s 0us/step\n",
            "Downloading data from https://storage.googleapis.com/tensorflow/tf-keras-datasets/t10k-labels-idx1-ubyte.gz\n",
            "16384/5148 [===============================================================================================] - 0s 0us/step\n",
            "Downloading data from https://storage.googleapis.com/tensorflow/tf-keras-datasets/t10k-images-idx3-ubyte.gz\n",
            "4423680/4422102 [==============================] - 0s 0us/step\n",
            "4431872/4422102 [==============================] - 0s 0us/step\n"
          ]
        }
      ]
    },
    {
      "cell_type": "code",
      "source": [
        "train_images.shape"
      ],
      "metadata": {
        "colab": {
          "base_uri": "https://localhost:8080/"
        },
        "id": "z632IALgB4Eq",
        "outputId": "6d15f860-9af8-4cb6-865a-8edb2da8398c"
      },
      "execution_count": 6,
      "outputs": [
        {
          "output_type": "execute_result",
          "data": {
            "text/plain": [
              "(60000, 28, 28)"
            ]
          },
          "metadata": {},
          "execution_count": 6
        }
      ]
    },
    {
      "cell_type": "code",
      "source": [
        "train_images[0,23,23] # one pixel has a value between 0(black) and 255(white), the images are in gray scale"
      ],
      "metadata": {
        "colab": {
          "base_uri": "https://localhost:8080/"
        },
        "id": "Zq_l-ABiBVqq",
        "outputId": "4e02dc0b-5fca-48ab-debd-b1220c7c84ce"
      },
      "execution_count": 7,
      "outputs": [
        {
          "output_type": "execute_result",
          "data": {
            "text/plain": [
              "194"
            ]
          },
          "metadata": {},
          "execution_count": 7
        }
      ]
    },
    {
      "cell_type": "code",
      "source": [
        "class_names=['T-shirt/top','Trouser','Pullover','Dress','Coat','Sandal','Shirt','Sneaker','Bag','Ankle boot']"
      ],
      "metadata": {
        "id": "wDTNRkELBn0D"
      },
      "execution_count": 8,
      "outputs": []
    },
    {
      "cell_type": "code",
      "source": [
        "plt.figure()\n",
        "plt.imshow(train_images[1])\n",
        "plt.colorbar()\n",
        "plt.show() # an example of image (T-Shirt)"
      ],
      "metadata": {
        "colab": {
          "base_uri": "https://localhost:8080/",
          "height": 265
        },
        "id": "rGl8BwcMCkfX",
        "outputId": "30c141ed-2f17-4271-9b50-4429e780eb13"
      },
      "execution_count": 12,
      "outputs": [
        {
          "output_type": "display_data",
          "data": {
            "text/plain": [
              "<Figure size 432x288 with 2 Axes>"
            ],
            "image/png": "[encoded data removed]"
          },
          "metadata": {
            "needs_background": "light"
          }
        }
      ]
    },
    {
      "cell_type": "markdown",
      "source": [
        "#### Data Preprocessing"
      ],
      "metadata": {
        "id": "XNR73ixVC-rD"
      }
    },
    {
      "cell_type": "code",
      "source": [
        "# squishing all the values between 0 and 1. \n",
        "# That's only because by default the model starts with weights between 0 and 1\n",
        "# And this way will be easier to guess the better weights\n",
        "train_images=train_images/255.0 \n",
        "test_images=test_images/255.0"
      ],
      "metadata": {
        "id": "TOT2k7hpCxI_"
      },
      "execution_count": 13,
      "outputs": []
    },
    {
      "cell_type": "markdown",
      "source": [
        "#### Building the model"
      ],
      "metadata": {
        "id": "eekX4QiSDtpz"
      }
    },
    {
      "cell_type": "code",
      "source": [
        "model = keras.Sequential ([\n",
        "     keras.layers.Flatten(input_shape=(28,28)),    # input layer : takes the 28*28 matrix and flaten it\n",
        "     keras.layers.Dense(128, activation='relu'),   # hidden layer\n",
        "     keras.layers.Dense(10, activation='softmax'), # output layer : 10 neurons because we have 10 classes\n",
        "    ])"
      ],
      "metadata": {
        "id": "wlRv8JLYDjoM"
      },
      "execution_count": 16,
      "outputs": []
    },
    {
      "cell_type": "markdown",
      "source": [
        "#### Compiling the model"
      ],
      "metadata": {
        "id": "bFM5_0WpFT0F"
      }
    },
    {
      "cell_type": "code",
      "source": [
        "# choose the optimizer, loss function and metrices\n",
        "model.compile(optimizer='adam', \n",
        "              loss='sparse_categorical_crossentropy',\n",
        "              metrics=['accuracy'])"
      ],
      "metadata": {
        "id": "SsWboqCyEWU3"
      },
      "execution_count": 20,
      "outputs": []
    },
    {
      "cell_type": "markdown",
      "source": [
        "#### Training the model"
      ],
      "metadata": {
        "id": "ZYIMp7CaFXML"
      }
    },
    {
      "cell_type": "code",
      "source": [
        "model.fit(train_images, train_labels, epochs=10)"
      ],
      "metadata": {
        "colab": {
          "base_uri": "https://localhost:8080/"
        },
        "id": "SWLraNfyGbEu",
        "outputId": "09191b9b-67ba-4bb5-cb25-2bd72470061d"
      },
      "execution_count": 21,
      "outputs": [
        {
          "output_type": "stream",
          "name": "stdout",
          "text": [
            "Epoch 1/10\n",
            "1875/1875 [==============================] - 5s 2ms/step - loss: 0.4974 - accuracy: 0.8255\n",
            "Epoch 2/10\n",
            "1875/1875 [==============================] - 4s 2ms/step - loss: 0.3747 - accuracy: 0.8643\n",
            "Epoch 3/10\n",
            "1875/1875 [==============================] - 4s 2ms/step - loss: 0.3377 - accuracy: 0.8775\n",
            "Epoch 4/10\n",
            "1875/1875 [==============================] - 4s 2ms/step - loss: 0.3149 - accuracy: 0.8849\n",
            "Epoch 5/10\n",
            "1875/1875 [==============================] - 4s 2ms/step - loss: 0.2947 - accuracy: 0.8923\n",
            "Epoch 6/10\n",
            "1875/1875 [==============================] - 4s 2ms/step - loss: 0.2800 - accuracy: 0.8967\n",
            "Epoch 7/10\n",
            "1875/1875 [==============================] - 4s 2ms/step - loss: 0.2668 - accuracy: 0.9005\n",
            "Epoch 8/10\n",
            "1875/1875 [==============================] - 4s 2ms/step - loss: 0.2560 - accuracy: 0.9047\n",
            "Epoch 9/10\n",
            "1875/1875 [==============================] - 4s 2ms/step - loss: 0.2479 - accuracy: 0.9081\n",
            "Epoch 10/10\n",
            "1875/1875 [==============================] - 4s 2ms/step - loss: 0.2386 - accuracy: 0.9112\n"
          ]
        },
        {
          "output_type": "execute_result",
          "data": {
            "text/plain": [
              "<keras.callbacks.History at 0x7f1085acf050>"
            ]
          },
          "metadata": {},
          "execution_count": 21
        }
      ]
    },
    {
      "cell_type": "markdown",
      "source": [
        "#### Evaluating the model"
      ],
      "metadata": {
        "id": "ezaKHM2RGgvL"
      }
    },
    {
      "cell_type": "code",
      "source": [
        "test_loss, test_acc= model.evaluate(test_images, test_labels, verbose=1) # verbose: how much we are seeing on the screen\n",
        "print('Test Accuracy ', test_acc)"
      ],
      "metadata": {
        "colab": {
          "base_uri": "https://localhost:8080/"
        },
        "id": "ScJ7aadxGihP",
        "outputId": "952ce147-cb30-4071-eb3d-047a9b978af3"
      },
      "execution_count": 22,
      "outputs": [
        {
          "output_type": "stream",
          "name": "stdout",
          "text": [
            "313/313 [==============================] - 1s 2ms/step - loss: 0.3316 - accuracy: 0.8858\n",
            "Test Accuracy  0.8858000040054321\n"
          ]
        }
      ]
    },
    {
      "cell_type": "markdown",
      "source": [
        "The model seems to be overfitted ). The test accuracy is lower than the training accuracy. We need to tune the parameters. \n",
        "\n",
        "Tuning parameters is applied on hyper parameters: number of epochs, optimizer function, number of neurons in hidden layers, ... ."
      ],
      "metadata": {
        "id": "lFqUX0RmHgTS"
      }
    },
    {
      "cell_type": "code",
      "source": [
        "model.fit(train_images, train_labels, epochs=1)"
      ],
      "metadata": {
        "colab": {
          "base_uri": "https://localhost:8080/"
        },
        "id": "deXddmTBHRnc",
        "outputId": "4fe0d0f7-255e-4bc5-a870-f4f43d0c60f0"
      },
      "execution_count": 23,
      "outputs": [
        {
          "output_type": "stream",
          "name": "stdout",
          "text": [
            "1875/1875 [==============================] - 5s 3ms/step - loss: 0.2323 - accuracy: 0.9133\n"
          ]
        },
        {
          "output_type": "execute_result",
          "data": {
            "text/plain": [
              "<keras.callbacks.History at 0x7f10859b2950>"
            ]
          },
          "metadata": {},
          "execution_count": 23
        }
      ]
    },
    {
      "cell_type": "code",
      "source": [
        "test_loss, test_acc= model.evaluate(test_images, test_labels, verbose=1) # verbose: how much we are seeing on the screen\n",
        "print('Test Accuracy ', test_acc)"
      ],
      "metadata": {
        "colab": {
          "base_uri": "https://localhost:8080/"
        },
        "id": "SexNrvPPIFf8",
        "outputId": "2e44d711-5e2f-4c85-d0ec-75010980976f"
      },
      "execution_count": 24,
      "outputs": [
        {
          "output_type": "stream",
          "name": "stdout",
          "text": [
            "313/313 [==============================] - 1s 2ms/step - loss: 0.3417 - accuracy: 0.8806\n",
            "Test Accuracy  0.8805999755859375\n"
          ]
        }
      ]
    },
    {
      "cell_type": "markdown",
      "source": [
        "#### Predections"
      ],
      "metadata": {
        "id": "WGR1oxI7IK93"
      }
    },
    {
      "cell_type": "code",
      "source": [
        "predictions=model.predict(test_images[:5]) # first 5 images\n",
        "print (class_names[np.argmax(predictions[0])]) #  argmax returns the index of the max value in a list"
      ],
      "metadata": {
        "colab": {
          "base_uri": "https://localhost:8080/"
        },
        "id": "1rTtBQ6xIHWO",
        "outputId": "84c227bc-61b3-46ec-8eac-39af976eeb36"
      },
      "execution_count": 31,
      "outputs": [
        {
          "output_type": "stream",
          "name": "stdout",
          "text": [
            "Ankle boot\n"
          ]
        }
      ]
    },
    {
      "cell_type": "code",
      "source": [
        "plt.figure()\n",
        "plt.imshow(test_images[0])\n",
        "plt.colorbar()\n",
        "plt.show() # an example of image (T-Shirt)"
      ],
      "metadata": {
        "colab": {
          "base_uri": "https://localhost:8080/",
          "height": 269
        },
        "id": "bD7HPBjfITOl",
        "outputId": "3212eb9b-3eb3-43b2-f247-06c569446515"
      },
      "execution_count": 32,
      "outputs": [
        {
          "output_type": "display_data",
          "data": {
            "text/plain": [
              "<Figure size 432x288 with 2 Axes>"
            ],
            "image/png": "[encoded data removed]"
          },
          "metadata": {
            "needs_background": "light"
          }
        }
      ]
    }
  ]
}