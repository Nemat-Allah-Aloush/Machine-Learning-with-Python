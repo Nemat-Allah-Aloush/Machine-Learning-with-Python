{
  "nbformat": 4,
  "nbformat_minor": 0,
  "metadata": {
    "colab": {
      "name": "Classification.ipynb",
      "provenance": [],
      "collapsed_sections": []
    },
    "kernelspec": {
      "name": "python3",
      "display_name": "Python 3"
    },
    "language_info": {
      "name": "python"
    }
  },
  "cells": [
    {
      "cell_type": "markdown",
      "source": [
        "## Classification\n",
        "The task of classification is to predict the probability of a specific datapoint is within all the different classes it could be.\n",
        "\n",
        "In this task we will use Iris dataset to predict the type of flower. "
      ],
      "metadata": {
        "id": "Y6D3d-hDo0ki"
      }
    },
    {
      "cell_type": "code",
      "execution_count": 1,
      "metadata": {
        "id": "hc2DCbP1oqal"
      },
      "outputs": [],
      "source": [
        "from __future__ import absolute_import, division, print_function, unicode_literals\n",
        "\n",
        "import pandas as pd #pandas is a data analytic tool, useful to easy manipulate data\n",
        "\n",
        "import tensorflow as tf"
      ]
    },
    {
      "cell_type": "markdown",
      "source": [
        "## Dataset\n",
        "There are 3 different species of Iris flowers in the dataset.\n",
        "\n",
        "\n",
        "*   Setosa\n",
        "*   Versicolor\n",
        "*   Virginica\n",
        "\n",
        "The information about each flower is as follows:\n",
        "\n",
        "*  sepal length\n",
        "*  sepal width\n",
        "*  petal length\n",
        "*  petal width\n",
        "\n",
        "\n"
      ],
      "metadata": {
        "id": "J2QjSeCCpvRj"
      }
    },
    {
      "cell_type": "code",
      "source": [
        "CSV_COLUMN_NAMES=['SepalLength','SepalWidth','PetalLength','PetalWidth','Species']\n",
        "SPECIES=['Setosa','Versicolor','Virginica']"
      ],
      "metadata": {
        "id": "sLeyk1empt69"
      },
      "execution_count": 3,
      "outputs": []
    },
    {
      "cell_type": "code",
      "source": [
        "train_ds_url = \"http://storage.googleapis.com/download.tensorflow.org/data/iris_training.csv\"\n",
        "test_ds_url = \"http://storage.googleapis.com/download.tensorflow.org/data/iris_test.csv\"\n",
        "train_path= tf.keras.utils.get_file(\"iris_training.csv\",train_ds_url)\n",
        "test_path= tf.keras.utils.get_file(\"iris_test.csv\",test_ds_url)\n",
        "train=pd.read_csv(train_path, names=CSV_COLUMN_NAMES, header=0)\n",
        "test=pd.read_csv(test_path, names=CSV_COLUMN_NAMES, header=0)"
      ],
      "metadata": {
        "colab": {
          "base_uri": "https://localhost:8080/"
        },
        "id": "hiROrlEIqyoy",
        "outputId": "b59a14b2-2a13-494b-8762-50fa366bdfb7"
      },
      "execution_count": 7,
      "outputs": [
        {
          "output_type": "stream",
          "name": "stdout",
          "text": [
            "Downloading data from http://storage.googleapis.com/download.tensorflow.org/data/iris_training.csv\n",
            "16384/2194 [================================================================================================================================================================================================================================] - 0s 0us/step\n",
            "Downloading data from http://storage.googleapis.com/download.tensorflow.org/data/iris_test.csv\n",
            "16384/573 [=========================================================================================================================================================================================================================================================================================================================================================================================================================================================================================================================================================================================================================================================================================================================================================================================================================================================================================] - 0s 0us/step\n"
          ]
        }
      ]
    },
    {
      "cell_type": "code",
      "source": [
        "train.head()"
      ],
      "metadata": {
        "colab": {
          "base_uri": "https://localhost:8080/",
          "height": 206
        },
        "id": "s-Fri6SKtH_u",
        "outputId": "9bf8e195-5cda-4e01-ffa7-c5104628cf01"
      },
      "execution_count": 8,
      "outputs": [
        {
          "output_type": "execute_result",
          "data": {
            "text/plain": [
              "   SepalLength  SepalWidth  PetalLength  PetalWidth  Species\n",
              "0          6.4         2.8          5.6         2.2        2\n",
              "1          5.0         2.3          3.3         1.0        1\n",
              "2          4.9         2.5          4.5         1.7        2\n",
              "3          4.9         3.1          1.5         0.1        0\n",
              "4          5.7         3.8          1.7         0.3        0"
            ],
            "text/html": [
              "\n",
              "  <div id=\"df-a84f2223-c2e3-4e7f-b5b9-c72d13db2168\">\n",
              "    <div class=\"colab-df-container\">\n",
              "      <div>\n",
              "<style scoped>\n",
              "    .dataframe tbody tr th:only-of-type {\n",
              "        vertical-align: middle;\n",
              "    }\n",
              "\n",
              "    .dataframe tbody tr th {\n",
              "        vertical-align: top;\n",
              "    }\n",
              "\n",
              "    .dataframe thead th {\n",
              "        text-align: right;\n",
              "    }\n",
              "</style>\n",
              "<table border=\"1\" class=\"dataframe\">\n",
              "  <thead>\n",
              "    <tr style=\"text-align: right;\">\n",
              "      <th></th>\n",
              "      <th>SepalLength</th>\n",
              "      <th>SepalWidth</th>\n",
              "      <th>PetalLength</th>\n",
              "      <th>PetalWidth</th>\n",
              "      <th>Species</th>\n",
              "    </tr>\n",
              "  </thead>\n",
              "  <tbody>\n",
              "    <tr>\n",
              "      <th>0</th>\n",
              "      <td>6.4</td>\n",
              "      <td>2.8</td>\n",
              "      <td>5.6</td>\n",
              "      <td>2.2</td>\n",
              "      <td>2</td>\n",
              "    </tr>\n",
              "    <tr>\n",
              "      <th>1</th>\n",
              "      <td>5.0</td>\n",
              "      <td>2.3</td>\n",
              "      <td>3.3</td>\n",
              "      <td>1.0</td>\n",
              "      <td>1</td>\n",
              "    </tr>\n",
              "    <tr>\n",
              "      <th>2</th>\n",
              "      <td>4.9</td>\n",
              "      <td>2.5</td>\n",
              "      <td>4.5</td>\n",
              "      <td>1.7</td>\n",
              "      <td>2</td>\n",
              "    </tr>\n",
              "    <tr>\n",
              "      <th>3</th>\n",
              "      <td>4.9</td>\n",
              "      <td>3.1</td>\n",
              "      <td>1.5</td>\n",
              "      <td>0.1</td>\n",
              "      <td>0</td>\n",
              "    </tr>\n",
              "    <tr>\n",
              "      <th>4</th>\n",
              "      <td>5.7</td>\n",
              "      <td>3.8</td>\n",
              "      <td>1.7</td>\n",
              "      <td>0.3</td>\n",
              "      <td>0</td>\n",
              "    </tr>\n",
              "  </tbody>\n",
              "</table>\n",
              "</div>\n",
              "      <button class=\"colab-df-convert\" onclick=\"convertToInteractive('df-a84f2223-c2e3-4e7f-b5b9-c72d13db2168')\"\n",
              "              title=\"Convert this dataframe to an interactive table.\"\n",
              "              style=\"display:none;\">\n",
              "        \n",
              "  <svg xmlns=\"http://www.w3.org/2000/svg\" height=\"24px\"viewBox=\"0 0 24 24\"\n",
              "       width=\"24px\">\n",
              "    <path d=\"M0 0h24v24H0V0z\" fill=\"none\"/>\n",
              "    <path d=\"M18.56 5.44l.94 2.06.94-2.06 2.06-.94-2.06-.94-.94-2.06-.94 2.06-2.06.94zm-11 1L8.5 8.5l.94-2.06 2.06-.94-2.06-.94L8.5 2.5l-.94 2.06-2.06.94zm10 10l.94 2.06.94-2.06 2.06-.94-2.06-.94-.94-2.06-.94 2.06-2.06.94z\"/><path d=\"M17.41 7.96l-1.37-1.37c-.4-.4-.92-.59-1.43-.59-.52 0-1.04.2-1.43.59L10.3 9.45l-7.72 7.72c-.78.78-.78 2.05 0 2.83L4 21.41c.39.39.9.59 1.41.59.51 0 1.02-.2 1.41-.59l7.78-7.78 2.81-2.81c.8-.78.8-2.07 0-2.86zM5.41 20L4 18.59l7.72-7.72 1.47 1.35L5.41 20z\"/>\n",
              "  </svg>\n",
              "      </button>\n",
              "      \n",
              "  <style>\n",
              "    .colab-df-container {\n",
              "      display:flex;\n",
              "      flex-wrap:wrap;\n",
              "      gap: 12px;\n",
              "    }\n",
              "\n",
              "    .colab-df-convert {\n",
              "      background-color: #E8F0FE;\n",
              "      border: none;\n",
              "      border-radius: 50%;\n",
              "      cursor: pointer;\n",
              "      display: none;\n",
              "      fill: #1967D2;\n",
              "      height: 32px;\n",
              "      padding: 0 0 0 0;\n",
              "      width: 32px;\n",
              "    }\n",
              "\n",
              "    .colab-df-convert:hover {\n",
              "      background-color: #E2EBFA;\n",
              "      box-shadow: 0px 1px 2px rgba(60, 64, 67, 0.3), 0px 1px 3px 1px rgba(60, 64, 67, 0.15);\n",
              "      fill: #174EA6;\n",
              "    }\n",
              "\n",
              "    [theme=dark] .colab-df-convert {\n",
              "      background-color: #3B4455;\n",
              "      fill: #D2E3FC;\n",
              "    }\n",
              "\n",
              "    [theme=dark] .colab-df-convert:hover {\n",
              "      background-color: #434B5C;\n",
              "      box-shadow: 0px 1px 3px 1px rgba(0, 0, 0, 0.15);\n",
              "      filter: drop-shadow(0px 1px 2px rgba(0, 0, 0, 0.3));\n",
              "      fill: #FFFFFF;\n",
              "    }\n",
              "  </style>\n",
              "\n",
              "      <script>\n",
              "        const buttonEl =\n",
              "          document.querySelector('#df-a84f2223-c2e3-4e7f-b5b9-c72d13db2168 button.colab-df-convert');\n",
              "        buttonEl.style.display =\n",
              "          google.colab.kernel.accessAllowed ? 'block' : 'none';\n",
              "\n",
              "        async function convertToInteractive(key) {\n",
              "          const element = document.querySelector('#df-a84f2223-c2e3-4e7f-b5b9-c72d13db2168');\n",
              "          const dataTable =\n",
              "            await google.colab.kernel.invokeFunction('convertToInteractive',\n",
              "                                                     [key], {});\n",
              "          if (!dataTable) return;\n",
              "\n",
              "          const docLinkHtml = 'Like what you see? Visit the ' +\n",
              "            '<a target=\"_blank\" href=https://colab.research.google.com/notebooks/data_table.ipynb>data table notebook</a>'\n",
              "            + ' to learn more about interactive tables.';\n",
              "          element.innerHTML = '';\n",
              "          dataTable['output_type'] = 'display_data';\n",
              "          await google.colab.output.renderOutput(dataTable, element);\n",
              "          const docLink = document.createElement('div');\n",
              "          docLink.innerHTML = docLinkHtml;\n",
              "          element.appendChild(docLink);\n",
              "        }\n",
              "      </script>\n",
              "    </div>\n",
              "  </div>\n",
              "  "
            ]
          },
          "metadata": {},
          "execution_count": 8
        }
      ]
    },
    {
      "cell_type": "code",
      "source": [
        "# Get the labels\n",
        "train_y= train.pop('Species')\n",
        "test_y= test.pop('Species')"
      ],
      "metadata": {
        "id": "2nh4WP7rxrnG"
      },
      "execution_count": 9,
      "outputs": []
    },
    {
      "cell_type": "markdown",
      "source": [
        "## Input function"
      ],
      "metadata": {
        "id": "TJHMxRWwydzy"
      }
    },
    {
      "cell_type": "code",
      "source": [
        "# a function to create the dataset in a form that meets the requirments\n",
        "def input_function(features, labels, training=True, batch_size=256): \n",
        "  ds=tf.data.Dataset.from_tensor_slices((dict(features), labels))\n",
        "  if training:\n",
        "    ds=ds.shuffle(1000).repeat() #randomize order of data\n",
        "  return ds.batch(batch_size)"
      ],
      "metadata": {
        "id": "Y0GQsc8sx1RE"
      },
      "execution_count": 10,
      "outputs": []
    },
    {
      "cell_type": "markdown",
      "source": [
        "## Feature columns"
      ],
      "metadata": {
        "id": "xdsXyjTdzZgh"
      }
    },
    {
      "cell_type": "code",
      "source": [
        "feature_cols=[]\n",
        "for key in train.keys(): # train.keys: return the column names\n",
        "  feature_cols.append(tf.feature_column.numeric_column(key=key))\n",
        "print(feature_cols)"
      ],
      "metadata": {
        "colab": {
          "base_uri": "https://localhost:8080/"
        },
        "id": "PShzaVdmzbtx",
        "outputId": "f65e19bd-60c3-42f9-e12a-4cef164991a5"
      },
      "execution_count": 11,
      "outputs": [
        {
          "output_type": "stream",
          "name": "stdout",
          "text": [
            "[NumericColumn(key='SepalLength', shape=(1,), default_value=None, dtype=tf.float32, normalizer_fn=None), NumericColumn(key='SepalWidth', shape=(1,), default_value=None, dtype=tf.float32, normalizer_fn=None), NumericColumn(key='PetalLength', shape=(1,), default_value=None, dtype=tf.float32, normalizer_fn=None), NumericColumn(key='PetalWidth', shape=(1,), default_value=None, dtype=tf.float32, normalizer_fn=None)]\n"
          ]
        }
      ]
    },
    {
      "cell_type": "markdown",
      "source": [
        "## Building the classification model\n",
        "\n",
        "There are pre-built classification models in Tensorflow, some of them:\n",
        "*  DNNClassifier(Deep Neural Network)\n",
        "*  LinearClassifier: works similary to the linear regression model.\n",
        "\n",
        "Tensorflow recommend to use DNNClassifier.\n",
        "\n"
      ],
      "metadata": {
        "id": "15Z2jl4f0Iiy"
      }
    },
    {
      "cell_type": "code",
      "source": [
        "# Building a DNN with 2 hidden layers, the first with 30 hidden nodes and the second with 10 hidden nodes.\n",
        "classifier= tf.estimator.DNNClassifier(\n",
        "    feature_columns=feature_cols,\n",
        "    hidden_units=[30,10],\n",
        "    n_classes=3\n",
        ")"
      ],
      "metadata": {
        "colab": {
          "base_uri": "https://localhost:8080/"
        },
        "id": "VdiGr5Gz0MXx",
        "outputId": "94017135-237c-4910-804c-5746a99ee20b"
      },
      "execution_count": 13,
      "outputs": [
        {
          "output_type": "stream",
          "name": "stdout",
          "text": [
            "INFO:tensorflow:Using default config.\n",
            "WARNING:tensorflow:Using temporary folder as model directory: /tmp/tmpzz2coqod\n",
            "INFO:tensorflow:Using config: {'_model_dir': '/tmp/tmpzz2coqod', '_tf_random_seed': None, '_save_summary_steps': 100, '_save_checkpoints_steps': None, '_save_checkpoints_secs': 600, '_session_config': allow_soft_placement: true\n",
            "graph_options {\n",
            "  rewrite_options {\n",
            "    meta_optimizer_iterations: ONE\n",
            "  }\n",
            "}\n",
            ", '_keep_checkpoint_max': 5, '_keep_checkpoint_every_n_hours': 10000, '_log_step_count_steps': 100, '_train_distribute': None, '_device_fn': None, '_protocol': None, '_eval_distribute': None, '_experimental_distribute': None, '_experimental_max_worker_delay_secs': None, '_session_creation_timeout_secs': 7200, '_checkpoint_save_graph_def': True, '_service': None, '_cluster_spec': ClusterSpec({}), '_task_type': 'worker', '_task_id': 0, '_global_id_in_cluster': 0, '_master': '', '_evaluation_master': '', '_is_chief': True, '_num_ps_replicas': 0, '_num_worker_replicas': 1}\n"
          ]
        }
      ]
    },
    {
      "cell_type": "markdown",
      "source": [
        "## Training"
      ],
      "metadata": {
        "id": "simaZdU61W1J"
      }
    },
    {
      "cell_type": "code",
      "source": [
        "classifier.train(input_fn=lambda: input_function(train,train_y),steps=5000)\n",
        "# A training step is one gradient update. \n",
        "# In one step batch_size examples are processed. \n",
        "# An epoch consists of one full cycle through the training data. This is usually many steps."
      ],
      "metadata": {
        "colab": {
          "base_uri": "https://localhost:8080/"
        },
        "id": "hNf9RMX41YYn",
        "outputId": "740c34f7-3f75-403b-d554-c3f9309c6212"
      },
      "execution_count": 14,
      "outputs": [
        {
          "output_type": "stream",
          "name": "stdout",
          "text": [
            "WARNING:tensorflow:From /usr/local/lib/python3.7/dist-packages/tensorflow/python/training/training_util.py:397: Variable.initialized_value (from tensorflow.python.ops.variables) is deprecated and will be removed in a future version.\n",
            "Instructions for updating:\n",
            "Use Variable.read_value. Variables in 2.X are initialized automatically both in eager and graph (inside tf.defun) contexts.\n",
            "INFO:tensorflow:Calling model_fn.\n",
            "WARNING:tensorflow:From /usr/local/lib/python3.7/dist-packages/keras/optimizer_v2/adagrad.py:84: calling Constant.__init__ (from tensorflow.python.ops.init_ops) with dtype is deprecated and will be removed in a future version.\n",
            "Instructions for updating:\n",
            "Call initializer instance with the dtype argument instead of passing it to the constructor\n",
            "INFO:tensorflow:Done calling model_fn.\n",
            "INFO:tensorflow:Create CheckpointSaverHook.\n",
            "INFO:tensorflow:Graph was finalized.\n",
            "INFO:tensorflow:Running local_init_op.\n",
            "INFO:tensorflow:Done running local_init_op.\n",
            "INFO:tensorflow:Calling checkpoint listeners before saving checkpoint 0...\n",
            "INFO:tensorflow:Saving checkpoints for 0 into /tmp/tmpzz2coqod/model.ckpt.\n",
            "INFO:tensorflow:Calling checkpoint listeners after saving checkpoint 0...\n",
            "INFO:tensorflow:loss = 1.386832, step = 0\n",
            "INFO:tensorflow:global_step/sec: 345.524\n",
            "INFO:tensorflow:loss = 0.99469614, step = 100 (0.294 sec)\n",
            "INFO:tensorflow:global_step/sec: 453.732\n",
            "INFO:tensorflow:loss = 0.9130411, step = 200 (0.220 sec)\n",
            "INFO:tensorflow:global_step/sec: 448.341\n",
            "INFO:tensorflow:loss = 0.8685493, step = 300 (0.225 sec)\n",
            "INFO:tensorflow:global_step/sec: 472.275\n",
            "INFO:tensorflow:loss = 0.8392302, step = 400 (0.212 sec)\n",
            "INFO:tensorflow:global_step/sec: 476.52\n",
            "INFO:tensorflow:loss = 0.82025325, step = 500 (0.207 sec)\n",
            "INFO:tensorflow:global_step/sec: 430.342\n",
            "INFO:tensorflow:loss = 0.7973277, step = 600 (0.235 sec)\n",
            "INFO:tensorflow:global_step/sec: 445.541\n",
            "INFO:tensorflow:loss = 0.77949727, step = 700 (0.221 sec)\n",
            "INFO:tensorflow:global_step/sec: 453.368\n",
            "INFO:tensorflow:loss = 0.7593168, step = 800 (0.220 sec)\n",
            "INFO:tensorflow:global_step/sec: 462.943\n",
            "INFO:tensorflow:loss = 0.7446857, step = 900 (0.217 sec)\n",
            "INFO:tensorflow:global_step/sec: 447.988\n",
            "INFO:tensorflow:loss = 0.7369894, step = 1000 (0.223 sec)\n",
            "INFO:tensorflow:global_step/sec: 461.711\n",
            "INFO:tensorflow:loss = 0.7095182, step = 1100 (0.218 sec)\n",
            "INFO:tensorflow:global_step/sec: 453.86\n",
            "INFO:tensorflow:loss = 0.6971179, step = 1200 (0.221 sec)\n",
            "INFO:tensorflow:global_step/sec: 488.98\n",
            "INFO:tensorflow:loss = 0.6897631, step = 1300 (0.204 sec)\n",
            "INFO:tensorflow:global_step/sec: 449.152\n",
            "INFO:tensorflow:loss = 0.67893493, step = 1400 (0.223 sec)\n",
            "INFO:tensorflow:global_step/sec: 455.28\n",
            "INFO:tensorflow:loss = 0.6629528, step = 1500 (0.219 sec)\n",
            "INFO:tensorflow:global_step/sec: 471.139\n",
            "INFO:tensorflow:loss = 0.6455458, step = 1600 (0.213 sec)\n",
            "INFO:tensorflow:global_step/sec: 481.643\n",
            "INFO:tensorflow:loss = 0.64313626, step = 1700 (0.205 sec)\n",
            "INFO:tensorflow:global_step/sec: 437.291\n",
            "INFO:tensorflow:loss = 0.62495196, step = 1800 (0.229 sec)\n",
            "INFO:tensorflow:global_step/sec: 460.425\n",
            "INFO:tensorflow:loss = 0.6287173, step = 1900 (0.220 sec)\n",
            "INFO:tensorflow:global_step/sec: 452.735\n",
            "INFO:tensorflow:loss = 0.6186062, step = 2000 (0.218 sec)\n",
            "INFO:tensorflow:global_step/sec: 512.613\n",
            "INFO:tensorflow:loss = 0.5972668, step = 2100 (0.198 sec)\n",
            "INFO:tensorflow:global_step/sec: 484.688\n",
            "INFO:tensorflow:loss = 0.5833571, step = 2200 (0.204 sec)\n",
            "INFO:tensorflow:global_step/sec: 484.484\n",
            "INFO:tensorflow:loss = 0.5865611, step = 2300 (0.208 sec)\n",
            "INFO:tensorflow:global_step/sec: 471.629\n",
            "INFO:tensorflow:loss = 0.5756781, step = 2400 (0.210 sec)\n",
            "INFO:tensorflow:global_step/sec: 477.768\n",
            "INFO:tensorflow:loss = 0.5588331, step = 2500 (0.209 sec)\n",
            "INFO:tensorflow:global_step/sec: 470.666\n",
            "INFO:tensorflow:loss = 0.5620041, step = 2600 (0.215 sec)\n",
            "INFO:tensorflow:global_step/sec: 460.077\n",
            "INFO:tensorflow:loss = 0.5498016, step = 2700 (0.217 sec)\n",
            "INFO:tensorflow:global_step/sec: 449.164\n",
            "INFO:tensorflow:loss = 0.5426301, step = 2800 (0.223 sec)\n",
            "INFO:tensorflow:global_step/sec: 454.108\n",
            "INFO:tensorflow:loss = 0.5394564, step = 2900 (0.219 sec)\n",
            "INFO:tensorflow:global_step/sec: 440.244\n",
            "INFO:tensorflow:loss = 0.531441, step = 3000 (0.228 sec)\n",
            "INFO:tensorflow:global_step/sec: 492.761\n",
            "INFO:tensorflow:loss = 0.52462983, step = 3100 (0.201 sec)\n",
            "INFO:tensorflow:global_step/sec: 474.971\n",
            "INFO:tensorflow:loss = 0.5143806, step = 3200 (0.217 sec)\n",
            "INFO:tensorflow:global_step/sec: 484.448\n",
            "INFO:tensorflow:loss = 0.511873, step = 3300 (0.199 sec)\n",
            "INFO:tensorflow:global_step/sec: 465.334\n",
            "INFO:tensorflow:loss = 0.51263475, step = 3400 (0.216 sec)\n",
            "INFO:tensorflow:global_step/sec: 484.551\n",
            "INFO:tensorflow:loss = 0.5024694, step = 3500 (0.206 sec)\n",
            "INFO:tensorflow:global_step/sec: 485.147\n",
            "INFO:tensorflow:loss = 0.4958432, step = 3600 (0.209 sec)\n",
            "INFO:tensorflow:global_step/sec: 438.867\n",
            "INFO:tensorflow:loss = 0.4884057, step = 3700 (0.225 sec)\n",
            "INFO:tensorflow:global_step/sec: 458.856\n",
            "INFO:tensorflow:loss = 0.48630136, step = 3800 (0.218 sec)\n",
            "INFO:tensorflow:global_step/sec: 435.227\n",
            "INFO:tensorflow:loss = 0.48181152, step = 3900 (0.233 sec)\n",
            "INFO:tensorflow:global_step/sec: 451.279\n",
            "INFO:tensorflow:loss = 0.4828354, step = 4000 (0.222 sec)\n",
            "INFO:tensorflow:global_step/sec: 478.74\n",
            "INFO:tensorflow:loss = 0.47510207, step = 4100 (0.209 sec)\n",
            "INFO:tensorflow:global_step/sec: 464.773\n",
            "INFO:tensorflow:loss = 0.4725601, step = 4200 (0.213 sec)\n",
            "INFO:tensorflow:global_step/sec: 472.101\n",
            "INFO:tensorflow:loss = 0.456483, step = 4300 (0.213 sec)\n",
            "INFO:tensorflow:global_step/sec: 434.348\n",
            "INFO:tensorflow:loss = 0.4631905, step = 4400 (0.228 sec)\n",
            "INFO:tensorflow:global_step/sec: 251.688\n",
            "INFO:tensorflow:loss = 0.45198333, step = 4500 (0.397 sec)\n",
            "INFO:tensorflow:global_step/sec: 133.633\n",
            "INFO:tensorflow:loss = 0.4561749, step = 4600 (0.755 sec)\n",
            "INFO:tensorflow:global_step/sec: 249.532\n",
            "INFO:tensorflow:loss = 0.45472178, step = 4700 (0.396 sec)\n",
            "INFO:tensorflow:global_step/sec: 424.709\n",
            "INFO:tensorflow:loss = 0.45146433, step = 4800 (0.237 sec)\n",
            "INFO:tensorflow:global_step/sec: 394.141\n",
            "INFO:tensorflow:loss = 0.43555427, step = 4900 (0.254 sec)\n",
            "INFO:tensorflow:Calling checkpoint listeners before saving checkpoint 5000...\n",
            "INFO:tensorflow:Saving checkpoints for 5000 into /tmp/tmpzz2coqod/model.ckpt.\n",
            "INFO:tensorflow:Calling checkpoint listeners after saving checkpoint 5000...\n",
            "INFO:tensorflow:Loss for final step: 0.4358394.\n"
          ]
        },
        {
          "output_type": "execute_result",
          "data": {
            "text/plain": [
              "<tensorflow_estimator.python.estimator.canned.dnn.DNNClassifierV2 at 0x7f068ea5aa90>"
            ]
          },
          "metadata": {},
          "execution_count": 14
        }
      ]
    },
    {
      "cell_type": "markdown",
      "source": [
        "## Evaluating\n"
      ],
      "metadata": {
        "id": "Pk7nRyKI2-xR"
      }
    },
    {
      "cell_type": "code",
      "source": [
        "eval_result =classifier.evaluate(input_fn=lambda:input_function(test,test_y,training=False))"
      ],
      "metadata": {
        "colab": {
          "base_uri": "https://localhost:8080/"
        },
        "id": "1ZDSJXeU3Aop",
        "outputId": "6a98825e-3193-4e6a-f26a-86b802470d14"
      },
      "execution_count": 16,
      "outputs": [
        {
          "output_type": "stream",
          "name": "stdout",
          "text": [
            "INFO:tensorflow:Calling model_fn.\n",
            "INFO:tensorflow:Done calling model_fn.\n",
            "INFO:tensorflow:Starting evaluation at 2022-04-11T09:04:39\n",
            "INFO:tensorflow:Graph was finalized.\n",
            "INFO:tensorflow:Restoring parameters from /tmp/tmpzz2coqod/model.ckpt-5000\n",
            "INFO:tensorflow:Running local_init_op.\n",
            "INFO:tensorflow:Done running local_init_op.\n",
            "INFO:tensorflow:Inference Time : 0.56982s\n",
            "INFO:tensorflow:Finished evaluation at 2022-04-11-09:04:39\n",
            "INFO:tensorflow:Saving dict for global step 5000: accuracy = 0.9, average_loss = 0.500116, global_step = 5000, loss = 0.500116\n",
            "INFO:tensorflow:Saving 'checkpoint_path' summary for global step 5000: /tmp/tmpzz2coqod/model.ckpt-5000\n"
          ]
        }
      ]
    },
    {
      "cell_type": "code",
      "source": [
        "print(\"Test accuracy: {accuracy: 0.3f} \".format(**eval_result))"
      ],
      "metadata": {
        "colab": {
          "base_uri": "https://localhost:8080/"
        },
        "id": "A9Y_vLyX3POG",
        "outputId": "342ee987-ecbc-4837-d352-30ea40c5d65b"
      },
      "execution_count": 21,
      "outputs": [
        {
          "output_type": "stream",
          "name": "stdout",
          "text": [
            "Test accuracy:  0.900 \n"
          ]
        }
      ]
    },
    {
      "cell_type": "markdown",
      "source": [
        "## Predection"
      ],
      "metadata": {
        "id": "zWQfCnaL5hQY"
      }
    },
    {
      "cell_type": "code",
      "source": [
        "def input_fun(features,batch_size=256):\n",
        "  return tf.data.Dataset.from_tensor_slices(dict(features)).batch(batch_size)\n",
        "\n",
        "features=['SepalLength','SepalWidth','PetalLength','PetalWidth']\n",
        "predict={}\n",
        "print(\"Please type numeric values as prompoted.\")\n",
        "\n",
        "for feature in features: \n",
        "  valid=True\n",
        "  while valid:\n",
        "    val=input(feature + \": \")\n",
        "    if not val.isdigit():valid=False\n",
        "\n",
        "  predict[feature]=[float(val)]\n",
        "\n",
        "predections=classifier.predict(input_fn=lambda: input_fun(predict))\n",
        "for pred_dict in predections:\n",
        "  print(pred_dict)\n",
        "  class_id=pred_dict['class_ids'][0]\n",
        "  probability= pred_dict['probabilities'][class_id]\n",
        "  print('Predictions is \"{}\" ({:.1f}%)'.format(SPECIES[class_id], 100*probability))"
      ],
      "metadata": {
        "colab": {
          "base_uri": "https://localhost:8080/"
        },
        "id": "AeS5yEJr5Pcl",
        "outputId": "d9a3113c-96df-4057-d220-216b83332a5c"
      },
      "execution_count": 26,
      "outputs": [
        {
          "output_type": "stream",
          "name": "stdout",
          "text": [
            "Please type numeric values as prompoted.\n",
            "SepalLength: 1.1\n",
            "SepalWidth: 2.1\n",
            "PetalLength: 3.1\n",
            "PetalWidth: 4.1\n",
            "INFO:tensorflow:Calling model_fn.\n",
            "INFO:tensorflow:Done calling model_fn.\n",
            "INFO:tensorflow:Graph was finalized.\n",
            "INFO:tensorflow:Restoring parameters from /tmp/tmpzz2coqod/model.ckpt-5000\n",
            "INFO:tensorflow:Running local_init_op.\n",
            "INFO:tensorflow:Done running local_init_op.\n",
            "{'logits': array([-1.0505493 , -0.18821499,  0.31681746], dtype=float32), 'probabilities': array([0.1371049 , 0.3247581 , 0.53813696], dtype=float32), 'class_ids': array([2]), 'classes': array([b'2'], dtype=object), 'all_class_ids': array([0, 1, 2], dtype=int32), 'all_classes': array([b'0', b'1', b'2'], dtype=object)}\n",
            "Predictions is \"Virginica\" (53.8%)\n"
          ]
        }
      ]
    },
    {
      "cell_type": "code",
      "source": [
        ""
      ],
      "metadata": {
        "id": "sdD7HLw_7oBl"
      },
      "execution_count": null,
      "outputs": []
    }
  ]
}