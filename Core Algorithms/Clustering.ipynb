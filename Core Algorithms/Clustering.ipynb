{
  "nbformat": 4,
  "nbformat_minor": 0,
  "metadata": {
    "colab": {
      "name": "Clustering.ipynb",
      "provenance": [],
      "collapsed_sections": []
    },
    "kernelspec": {
      "name": "python3",
      "display_name": "Python 3"
    },
    "language_info": {
      "name": "python"
    }
  },
  "cells": [
    {
      "cell_type": "markdown",
      "source": [
        "## Clustering\n",
        "Clustring is an unsupervised machine learning algorithm that groups datapoints into clusters.\n",
        "\n",
        "We use clustering when we have data with features but no labels. \n",
        "\n",
        "The K-Means algorithm steps:\n",
        "\n",
        "\n",
        "1.   Randomly picking k points to place k centroids.\n",
        "2.   Assign all of the data points to the centroids by distance. The closet centroid to a point is the one it is assigned to.\n",
        "3.   Average all of the points belonging to each centroid to find the middle of those clusters. Place the corresponding centroids into that position.\n",
        "4.   Reassign every point once again to the closet centroid.\n",
        "5.   Repeat steps 3-4 untill no point changes which centroid it belongs to.\n",
        "\n",
        "\n"
      ],
      "metadata": {
        "id": "qx0olgrSkkuU"
      }
    }
  ]
}