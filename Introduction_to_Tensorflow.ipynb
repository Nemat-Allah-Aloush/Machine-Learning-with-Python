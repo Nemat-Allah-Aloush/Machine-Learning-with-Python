{
  "nbformat": 4,
  "nbformat_minor": 0,
  "metadata": {
    "colab": {
      "name": "Introduction to Tensorflow.ipynb",
      "provenance": [],
      "collapsed_sections": []
    },
    "kernelspec": {
      "name": "python3",
      "display_name": "Python 3"
    },
    "language_info": {
      "name": "python"
    }
  },
  "cells": [
    {
      "cell_type": "code",
      "source": [
        "import tensorflow as tf"
      ],
      "metadata": {
        "id": "9InDHHtmyWsH"
      },
      "execution_count": null,
      "outputs": []
    },
    {
      "cell_type": "markdown",
      "source": [
        "\"A tensor is a generalization of vectors and matrecies to potentially higher dimensions. Interally, Tensorflow represents tensor as n-dimensional arrays of base datatypes\"\n",
        "\n",
        "Each tensor has a type, and a shape.\n",
        "\n",
        "Shape represents the dimension of data."
      ],
      "metadata": {
        "id": "4CnTybnTyz69"
      }
    },
    {
      "cell_type": "markdown",
      "source": [
        "## Creating tensors"
      ],
      "metadata": {
        "id": "exOeYZ3KyQy9"
      }
    },
    {
      "cell_type": "markdown",
      "source": [
        "shapes equal to one are named scalar values."
      ],
      "metadata": {
        "id": "tUpxLnFX0bfj"
      }
    },
    {
      "cell_type": "code",
      "execution_count": null,
      "metadata": {
        "id": "Khp74RGQyGc8"
      },
      "outputs": [],
      "source": [
        "string_tensor = tf.Variable(\"Tensor string\", tf.string) #value and datatype\n",
        "number_tensor=tf.Variable(77, tf.int16)\n",
        "floating_tensor = tf.Variable (77.7, tf.float64)"
      ]
    },
    {
      "cell_type": "markdown",
      "source": [
        "## Rank/Degree of Tensors\n",
        "The number of dimensions in the tensor.\n",
        "\n",
        "Tensors with one values (scalars) have a rank equal to zero.\n",
        "\n",
        "When we have an array or a list, we have at least rank one."
      ],
      "metadata": {
        "id": "MwqKuaXL0i9M"
      }
    },
    {
      "cell_type": "code",
      "source": [
        "one_rank=tf.Variable ([\"i\"],tf.string)\n",
        "two_rank=tf.Variable ([[\"i\",\"i\"],[\"ii\",\"ii\"],[\"iii\",\"iii\"]],tf.string)"
      ],
      "metadata": {
        "id": "wGGCC4no0WYs"
      },
      "execution_count": null,
      "outputs": []
    },
    {
      "cell_type": "code",
      "source": [
        "tf.rank(two_rank) # the last parameter numpy=? is the rank "
      ],
      "metadata": {
        "colab": {
          "base_uri": "https://localhost:8080/"
        },
        "id": "zjkLxfCC1ZET",
        "outputId": "66d8afc4-05dd-4c76-d88c-4b7d4d45de5a"
      },
      "execution_count": null,
      "outputs": [
        {
          "output_type": "execute_result",
          "data": {
            "text/plain": [
              "<tf.Tensor: shape=(), dtype=int32, numpy=2>"
            ]
          },
          "metadata": {},
          "execution_count": 13
        }
      ]
    },
    {
      "cell_type": "markdown",
      "source": [
        "## Shape of tensor\n",
        "A shape is how many items we have in each dimension\n"
      ],
      "metadata": {
        "id": "k3BCBNz11rkb"
      }
    },
    {
      "cell_type": "code",
      "source": [
        "two_rank.shape \n",
        "# 3 elements in the 1st dimension and 2 elements in the 2nd dimension\n",
        "# we have 3 lists and two elements in each of them "
      ],
      "metadata": {
        "colab": {
          "base_uri": "https://localhost:8080/"
        },
        "id": "TCZUv0xK1vXC",
        "outputId": "59984132-f0d7-48ba-b041-3593c3c11c20"
      },
      "execution_count": null,
      "outputs": [
        {
          "output_type": "execute_result",
          "data": {
            "text/plain": [
              "TensorShape([3, 2])"
            ]
          },
          "metadata": {},
          "execution_count": 14
        }
      ]
    },
    {
      "cell_type": "markdown",
      "source": [
        "## Changing the number of shape of tensors\n",
        "we can represent the same amount of elements in different shapes"
      ],
      "metadata": {
        "id": "JpO7AS8Z3L-z"
      }
    },
    {
      "cell_type": "code",
      "source": [
        "tensor1 = tf.ones([1,2,3])\n",
        "tensor2= tf.reshape(tensor1, [2,3,1])\n",
        "tensor3= tf.reshape(tensor2, [3,-1])\n",
        "# -1 tells the tensor to calculate the size of the dimension in that place "
      ],
      "metadata": {
        "id": "ZKdhecrv12T5"
      },
      "execution_count": null,
      "outputs": []
    },
    {
      "cell_type": "code",
      "source": [
        "print(tensor1) \n",
        "# we have one interial list, and two lists inside of that list and 3 elements in each them\n",
        "print(tensor2)\n",
        "# reshape data to have 6 elements but in different shape.\n",
        "print(tensor3)"
      ],
      "metadata": {
        "colab": {
          "base_uri": "https://localhost:8080/"
        },
        "id": "ByzAWSBM3qSf",
        "outputId": "87383e60-752e-4a2f-b36c-726c2916bae9"
      },
      "execution_count": null,
      "outputs": [
        {
          "output_type": "stream",
          "name": "stdout",
          "text": [
            "tf.Tensor(\n",
            "[[[1. 1. 1.]\n",
            "  [1. 1. 1.]]], shape=(1, 2, 3), dtype=float32)\n",
            "tf.Tensor(\n",
            "[[[1.]\n",
            "  [1.]\n",
            "  [1.]]\n",
            "\n",
            " [[1.]\n",
            "  [1.]\n",
            "  [1.]]], shape=(2, 3, 1), dtype=float32)\n",
            "tf.Tensor(\n",
            "[[1. 1.]\n",
            " [1. 1.]\n",
            " [1. 1.]], shape=(3, 2), dtype=float32)\n"
          ]
        }
      ]
    },
    {
      "cell_type": "markdown",
      "source": [
        "## Types of tensors\n",
        "\n",
        "*   Variable\n",
        "*   Constant\n",
        "*   Placeholder\n",
        "*   SparseTensor\n",
        "\n",
        "Variable tensor could change. However the other tensor types are immutable, which means they may not be changed during execution.\n",
        "\n"
      ],
      "metadata": {
        "id": "DVXj7P1D5-2r"
      }
    },
    {
      "cell_type": "markdown",
      "source": [
        "## Evaluating Tensors\n",
        "Evaluating a tensor means to get its value. "
      ],
      "metadata": {
        "id": "ZOM1TvzkEyy2"
      }
    },
    {
      "cell_type": "code",
      "source": [
        "tf.print(tensor1)"
      ],
      "metadata": {
        "colab": {
          "base_uri": "https://localhost:8080/"
        },
        "id": "mr5-HgcnFLw0",
        "outputId": "9a872ad4-ac47-4d5e-c4a7-283aaf71f5c9"
      },
      "execution_count": null,
      "outputs": [
        {
          "output_type": "stream",
          "name": "stdout",
          "text": [
            "[[[1 1 1]\n",
            "  [1 1 1]]]\n"
          ]
        }
      ]
    },
    {
      "cell_type": "markdown",
      "source": [
        "## Example"
      ],
      "metadata": {
        "id": "d-xCvJK6MupW"
      }
    },
    {
      "cell_type": "code",
      "source": [
        "t= tf.zeros([2,2,2,2]) \n",
        "# => number of elements is equal to the product of the shapes 2*2*2*2=16\n",
        "print(t)"
      ],
      "metadata": {
        "colab": {
          "base_uri": "https://localhost:8080/"
        },
        "id": "BF6TRvqPMxH1",
        "outputId": "afd56076-ece4-4c3f-e879-41feae449048"
      },
      "execution_count": null,
      "outputs": [
        {
          "output_type": "stream",
          "name": "stdout",
          "text": [
            "tf.Tensor(\n",
            "[[[[0. 0.]\n",
            "   [0. 0.]]\n",
            "\n",
            "  [[0. 0.]\n",
            "   [0. 0.]]]\n",
            "\n",
            "\n",
            " [[[0. 0.]\n",
            "   [0. 0.]]\n",
            "\n",
            "  [[0. 0.]\n",
            "   [0. 0.]]]], shape=(2, 2, 2, 2), dtype=float32)\n"
          ]
        }
      ]
    },
    {
      "cell_type": "code",
      "source": [
        "tf.reshape(t,[16]) # reshaping"
      ],
      "metadata": {
        "colab": {
          "base_uri": "https://localhost:8080/"
        },
        "id": "k8kkJ-b4M03-",
        "outputId": "11f7cb72-329b-4695-8e38-174e7d2b430a"
      },
      "execution_count": null,
      "outputs": [
        {
          "output_type": "execute_result",
          "data": {
            "text/plain": [
              "<tf.Tensor: shape=(16,), dtype=float32, numpy=\n",
              "array([0., 0., 0., 0., 0., 0., 0., 0., 0., 0., 0., 0., 0., 0., 0., 0.],\n",
              "      dtype=float32)>"
            ]
          },
          "metadata": {},
          "execution_count": 29
        }
      ]
    },
    {
      "cell_type": "code",
      "source": [
        "tf.reshape(t,[8,-1]) #reshaping"
      ],
      "metadata": {
        "colab": {
          "base_uri": "https://localhost:8080/"
        },
        "id": "2RptbQ5cOASH",
        "outputId": "4416a19e-3cf2-47cb-e6ed-4761fe4077b2"
      },
      "execution_count": null,
      "outputs": [
        {
          "output_type": "execute_result",
          "data": {
            "text/plain": [
              "<tf.Tensor: shape=(8, 2), dtype=float32, numpy=\n",
              "array([[0., 0.],\n",
              "       [0., 0.],\n",
              "       [0., 0.],\n",
              "       [0., 0.],\n",
              "       [0., 0.],\n",
              "       [0., 0.],\n",
              "       [0., 0.],\n",
              "       [0., 0.]], dtype=float32)>"
            ]
          },
          "metadata": {},
          "execution_count": 30
        }
      ]
    }
  ]
}