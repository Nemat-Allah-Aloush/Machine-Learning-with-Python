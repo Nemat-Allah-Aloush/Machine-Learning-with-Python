{
  "cells": [
    {
      "cell_type": "code",
      "execution_count": null,
      "metadata": {},
      "outputs": [],
      "source": [
        "! pip install -q sklearn"
      ]
    },
    {
      "cell_type": "code",
      "execution_count": null,
      "metadata": {},
      "outputs": [],
      "source": [
        "from __future__ import absolute_import, division, print_function, unicode_literals\n",
        "\n",
        "import numpy as np  #numpy is a very optimized version of arrays in python\n",
        "import pandas as pd #pandas is a data analytic tool, useful to easy manipulate data\n",
        "import matplotlib.pyplot as plt\n",
        "from IPython.display import clear_output\n",
        "from six.moves import urllib\n",
        "\n",
        "import tensorflow.compat.v2.feature_column as fc\n",
        "import tensorflow as tf\n"
      ]
    },
    {
      "cell_type": "markdown",
      "metadata": {
        "id": "TVsBAwcNskVx"
      },
      "source": [
        "## Dataset\n",
        "The data we will be using is Titanic dataset.\n",
        "\n",
        "The task is to find the likelhood of a person to survive giving some inforamtion about them.\n",
        "\n",
        "The information given about people in the Titanic are:\n",
        "1. Sٍex.\n",
        "2. Age.\n",
        "3. number of siblings/spouses.\n",
        "4. Parch: Number of parents and children.\n",
        "5. Fare: How much they paid to get on the ship.\n",
        "6. Class.\n",
        "7. Deck.\n",
        "8. embark_town.\n",
        "9. Alone, or not.\n",
        "10. Survived or not."
      ]
    },
    {
      "cell_type": "code",
      "execution_count": 5,
      "metadata": {
        "id": "McY87rYNuQRm"
      },
      "outputs": [],
      "source": [
        "# loading dataset to dataframe\n",
        "dftrain= pd.read_csv('https://storage.googleapis.com/tf-datasets/titanic/train.csv') # training\n",
        "dfeval= pd.read_csv('https://storage.googleapis.com/tf-datasets/titanic/eval.csv') # testing\n",
        "# poping the column with the label in both train and evaluation data\n",
        "y_train= dftrain.pop('survived') \n",
        "y_eval=dfeval.pop('survived')"
      ]
    },
    {
      "cell_type": "code",
      "execution_count": 6,
      "metadata": {
        "colab": {
          "base_uri": "https://localhost:8080/"
        },
        "id": "ZxbIjHXHyLux",
        "outputId": "bd2a4487-55d6-4fec-b800-2fa339c99c06"
      },
      "outputs": [
        {
          "name": "stdout",
          "output_type": "stream",
          "text": [
            "sex                          male\n",
            "age                          22.0\n",
            "n_siblings_spouses              1\n",
            "parch                           0\n",
            "fare                         7.25\n",
            "class                       Third\n",
            "deck                      unknown\n",
            "embark_town           Southampton\n",
            "alone                           n\n",
            "Name: 0, dtype: object 0\n"
          ]
        }
      ],
      "source": [
        "# printing one row\n",
        "print(dftrain.loc[0],y_train.loc[0])"
      ]
    },
    {
      "cell_type": "code",
      "execution_count": 7,
      "metadata": {
        "colab": {
          "base_uri": "https://localhost:8080/",
          "height": 300
        },
        "id": "MmqwTxFzzBc5",
        "outputId": "177cdd32-5e9b-4e77-9b55-387b448a5841"
      },
      "outputs": [
        {
          "data": {
            "text/html": [
              "\n",
              "  <div id=\"df-7aceb936-e270-4679-acfc-faed995fb773\">\n",
              "    <div class=\"colab-df-container\">\n",
              "      <div>\n",
              "<style scoped>\n",
              "    .dataframe tbody tr th:only-of-type {\n",
              "        vertical-align: middle;\n",
              "    }\n",
              "\n",
              "    .dataframe tbody tr th {\n",
              "        vertical-align: top;\n",
              "    }\n",
              "\n",
              "    .dataframe thead th {\n",
              "        text-align: right;\n",
              "    }\n",
              "</style>\n",
              "<table border=\"1\" class=\"dataframe\">\n",
              "  <thead>\n",
              "    <tr style=\"text-align: right;\">\n",
              "      <th></th>\n",
              "      <th>age</th>\n",
              "      <th>n_siblings_spouses</th>\n",
              "      <th>parch</th>\n",
              "      <th>fare</th>\n",
              "    </tr>\n",
              "  </thead>\n",
              "  <tbody>\n",
              "    <tr>\n",
              "      <th>count</th>\n",
              "      <td>627.000000</td>\n",
              "      <td>627.000000</td>\n",
              "      <td>627.000000</td>\n",
              "      <td>627.000000</td>\n",
              "    </tr>\n",
              "    <tr>\n",
              "      <th>mean</th>\n",
              "      <td>29.631308</td>\n",
              "      <td>0.545455</td>\n",
              "      <td>0.379585</td>\n",
              "      <td>34.385399</td>\n",
              "    </tr>\n",
              "    <tr>\n",
              "      <th>std</th>\n",
              "      <td>12.511818</td>\n",
              "      <td>1.151090</td>\n",
              "      <td>0.792999</td>\n",
              "      <td>54.597730</td>\n",
              "    </tr>\n",
              "    <tr>\n",
              "      <th>min</th>\n",
              "      <td>0.750000</td>\n",
              "      <td>0.000000</td>\n",
              "      <td>0.000000</td>\n",
              "      <td>0.000000</td>\n",
              "    </tr>\n",
              "    <tr>\n",
              "      <th>25%</th>\n",
              "      <td>23.000000</td>\n",
              "      <td>0.000000</td>\n",
              "      <td>0.000000</td>\n",
              "      <td>7.895800</td>\n",
              "    </tr>\n",
              "    <tr>\n",
              "      <th>50%</th>\n",
              "      <td>28.000000</td>\n",
              "      <td>0.000000</td>\n",
              "      <td>0.000000</td>\n",
              "      <td>15.045800</td>\n",
              "    </tr>\n",
              "    <tr>\n",
              "      <th>75%</th>\n",
              "      <td>35.000000</td>\n",
              "      <td>1.000000</td>\n",
              "      <td>0.000000</td>\n",
              "      <td>31.387500</td>\n",
              "    </tr>\n",
              "    <tr>\n",
              "      <th>max</th>\n",
              "      <td>80.000000</td>\n",
              "      <td>8.000000</td>\n",
              "      <td>5.000000</td>\n",
              "      <td>512.329200</td>\n",
              "    </tr>\n",
              "  </tbody>\n",
              "</table>\n",
              "</div>\n",
              "      <button class=\"colab-df-convert\" onclick=\"convertToInteractive('df-7aceb936-e270-4679-acfc-faed995fb773')\"\n",
              "              title=\"Convert this dataframe to an interactive table.\"\n",
              "              style=\"display:none;\">\n",
              "        \n",
              "  <svg xmlns=\"http://www.w3.org/2000/svg\" height=\"24px\"viewBox=\"0 0 24 24\"\n",
              "       width=\"24px\">\n",
              "    <path d=\"M0 0h24v24H0V0z\" fill=\"none\"/>\n",
              "    <path d=\"M18.56 5.44l.94 2.06.94-2.06 2.06-.94-2.06-.94-.94-2.06-.94 2.06-2.06.94zm-11 1L8.5 8.5l.94-2.06 2.06-.94-2.06-.94L8.5 2.5l-.94 2.06-2.06.94zm10 10l.94 2.06.94-2.06 2.06-.94-2.06-.94-.94-2.06-.94 2.06-2.06.94z\"/><path d=\"M17.41 7.96l-1.37-1.37c-.4-.4-.92-.59-1.43-.59-.52 0-1.04.2-1.43.59L10.3 9.45l-7.72 7.72c-.78.78-.78 2.05 0 2.83L4 21.41c.39.39.9.59 1.41.59.51 0 1.02-.2 1.41-.59l7.78-7.78 2.81-2.81c.8-.78.8-2.07 0-2.86zM5.41 20L4 18.59l7.72-7.72 1.47 1.35L5.41 20z\"/>\n",
              "  </svg>\n",
              "      </button>\n",
              "      \n",
              "  <style>\n",
              "    .colab-df-container {\n",
              "      display:flex;\n",
              "      flex-wrap:wrap;\n",
              "      gap: 12px;\n",
              "    }\n",
              "\n",
              "    .colab-df-convert {\n",
              "      background-color: #E8F0FE;\n",
              "      border: none;\n",
              "      border-radius: 50%;\n",
              "      cursor: pointer;\n",
              "      display: none;\n",
              "      fill: #1967D2;\n",
              "      height: 32px;\n",
              "      padding: 0 0 0 0;\n",
              "      width: 32px;\n",
              "    }\n",
              "\n",
              "    .colab-df-convert:hover {\n",
              "      background-color: #E2EBFA;\n",
              "      box-shadow: 0px 1px 2px rgba(60, 64, 67, 0.3), 0px 1px 3px 1px rgba(60, 64, 67, 0.15);\n",
              "      fill: #174EA6;\n",
              "    }\n",
              "\n",
              "    [theme=dark] .colab-df-convert {\n",
              "      background-color: #3B4455;\n",
              "      fill: #D2E3FC;\n",
              "    }\n",
              "\n",
              "    [theme=dark] .colab-df-convert:hover {\n",
              "      background-color: #434B5C;\n",
              "      box-shadow: 0px 1px 3px 1px rgba(0, 0, 0, 0.15);\n",
              "      filter: drop-shadow(0px 1px 2px rgba(0, 0, 0, 0.3));\n",
              "      fill: #FFFFFF;\n",
              "    }\n",
              "  </style>\n",
              "\n",
              "      <script>\n",
              "        const buttonEl =\n",
              "          document.querySelector('#df-7aceb936-e270-4679-acfc-faed995fb773 button.colab-df-convert');\n",
              "        buttonEl.style.display =\n",
              "          google.colab.kernel.accessAllowed ? 'block' : 'none';\n",
              "\n",
              "        async function convertToInteractive(key) {\n",
              "          const element = document.querySelector('#df-7aceb936-e270-4679-acfc-faed995fb773');\n",
              "          const dataTable =\n",
              "            await google.colab.kernel.invokeFunction('convertToInteractive',\n",
              "                                                     [key], {});\n",
              "          if (!dataTable) return;\n",
              "\n",
              "          const docLinkHtml = 'Like what you see? Visit the ' +\n",
              "            '<a target=\"_blank\" href=https://colab.research.google.com/notebooks/data_table.ipynb>data table notebook</a>'\n",
              "            + ' to learn more about interactive tables.';\n",
              "          element.innerHTML = '';\n",
              "          dataTable['output_type'] = 'display_data';\n",
              "          await google.colab.output.renderOutput(dataTable, element);\n",
              "          const docLink = document.createElement('div');\n",
              "          docLink.innerHTML = docLinkHtml;\n",
              "          element.appendChild(docLink);\n",
              "        }\n",
              "      </script>\n",
              "    </div>\n",
              "  </div>\n",
              "  "
            ],
            "text/plain": [
              "              age  n_siblings_spouses       parch        fare\n",
              "count  627.000000          627.000000  627.000000  627.000000\n",
              "mean    29.631308            0.545455    0.379585   34.385399\n",
              "std     12.511818            1.151090    0.792999   54.597730\n",
              "min      0.750000            0.000000    0.000000    0.000000\n",
              "25%     23.000000            0.000000    0.000000    7.895800\n",
              "50%     28.000000            0.000000    0.000000   15.045800\n",
              "75%     35.000000            1.000000    0.000000   31.387500\n",
              "max     80.000000            8.000000    5.000000  512.329200"
            ]
          },
          "execution_count": 7,
          "metadata": {},
          "output_type": "execute_result"
        }
      ],
      "source": [
        "dftrain.describe() #some statics"
      ]
    },
    {
      "cell_type": "code",
      "execution_count": 8,
      "metadata": {
        "colab": {
          "base_uri": "https://localhost:8080/"
        },
        "id": "tK1jla2TzRJp",
        "outputId": "af72f6ed-83a5-4f07-81fa-20c38885d5f3"
      },
      "outputs": [
        {
          "data": {
            "text/plain": [
              "(627, 9)"
            ]
          },
          "execution_count": 8,
          "metadata": {},
          "output_type": "execute_result"
        }
      ],
      "source": [
        "dftrain.shape # We have 627 rows with 9 features"
      ]
    },
    {
      "cell_type": "markdown",
      "metadata": {
        "id": "LbLYji8pzjzx"
      },
      "source": [
        "### Visualization of the data"
      ]
    },
    {
      "cell_type": "code",
      "execution_count": 9,
      "metadata": {
        "colab": {
          "base_uri": "https://localhost:8080/",
          "height": 282
        },
        "id": "JuF-3jVYzwYx",
        "outputId": "4adcd871-05b9-48d4-dbc9-3a65589fc718"
      },
      "outputs": [
        {
          "data": {
            "text/plain": [
              "<matplotlib.axes._subplots.AxesSubplot at 0x7efdcda52210>"
            ]
          },
          "execution_count": 9,
          "metadata": {},
          "output_type": "execute_result"
        },
        {
          "data": {
            "image/png": "[encoded data removed]",
            "text/plain": [
              "<Figure size 432x288 with 1 Axes>"
            ]
          },
          "metadata": {
            "needs_background": "light"
          },
          "output_type": "display_data"
        }
      ],
      "source": [
        "dftrain.age.hist(bins=20)\n",
        "# Most of the people are in their mid twenties. \n",
        "# This could introduce a little bit of bias into the linear correlation graph."
      ]
    },
    {
      "cell_type": "code",
      "execution_count": 12,
      "metadata": {
        "colab": {
          "base_uri": "https://localhost:8080/",
          "height": 282
        },
        "id": "-ZOzMbDi0XhE",
        "outputId": "4f40c391-7f48-48dc-c9d8-6aaa647c9893"
      },
      "outputs": [
        {
          "data": {
            "text/plain": [
              "<matplotlib.axes._subplots.AxesSubplot at 0x7efdcd3dabd0>"
            ]
          },
          "execution_count": 12,
          "metadata": {},
          "output_type": "execute_result"
        },
        {
          "data": {
            "image/png": "[encoded data removed]",
            "text/plain": [
              "<Figure size 432x288 with 1 Axes>"
            ]
          },
          "metadata": {
            "needs_background": "light"
          },
          "output_type": "display_data"
        }
      ],
      "source": [
        "dftrain.sex.value_counts().plot(kind='barh')\n",
        "# Most of the people are male."
      ]
    },
    {
      "cell_type": "code",
      "execution_count": 14,
      "metadata": {
        "colab": {
          "base_uri": "https://localhost:8080/",
          "height": 282
        },
        "id": "H134hdF50k14",
        "outputId": "66d0be8c-2521-4d6a-cae4-f2c74722b6f1"
      },
      "outputs": [
        {
          "data": {
            "text/plain": [
              "<matplotlib.axes._subplots.AxesSubplot at 0x7efdcd24b850>"
            ]
          },
          "execution_count": 14,
          "metadata": {},
          "output_type": "execute_result"
        },
        {
          "data": {
            "image/png": "[encoded data removed]",
            "text/plain": [
              "<Figure size 432x288 with 1 Axes>"
            ]
          },
          "metadata": {
            "needs_background": "light"
          },
          "output_type": "display_data"
        }
      ],
      "source": [
        "dftrain['class'].value_counts().plot(kind='barh')\n",
        "# Most of the people are in third class"
      ]
    },
    {
      "cell_type": "code",
      "execution_count": 20,
      "metadata": {
        "colab": {
          "base_uri": "https://localhost:8080/",
          "height": 296
        },
        "id": "aiUkN3cw0zWJ",
        "outputId": "1041e8f9-a8a0-4d5e-9315-8d4d457177a6"
      },
      "outputs": [
        {
          "data": {
            "text/plain": [
              "Text(0.5, 0, '% survive')"
            ]
          },
          "execution_count": 20,
          "metadata": {},
          "output_type": "execute_result"
        },
        {
          "data": {
            "image/png": "[encoded data removed]",
            "text/plain": [
              "<Figure size 432x288 with 1 Axes>"
            ]
          },
          "metadata": {
            "needs_background": "light"
          },
          "output_type": "display_data"
        }
      ],
      "source": [
        "# The precentage survival by sex\n",
        "pd.concat([dftrain, y_train],axis=1).groupby('sex').survived.mean().plot(kind='barh').set_xlabel('% survive')\n",
        "# Females have a higher chance of survival"
      ]
    },
    {
      "cell_type": "markdown",
      "metadata": {
        "id": "6PPfe8DRAOLD"
      },
      "source": [
        "### Transform categorical data to numerical data"
      ]
    },
    {
      "cell_type": "code",
      "execution_count": 26,
      "metadata": {
        "colab": {
          "base_uri": "https://localhost:8080/"
        },
        "id": "dq99or_eACro",
        "outputId": "4645fc7d-22d4-45f7-b2d3-1e6413fe5d02"
      },
      "outputs": [
        {
          "name": "stdout",
          "output_type": "stream",
          "text": [
            "[VocabularyListCategoricalColumn(key='sex', vocabulary_list=('male', 'female'), dtype=tf.string, default_value=-1, num_oov_buckets=0), VocabularyListCategoricalColumn(key='n_siblings_spouses', vocabulary_list=(1, 0, 3, 4, 2, 5, 8), dtype=tf.int64, default_value=-1, num_oov_buckets=0), VocabularyListCategoricalColumn(key='parch', vocabulary_list=(0, 1, 2, 5, 3, 4), dtype=tf.int64, default_value=-1, num_oov_buckets=0), VocabularyListCategoricalColumn(key='class', vocabulary_list=('Third', 'First', 'Second'), dtype=tf.string, default_value=-1, num_oov_buckets=0), VocabularyListCategoricalColumn(key='deck', vocabulary_list=('unknown', 'C', 'G', 'A', 'B', 'D', 'F', 'E'), dtype=tf.string, default_value=-1, num_oov_buckets=0), VocabularyListCategoricalColumn(key='embark_town', vocabulary_list=('Southampton', 'Cherbourg', 'Queenstown', 'unknown'), dtype=tf.string, default_value=-1, num_oov_buckets=0), VocabularyListCategoricalColumn(key='alone', vocabulary_list=('n', 'y'), dtype=tf.string, default_value=-1, num_oov_buckets=0), NumericColumn(key='age', shape=(1,), default_value=None, dtype=tf.float32, normalizer_fn=None), NumericColumn(key='fare', shape=(1,), default_value=None, dtype=tf.float32, normalizer_fn=None)]\n"
          ]
        }
      ],
      "source": [
        "CATEGORICAL_COLUMMNS=['sex','n_siblings_spouses','parch','class','deck','embark_town','alone']\n",
        "NUMERICAL_COLUMNS=['age','fare']\n",
        "\n",
        "feature_columns=[]\n",
        "for feature_name in CATEGORICAL_COLUMMNS:\n",
        "  vocabularety=dftrain[feature_name].unique() #get a list of all unique values from given feature column\n",
        "  feature_columns.append(tf.feature_column.categorical_column_with_vocabulary_list(feature_name, vocabularety))\n",
        "\n",
        "for feature_name in NUMERICAL_COLUMNS:\n",
        "  feature_columns.append(tf.feature_column.numeric_column(feature_name, dtype=tf.float32))\n",
        "\n",
        "print(feature_columns)"
      ]
    },
    {
      "cell_type": "markdown",
      "metadata": {
        "id": "9hRQon63SC6D"
      },
      "source": [
        "## Linear Regression model\n",
        "\n",
        "Linea regression is about predicting numerical value.\n",
        "\n",
        "We use linear regression when our dataset is correlated linearly.\n",
        "\n",
        "Example:\n",
        "* Predicting grades for students, we would assume that if someone has low grade, they will finish with a lower grade, and if they have a high grade they would finish with a higher grade.\n",
        "* Predicting future life expentancy\n",
        "If someone is older, they are expected to live not as long.\n",
        "\n",
        "Baiscally the relationship should be linearly, for example, if some parameter goes up, the other parameter goes up. The magnitude of the relationship (how much one goes down versus how much one goes downn) is what the algorithm will figure out."
      ]
    },
    {
      "cell_type": "markdown",
      "metadata": {
        "id": "UzEPdgJtu_No"
      },
      "source": [
        "### Why is linear regression is suitable for such task ? \n",
        "According to the rules applied at that time, if someone is a female, we can assume that they have a higher chance of surviving the titanic.\n",
        "\n",
        "Regarding the age, we can assume that the younger the person is the more likely to survive. \n",
        "\n",
        "Regarding the class, the higher class the person is the more likely to survive."
      ]
    },
    {
      "cell_type": "markdown",
      "metadata": {
        "id": "sA3048JgDdhH"
      },
      "source": [
        "### Training model"
      ]
    },
    {
      "cell_type": "markdown",
      "metadata": {
        "id": "Gum3NxqTDjRg"
      },
      "source": [
        "#### How is the data fed to the model ?\n",
        "The data is loaded through batches. We do not feed the entire dataset to the model, but small batches of entries. We feed these batches to our model mulitplt times according to the number of epochs.\n",
        "\n",
        "Epochs are how many times the model will see the same data. In each epoch, we feed the data to the model again but with different order. \n",
        "\n",
        "Training the model with many epochs may cause overfitting. Hence we can start with small number of epochs and then modify it if we need to go higher.\n",
        "\n"
      ]
    },
    {
      "cell_type": "markdown",
      "metadata": {
        "id": "JSrEt602F8f0"
      },
      "source": [
        "#### Input function\n",
        "The input function is the way to define how are data is going to be broke into batches and epochs to be fed to the model.\n",
        "\n",
        "The function takes the dataset as a dataframe and returns the data as a tf.data.Dataset object, which is a requirement to create the model."
      ]
    },
    {
      "cell_type": "code",
      "execution_count": 27,
      "metadata": {
        "id": "WPxhm-B3q8nv"
      },
      "outputs": [],
      "source": [
        "# the outter function makes a input_function and return it as an output\n",
        "def make_input_fn(data_df, label_df, num_epochs=10, shuffle=True, batch_size=32):\n",
        "  # an inner function to create the dataset in a form that meets the requirments\n",
        "  def input_function(): \n",
        "    ds=tf.data.Dataset.from_tensor_slices((dict(data_df), label_df))\n",
        "    if shuffle:\n",
        "      ds=ds.shuffle(1000) #randomize order of data\n",
        "    ds=ds.batch(batch_size).repeat(num_epochs) # split dataset into batches of 32 and repeat process for number of epochs\n",
        "    return ds\n",
        "  return input_function\n",
        "train_input_fn= make_input_fn(dftrain, y_train)\n",
        "eval_input_fn= make_input_fn(dfeval, y_eval, num_epochs=1, shuffle=False) # the epoch for validating is 1, and no need to shuffle\n"
      ]
    },
    {
      "cell_type": "markdown",
      "metadata": {
        "id": "5Rh19vSfijX3"
      },
      "source": [
        "#### Creating the model"
      ]
    },
    {
      "cell_type": "code",
      "execution_count": 28,
      "metadata": {
        "colab": {
          "base_uri": "https://localhost:8080/"
        },
        "id": "4uvsq-g7im0x",
        "outputId": "e7d27ec2-0d96-4731-e0f0-fcdafc48c091"
      },
      "outputs": [
        {
          "name": "stdout",
          "output_type": "stream",
          "text": [
            "INFO:tensorflow:Using default config.\n",
            "WARNING:tensorflow:Using temporary folder as model directory: /tmp/tmp0v_j0p35\n",
            "INFO:tensorflow:Using config: {'_model_dir': '/tmp/tmp0v_j0p35', '_tf_random_seed': None, '_save_summary_steps': 100, '_save_checkpoints_steps': None, '_save_checkpoints_secs': 600, '_session_config': allow_soft_placement: true\n",
            "graph_options {\n",
            "  rewrite_options {\n",
            "    meta_optimizer_iterations: ONE\n",
            "  }\n",
            "}\n",
            ", '_keep_checkpoint_max': 5, '_keep_checkpoint_every_n_hours': 10000, '_log_step_count_steps': 100, '_train_distribute': None, '_device_fn': None, '_protocol': None, '_eval_distribute': None, '_experimental_distribute': None, '_experimental_max_worker_delay_secs': None, '_session_creation_timeout_secs': 7200, '_checkpoint_save_graph_def': True, '_service': None, '_cluster_spec': ClusterSpec({}), '_task_type': 'worker', '_task_id': 0, '_global_id_in_cluster': 0, '_master': '', '_evaluation_master': '', '_is_chief': True, '_num_ps_replicas': 0, '_num_worker_replicas': 1}\n"
          ]
        }
      ],
      "source": [
        "linear_est=tf.estimator.LinearClassifier(feature_columns=feature_columns)"
      ]
    },
    {
      "cell_type": "markdown",
      "metadata": {
        "id": "wlKep14Ai6od"
      },
      "source": [
        "#### Training the model"
      ]
    },
    {
      "cell_type": "code",
      "execution_count": 29,
      "metadata": {
        "colab": {
          "base_uri": "https://localhost:8080/"
        },
        "id": "IyetTrySi2il",
        "outputId": "e04c382e-b587-440b-eed6-ff4a8747a372"
      },
      "outputs": [
        {
          "name": "stdout",
          "output_type": "stream",
          "text": [
            "0.7386364\n"
          ]
        }
      ],
      "source": [
        "linear_est.train(train_input_fn) # we pass the input_function for the training dataset\n",
        "result=linear_est.evaluate(eval_input_fn) # getting the metrices of the model by testing\n",
        "clear_output()   #clears console output\n",
        "print(result['accuracy']) # as a first shot the accuracy is ok"
      ]
    },
    {
      "cell_type": "code",
      "execution_count": 31,
      "metadata": {
        "colab": {
          "base_uri": "https://localhost:8080/"
        },
        "id": "dAvu0WZTkCwj",
        "outputId": "1f19ae63-2016-4cef-ad7f-e49ba4373ac8"
      },
      "outputs": [
        {
          "data": {
            "text/plain": [
              "{'accuracy': 0.7386364,\n",
              " 'accuracy_baseline': 0.625,\n",
              " 'auc': 0.8335782,\n",
              " 'auc_precision_recall': 0.7942832,\n",
              " 'average_loss': 0.48941502,\n",
              " 'global_step': 200,\n",
              " 'label/mean': 0.375,\n",
              " 'loss': 0.4842028,\n",
              " 'precision': 0.6363636,\n",
              " 'prediction/mean': 0.4348828,\n",
              " 'recall': 0.7070707}"
            ]
          },
          "execution_count": 31,
          "metadata": {},
          "output_type": "execute_result"
        }
      ],
      "source": [
        "result"
      ]
    },
    {
      "cell_type": "markdown",
      "metadata": {
        "id": "R-tu_ovrkpwK"
      },
      "source": [
        "#### Predicting"
      ]
    },
    {
      "cell_type": "code",
      "execution_count": 33,
      "metadata": {
        "colab": {
          "base_uri": "https://localhost:8080/"
        },
        "id": "qHmQP6c6kMtU",
        "outputId": "6fe6b69f-1119-42e9-cfa5-6c8bb39f629e"
      },
      "outputs": [
        {
          "name": "stdout",
          "output_type": "stream",
          "text": [
            "INFO:tensorflow:Calling model_fn.\n"
          ]
        },
        {
          "name": "stderr",
          "output_type": "stream",
          "text": [
            "/usr/local/lib/python3.7/dist-packages/tensorflow_estimator/python/estimator/canned/linear.py:1478: UserWarning: `layer.add_variable` is deprecated and will be removed in a future version. Please use `layer.add_weight` method instead.\n",
            "  getter=tf.compat.v1.get_variable)\n"
          ]
        },
        {
          "name": "stdout",
          "output_type": "stream",
          "text": [
            "INFO:tensorflow:Done calling model_fn.\n",
            "INFO:tensorflow:Graph was finalized.\n",
            "INFO:tensorflow:Restoring parameters from /tmp/tmp0v_j0p35/model.ckpt-200\n",
            "INFO:tensorflow:Running local_init_op.\n",
            "INFO:tensorflow:Done running local_init_op.\n",
            "[{'logits': array([-2.2134395], dtype=float32), 'logistic': array([0.09855008], dtype=float32), 'probabilities': array([0.9014499, 0.0985501], dtype=float32), 'class_ids': array([0]), 'classes': array([b'0'], dtype=object), 'all_class_ids': array([0, 1], dtype=int32), 'all_classes': array([b'0', b'1'], dtype=object)}, {'logits': array([0.04961225], dtype=float32), 'logistic': array([0.5124005], dtype=float32), 'probabilities': array([0.48759946, 0.5124005 ], dtype=float32), 'class_ids': array([1]), 'classes': array([b'1'], dtype=object), 'all_class_ids': array([0, 1], dtype=int32), 'all_classes': array([b'0', b'1'], dtype=object)}, {'logits': array([1.5066622], dtype=float32), 'logistic': array([0.818566], dtype=float32), 'probabilities': array([0.18143398, 0.818566  ], dtype=float32), 'class_ids': array([1]), 'classes': array([b'1'], dtype=object), 'all_class_ids': array([0, 1], dtype=int32), 'all_classes': array([b'0', b'1'], dtype=object)}, {'logits': array([1.055937], dtype=float32), 'logistic': array([0.7419133], dtype=float32), 'probabilities': array([0.25808665, 0.7419134 ], dtype=float32), 'class_ids': array([1]), 'classes': array([b'1'], dtype=object), 'all_class_ids': array([0, 1], dtype=int32), 'all_classes': array([b'0', b'1'], dtype=object)}, {'logits': array([-0.75474274], dtype=float32), 'logistic': array([0.31978878], dtype=float32), 'probabilities': array([0.68021125, 0.31978875], dtype=float32), 'class_ids': array([0]), 'classes': array([b'0'], dtype=object), 'all_class_ids': array([0, 1], dtype=int32), 'all_classes': array([b'0', b'1'], dtype=object)}, {'logits': array([1.2029811], dtype=float32), 'logistic': array([0.76905465], dtype=float32), 'probabilities': array([0.23094532, 0.7690547 ], dtype=float32), 'class_ids': array([1]), 'classes': array([b'1'], dtype=object), 'all_class_ids': array([0, 1], dtype=int32), 'all_classes': array([b'0', b'1'], dtype=object)}, {'logits': array([0.51898974], dtype=float32), 'logistic': array([0.6269115], dtype=float32), 'probabilities': array([0.37308848, 0.6269115 ], dtype=float32), 'class_ids': array([1]), 'classes': array([b'1'], dtype=object), 'all_class_ids': array([0, 1], dtype=int32), 'all_classes': array([b'0', b'1'], dtype=object)}, {'logits': array([-1.9436568], dtype=float32), 'logistic': array([0.12524661], dtype=float32), 'probabilities': array([0.87475336, 0.12524667], dtype=float32), 'class_ids': array([0]), 'classes': array([b'0'], dtype=object), 'all_class_ids': array([0, 1], dtype=int32), 'all_classes': array([b'0', b'1'], dtype=object)}, {'logits': array([0.7110919], dtype=float32), 'logistic': array([0.6706424], dtype=float32), 'probabilities': array([0.32935762, 0.6706424 ], dtype=float32), 'class_ids': array([1]), 'classes': array([b'1'], dtype=object), 'all_class_ids': array([0, 1], dtype=int32), 'all_classes': array([b'0', b'1'], dtype=object)}, {'logits': array([1.124192], dtype=float32), 'logistic': array([0.75476545], dtype=float32), 'probabilities': array([0.24523455, 0.75476545], dtype=float32), 'class_ids': array([1]), 'classes': array([b'1'], dtype=object), 'all_class_ids': array([0, 1], dtype=int32), 'all_classes': array([b'0', b'1'], dtype=object)}, {'logits': array([0.94928885], dtype=float32), 'logistic': array([0.7209721], dtype=float32), 'probabilities': array([0.27902785, 0.7209721 ], dtype=float32), 'class_ids': array([1]), 'classes': array([b'1'], dtype=object), 'all_class_ids': array([0, 1], dtype=int32), 'all_classes': array([b'0', b'1'], dtype=object)}, {'logits': array([-1.946504], dtype=float32), 'logistic': array([0.12493503], dtype=float32), 'probabilities': array([0.87506497, 0.12493507], dtype=float32), 'class_ids': array([0]), 'classes': array([b'0'], dtype=object), 'all_class_ids': array([0, 1], dtype=int32), 'all_classes': array([b'0', b'1'], dtype=object)}, {'logits': array([2.0082772], dtype=float32), 'logistic': array([0.88166344], dtype=float32), 'probabilities': array([0.11833661, 0.88166344], dtype=float32), 'class_ids': array([1]), 'classes': array([b'1'], dtype=object), 'all_class_ids': array([0, 1], dtype=int32), 'all_classes': array([b'0', b'1'], dtype=object)}, {'logits': array([-0.14799711], dtype=float32), 'logistic': array([0.46306813], dtype=float32), 'probabilities': array([0.53693193, 0.46306813], dtype=float32), 'class_ids': array([0]), 'classes': array([b'0'], dtype=object), 'all_class_ids': array([0, 1], dtype=int32), 'all_classes': array([b'0', b'1'], dtype=object)}, {'logits': array([1.9029008], dtype=float32), 'logistic': array([0.87021947], dtype=float32), 'probabilities': array([0.12978052, 0.8702195 ], dtype=float32), 'class_ids': array([1]), 'classes': array([b'1'], dtype=object), 'all_class_ids': array([0, 1], dtype=int32), 'all_classes': array([b'0', b'1'], dtype=object)}, {'logits': array([0.5647393], dtype=float32), 'logistic': array([0.6375484], dtype=float32), 'probabilities': array([0.3624516, 0.6375484], dtype=float32), 'class_ids': array([1]), 'classes': array([b'1'], dtype=object), 'all_class_ids': array([0, 1], dtype=int32), 'all_classes': array([b'0', b'1'], dtype=object)}, {'logits': array([-1.3525258], dtype=float32), 'logistic': array([0.20545775], dtype=float32), 'probabilities': array([0.79454225, 0.20545773], dtype=float32), 'class_ids': array([0]), 'classes': array([b'0'], dtype=object), 'all_class_ids': array([0, 1], dtype=int32), 'all_classes': array([b'0', b'1'], dtype=object)}, {'logits': array([1.725566], dtype=float32), 'logistic': array([0.8488444], dtype=float32), 'probabilities': array([0.15115562, 0.8488444 ], dtype=float32), 'class_ids': array([1]), 'classes': array([b'1'], dtype=object), 'all_class_ids': array([0, 1], dtype=int32), 'all_classes': array([b'0', b'1'], dtype=object)}, {'logits': array([-0.18095651], dtype=float32), 'logistic': array([0.45488393], dtype=float32), 'probabilities': array([0.54511607, 0.45488393], dtype=float32), 'class_ids': array([0]), 'classes': array([b'0'], dtype=object), 'all_class_ids': array([0, 1], dtype=int32), 'all_classes': array([b'0', b'1'], dtype=object)}, {'logits': array([-2.0978184], dtype=float32), 'logistic': array([0.10930899], dtype=float32), 'probabilities': array([0.890691  , 0.10930905], dtype=float32), 'class_ids': array([0]), 'classes': array([b'0'], dtype=object), 'all_class_ids': array([0, 1], dtype=int32), 'all_classes': array([b'0', b'1'], dtype=object)}, {'logits': array([-1.9266165], dtype=float32), 'logistic': array([0.12712556], dtype=float32), 'probabilities': array([0.87287444, 0.12712555], dtype=float32), 'class_ids': array([0]), 'classes': array([b'0'], dtype=object), 'all_class_ids': array([0, 1], dtype=int32), 'all_classes': array([b'0', b'1'], dtype=object)}, {'logits': array([-2.0423503], dtype=float32), 'logistic': array([0.1148276], dtype=float32), 'probabilities': array([0.8851724 , 0.11482763], dtype=float32), 'class_ids': array([0]), 'classes': array([b'0'], dtype=object), 'all_class_ids': array([0, 1], dtype=int32), 'all_classes': array([b'0', b'1'], dtype=object)}, {'logits': array([0.82639265], dtype=float32), 'logistic': array([0.6955916], dtype=float32), 'probabilities': array([0.30440837, 0.6955916 ], dtype=float32), 'class_ids': array([1]), 'classes': array([b'1'], dtype=object), 'all_class_ids': array([0, 1], dtype=int32), 'all_classes': array([b'0', b'1'], dtype=object)}, {'logits': array([-2.273006], dtype=float32), 'logistic': array([0.0933834], dtype=float32), 'probabilities': array([0.9066166 , 0.09338341], dtype=float32), 'class_ids': array([0]), 'classes': array([b'0'], dtype=object), 'all_class_ids': array([0, 1], dtype=int32), 'all_classes': array([b'0', b'1'], dtype=object)}, {'logits': array([0.951485], dtype=float32), 'logistic': array([0.72141373], dtype=float32), 'probabilities': array([0.27858627, 0.72141373], dtype=float32), 'class_ids': array([1]), 'classes': array([b'1'], dtype=object), 'all_class_ids': array([0, 1], dtype=int32), 'all_classes': array([b'0', b'1'], dtype=object)}, {'logits': array([0.51214164], dtype=float32), 'logistic': array([0.6253084], dtype=float32), 'probabilities': array([0.37469158, 0.6253084 ], dtype=float32), 'class_ids': array([1]), 'classes': array([b'1'], dtype=object), 'all_class_ids': array([0, 1], dtype=int32), 'all_classes': array([b'0', b'1'], dtype=object)}, {'logits': array([-0.6996156], dtype=float32), 'logistic': array([0.33189747], dtype=float32), 'probabilities': array([0.66810256, 0.33189747], dtype=float32), 'class_ids': array([0]), 'classes': array([b'0'], dtype=object), 'all_class_ids': array([0, 1], dtype=int32), 'all_classes': array([b'0', b'1'], dtype=object)}, {'logits': array([0.04638501], dtype=float32), 'logistic': array([0.5115942], dtype=float32), 'probabilities': array([0.48840585, 0.5115942 ], dtype=float32), 'class_ids': array([1]), 'classes': array([b'1'], dtype=object), 'all_class_ids': array([0, 1], dtype=int32), 'all_classes': array([b'0', b'1'], dtype=object)}, {'logits': array([-1.1193296], dtype=float32), 'logistic': array([0.24613565], dtype=float32), 'probabilities': array([0.75386435, 0.24613568], dtype=float32), 'class_ids': array([0]), 'classes': array([b'0'], dtype=object), 'all_class_ids': array([0, 1], dtype=int32), 'all_classes': array([b'0', b'1'], dtype=object)}, {'logits': array([2.0408187], dtype=float32), 'logistic': array([0.8850166], dtype=float32), 'probabilities': array([0.11498339, 0.8850166 ], dtype=float32), 'class_ids': array([1]), 'classes': array([b'1'], dtype=object), 'all_class_ids': array([0, 1], dtype=int32), 'all_classes': array([b'0', b'1'], dtype=object)}, {'logits': array([-1.6431606], dtype=float32), 'logistic': array([0.16203544], dtype=float32), 'probabilities': array([0.83796453, 0.16203547], dtype=float32), 'class_ids': array([0]), 'classes': array([b'0'], dtype=object), 'all_class_ids': array([0, 1], dtype=int32), 'all_classes': array([b'0', b'1'], dtype=object)}, {'logits': array([1.7519006], dtype=float32), 'logistic': array([0.8521924], dtype=float32), 'probabilities': array([0.14780764, 0.85219234], dtype=float32), 'class_ids': array([1]), 'classes': array([b'1'], dtype=object), 'all_class_ids': array([0, 1], dtype=int32), 'all_classes': array([b'0', b'1'], dtype=object)}, {'logits': array([-1.1747285], dtype=float32), 'logistic': array([0.23600137], dtype=float32), 'probabilities': array([0.7639986 , 0.23600134], dtype=float32), 'class_ids': array([0]), 'classes': array([b'0'], dtype=object), 'all_class_ids': array([0, 1], dtype=int32), 'all_classes': array([b'0', b'1'], dtype=object)}, {'logits': array([0.94302124], dtype=float32), 'logistic': array([0.7197095], dtype=float32), 'probabilities': array([0.28029048, 0.7197095 ], dtype=float32), 'class_ids': array([1]), 'classes': array([b'1'], dtype=object), 'all_class_ids': array([0, 1], dtype=int32), 'all_classes': array([b'0', b'1'], dtype=object)}, {'logits': array([-0.5488884], dtype=float32), 'logistic': array([0.36612236], dtype=float32), 'probabilities': array([0.6338777 , 0.36612236], dtype=float32), 'class_ids': array([0]), 'classes': array([b'0'], dtype=object), 'all_class_ids': array([0, 1], dtype=int32), 'all_classes': array([b'0', b'1'], dtype=object)}, {'logits': array([-2.062173], dtype=float32), 'logistic': array([0.11282811], dtype=float32), 'probabilities': array([0.8871718 , 0.11282814], dtype=float32), 'class_ids': array([0]), 'classes': array([b'0'], dtype=object), 'all_class_ids': array([0, 1], dtype=int32), 'all_classes': array([b'0', b'1'], dtype=object)}, {'logits': array([-1.1534457], dtype=float32), 'logistic': array([0.23986027], dtype=float32), 'probabilities': array([0.76013976, 0.2398603 ], dtype=float32), 'class_ids': array([0]), 'classes': array([b'0'], dtype=object), 'all_class_ids': array([0, 1], dtype=int32), 'all_classes': array([b'0', b'1'], dtype=object)}, {'logits': array([-1.5023216], dtype=float32), 'logistic': array([0.18207952], dtype=float32), 'probabilities': array([0.8179205 , 0.18207952], dtype=float32), 'class_ids': array([0]), 'classes': array([b'0'], dtype=object), 'all_class_ids': array([0, 1], dtype=int32), 'all_classes': array([b'0', b'1'], dtype=object)}, {'logits': array([2.7375581], dtype=float32), 'logistic': array([0.93920684], dtype=float32), 'probabilities': array([0.06079318, 0.9392068 ], dtype=float32), 'class_ids': array([1]), 'classes': array([b'1'], dtype=object), 'all_class_ids': array([0, 1], dtype=int32), 'all_classes': array([b'0', b'1'], dtype=object)}, {'logits': array([-2.1170886], dtype=float32), 'logistic': array([0.10744691], dtype=float32), 'probabilities': array([0.89255303, 0.10744696], dtype=float32), 'class_ids': array([0]), 'classes': array([b'0'], dtype=object), 'all_class_ids': array([0, 1], dtype=int32), 'all_classes': array([b'0', b'1'], dtype=object)}, {'logits': array([1.3421427], dtype=float32), 'logistic': array([0.7928421], dtype=float32), 'probabilities': array([0.20715791, 0.7928421 ], dtype=float32), 'class_ids': array([1]), 'classes': array([b'1'], dtype=object), 'all_class_ids': array([0, 1], dtype=int32), 'all_classes': array([b'0', b'1'], dtype=object)}, {'logits': array([-1.8840805], dtype=float32), 'logistic': array([0.13192084], dtype=float32), 'probabilities': array([0.8680791 , 0.13192089], dtype=float32), 'class_ids': array([0]), 'classes': array([b'0'], dtype=object), 'all_class_ids': array([0, 1], dtype=int32), 'all_classes': array([b'0', b'1'], dtype=object)}, {'logits': array([0.328037], dtype=float32), 'logistic': array([0.58128166], dtype=float32), 'probabilities': array([0.41871828, 0.58128166], dtype=float32), 'class_ids': array([1]), 'classes': array([b'1'], dtype=object), 'all_class_ids': array([0, 1], dtype=int32), 'all_classes': array([b'0', b'1'], dtype=object)}, {'logits': array([-0.7019435], dtype=float32), 'logistic': array([0.3313815], dtype=float32), 'probabilities': array([0.66861856, 0.33138147], dtype=float32), 'class_ids': array([0]), 'classes': array([b'0'], dtype=object), 'all_class_ids': array([0, 1], dtype=int32), 'all_classes': array([b'0', b'1'], dtype=object)}, {'logits': array([-0.626167], dtype=float32), 'logistic': array([0.34838018], dtype=float32), 'probabilities': array([0.65161985, 0.34838015], dtype=float32), 'class_ids': array([0]), 'classes': array([b'0'], dtype=object), 'all_class_ids': array([0, 1], dtype=int32), 'all_classes': array([b'0', b'1'], dtype=object)}, {'logits': array([1.4912039], dtype=float32), 'logistic': array([0.8162589], dtype=float32), 'probabilities': array([0.1837411, 0.8162589], dtype=float32), 'class_ids': array([1]), 'classes': array([b'1'], dtype=object), 'all_class_ids': array([0, 1], dtype=int32), 'all_classes': array([b'0', b'1'], dtype=object)}, {'logits': array([-1.9450804], dtype=float32), 'logistic': array([0.12509075], dtype=float32), 'probabilities': array([0.8749092, 0.1250908], dtype=float32), 'class_ids': array([0]), 'classes': array([b'0'], dtype=object), 'all_class_ids': array([0, 1], dtype=int32), 'all_classes': array([b'0', b'1'], dtype=object)}, {'logits': array([-0.20845178], dtype=float32), 'logistic': array([0.44807494], dtype=float32), 'probabilities': array([0.551925  , 0.44807494], dtype=float32), 'class_ids': array([0]), 'classes': array([b'0'], dtype=object), 'all_class_ids': array([0, 1], dtype=int32), 'all_classes': array([b'0', b'1'], dtype=object)}, {'logits': array([-0.13986], dtype=float32), 'logistic': array([0.46509188], dtype=float32), 'probabilities': array([0.5349081 , 0.46509185], dtype=float32), 'class_ids': array([0]), 'classes': array([b'0'], dtype=object), 'all_class_ids': array([0, 1], dtype=int32), 'all_classes': array([b'0', b'1'], dtype=object)}, {'logits': array([0.01746865], dtype=float32), 'logistic': array([0.50436705], dtype=float32), 'probabilities': array([0.49563295, 0.50436705], dtype=float32), 'class_ids': array([1]), 'classes': array([b'1'], dtype=object), 'all_class_ids': array([0, 1], dtype=int32), 'all_classes': array([b'0', b'1'], dtype=object)}, {'logits': array([-1.7285583], dtype=float32), 'logistic': array([0.15077206], dtype=float32), 'probabilities': array([0.8492279 , 0.15077208], dtype=float32), 'class_ids': array([0]), 'classes': array([b'0'], dtype=object), 'all_class_ids': array([0, 1], dtype=int32), 'all_classes': array([b'0', b'1'], dtype=object)}, {'logits': array([-1.0591074], dtype=float32), 'logistic': array([0.25748008], dtype=float32), 'probabilities': array([0.74252   , 0.25748008], dtype=float32), 'class_ids': array([0]), 'classes': array([b'0'], dtype=object), 'all_class_ids': array([0, 1], dtype=int32), 'all_classes': array([b'0', b'1'], dtype=object)}, {'logits': array([-2.2733135], dtype=float32), 'logistic': array([0.09335735], dtype=float32), 'probabilities': array([0.9066427 , 0.09335738], dtype=float32), 'class_ids': array([0]), 'classes': array([b'0'], dtype=object), 'all_class_ids': array([0, 1], dtype=int32), 'all_classes': array([b'0', b'1'], dtype=object)}, {'logits': array([-1.8916773], dtype=float32), 'logistic': array([0.13105333], dtype=float32), 'probabilities': array([0.8689467 , 0.13105334], dtype=float32), 'class_ids': array([0]), 'classes': array([b'0'], dtype=object), 'all_class_ids': array([0, 1], dtype=int32), 'all_classes': array([b'0', b'1'], dtype=object)}, {'logits': array([-1.8858463], dtype=float32), 'logistic': array([0.13171881], dtype=float32), 'probabilities': array([0.8682812, 0.1317188], dtype=float32), 'class_ids': array([0]), 'classes': array([b'0'], dtype=object), 'all_class_ids': array([0, 1], dtype=int32), 'all_classes': array([b'0', b'1'], dtype=object)}, {'logits': array([-2.012856], dtype=float32), 'logistic': array([0.11785972], dtype=float32), 'probabilities': array([0.8821403 , 0.11785972], dtype=float32), 'class_ids': array([0]), 'classes': array([b'0'], dtype=object), 'all_class_ids': array([0, 1], dtype=int32), 'all_classes': array([b'0', b'1'], dtype=object)}, {'logits': array([-1.2710794], dtype=float32), 'logistic': array([0.21907252], dtype=float32), 'probabilities': array([0.7809275 , 0.21907254], dtype=float32), 'class_ids': array([0]), 'classes': array([b'0'], dtype=object), 'all_class_ids': array([0, 1], dtype=int32), 'all_classes': array([b'0', b'1'], dtype=object)}, {'logits': array([3.696104], dtype=float32), 'logistic': array([0.9757811], dtype=float32), 'probabilities': array([0.02421892, 0.975781  ], dtype=float32), 'class_ids': array([1]), 'classes': array([b'1'], dtype=object), 'all_class_ids': array([0, 1], dtype=int32), 'all_classes': array([b'0', b'1'], dtype=object)}, {'logits': array([-1.2132689], dtype=float32), 'logistic': array([0.22912318], dtype=float32), 'probabilities': array([0.7708769 , 0.22912319], dtype=float32), 'class_ids': array([0]), 'classes': array([b'0'], dtype=object), 'all_class_ids': array([0, 1], dtype=int32), 'all_classes': array([b'0', b'1'], dtype=object)}, {'logits': array([-2.0803041], dtype=float32), 'logistic': array([0.11102593], dtype=float32), 'probabilities': array([0.8889741 , 0.11102594], dtype=float32), 'class_ids': array([0]), 'classes': array([b'0'], dtype=object), 'all_class_ids': array([0, 1], dtype=int32), 'all_classes': array([b'0', b'1'], dtype=object)}, {'logits': array([-0.07887379], dtype=float32), 'logistic': array([0.48029178], dtype=float32), 'probabilities': array([0.5197082 , 0.48029175], dtype=float32), 'class_ids': array([0]), 'classes': array([b'0'], dtype=object), 'all_class_ids': array([0, 1], dtype=int32), 'all_classes': array([b'0', b'1'], dtype=object)}, {'logits': array([0.4556124], dtype=float32), 'logistic': array([0.6119728], dtype=float32), 'probabilities': array([0.3880272, 0.6119728], dtype=float32), 'class_ids': array([1]), 'classes': array([b'1'], dtype=object), 'all_class_ids': array([0, 1], dtype=int32), 'all_classes': array([b'0', b'1'], dtype=object)}, {'logits': array([-1.1839302], dtype=float32), 'logistic': array([0.2343463], dtype=float32), 'probabilities': array([0.7656537 , 0.23434629], dtype=float32), 'class_ids': array([0]), 'classes': array([b'0'], dtype=object), 'all_class_ids': array([0, 1], dtype=int32), 'all_classes': array([b'0', b'1'], dtype=object)}, {'logits': array([1.7646296], dtype=float32), 'logistic': array([0.8537886], dtype=float32), 'probabilities': array([0.14621146, 0.8537885 ], dtype=float32), 'class_ids': array([1]), 'classes': array([b'1'], dtype=object), 'all_class_ids': array([0, 1], dtype=int32), 'all_classes': array([b'0', b'1'], dtype=object)}, {'logits': array([-1.2802811], dtype=float32), 'logistic': array([0.21750239], dtype=float32), 'probabilities': array([0.78249764, 0.2175024 ], dtype=float32), 'class_ids': array([0]), 'classes': array([b'0'], dtype=object), 'all_class_ids': array([0, 1], dtype=int32), 'all_classes': array([b'0', b'1'], dtype=object)}, {'logits': array([0.75073564], dtype=float32), 'logistic': array([0.67933893], dtype=float32), 'probabilities': array([0.32066104, 0.679339  ], dtype=float32), 'class_ids': array([1]), 'classes': array([b'1'], dtype=object), 'all_class_ids': array([0, 1], dtype=int32), 'all_classes': array([b'0', b'1'], dtype=object)}, {'logits': array([0.26105174], dtype=float32), 'logistic': array([0.5648948], dtype=float32), 'probabilities': array([0.4351052 , 0.56489486], dtype=float32), 'class_ids': array([1]), 'classes': array([b'1'], dtype=object), 'all_class_ids': array([0, 1], dtype=int32), 'all_classes': array([b'0', b'1'], dtype=object)}, {'logits': array([-1.5044589], dtype=float32), 'logistic': array([0.18176141], dtype=float32), 'probabilities': array([0.81823856, 0.18176144], dtype=float32), 'class_ids': array([0]), 'classes': array([b'0'], dtype=object), 'all_class_ids': array([0, 1], dtype=int32), 'all_classes': array([b'0', b'1'], dtype=object)}, {'logits': array([-1.3450234], dtype=float32), 'logistic': array([0.20668519], dtype=float32), 'probabilities': array([0.7933149 , 0.20668519], dtype=float32), 'class_ids': array([0]), 'classes': array([b'0'], dtype=object), 'all_class_ids': array([0, 1], dtype=int32), 'all_classes': array([b'0', b'1'], dtype=object)}, {'logits': array([0.9784919], dtype=float32), 'logistic': array([0.72680885], dtype=float32), 'probabilities': array([0.27319112, 0.7268089 ], dtype=float32), 'class_ids': array([1]), 'classes': array([b'1'], dtype=object), 'all_class_ids': array([0, 1], dtype=int32), 'all_classes': array([b'0', b'1'], dtype=object)}, {'logits': array([3.3494148], dtype=float32), 'logistic': array([0.9660857], dtype=float32), 'probabilities': array([0.03391433, 0.9660857 ], dtype=float32), 'class_ids': array([1]), 'classes': array([b'1'], dtype=object), 'all_class_ids': array([0, 1], dtype=int32), 'all_classes': array([b'0', b'1'], dtype=object)}, {'logits': array([0.6443537], dtype=float32), 'logistic': array([0.6557369], dtype=float32), 'probabilities': array([0.34426302, 0.6557369 ], dtype=float32), 'class_ids': array([1]), 'classes': array([b'1'], dtype=object), 'all_class_ids': array([0, 1], dtype=int32), 'all_classes': array([b'0', b'1'], dtype=object)}, {'logits': array([-2.538313], dtype=float32), 'logistic': array([0.07321557], dtype=float32), 'probabilities': array([0.92678446, 0.07321557], dtype=float32), 'class_ids': array([0]), 'classes': array([b'0'], dtype=object), 'all_class_ids': array([0, 1], dtype=int32), 'all_classes': array([b'0', b'1'], dtype=object)}, {'logits': array([-1.9051164], dtype=float32), 'logistic': array([0.12953049], dtype=float32), 'probabilities': array([0.87046945, 0.12953049], dtype=float32), 'class_ids': array([0]), 'classes': array([b'0'], dtype=object), 'all_class_ids': array([0, 1], dtype=int32), 'all_classes': array([b'0', b'1'], dtype=object)}, {'logits': array([-1.6344289], dtype=float32), 'logistic': array([0.16322455], dtype=float32), 'probabilities': array([0.8367755 , 0.16322456], dtype=float32), 'class_ids': array([0]), 'classes': array([b'0'], dtype=object), 'all_class_ids': array([0, 1], dtype=int32), 'all_classes': array([b'0', b'1'], dtype=object)}, {'logits': array([-2.100575], dtype=float32), 'logistic': array([0.10904095], dtype=float32), 'probabilities': array([0.8909591 , 0.10904095], dtype=float32), 'class_ids': array([0]), 'classes': array([b'0'], dtype=object), 'all_class_ids': array([0, 1], dtype=int32), 'all_classes': array([b'0', b'1'], dtype=object)}, {'logits': array([-1.9646829], dtype=float32), 'logistic': array([0.12296113], dtype=float32), 'probabilities': array([0.87703884, 0.12296113], dtype=float32), 'class_ids': array([0]), 'classes': array([b'0'], dtype=object), 'all_class_ids': array([0, 1], dtype=int32), 'all_classes': array([b'0', b'1'], dtype=object)}, {'logits': array([-1.5023216], dtype=float32), 'logistic': array([0.18207952], dtype=float32), 'probabilities': array([0.8179205 , 0.18207952], dtype=float32), 'class_ids': array([0]), 'classes': array([b'0'], dtype=object), 'all_class_ids': array([0, 1], dtype=int32), 'all_classes': array([b'0', b'1'], dtype=object)}, {'logits': array([1.0649099], dtype=float32), 'logistic': array([0.74362767], dtype=float32), 'probabilities': array([0.25637227, 0.7436277 ], dtype=float32), 'class_ids': array([1]), 'classes': array([b'1'], dtype=object), 'all_class_ids': array([0, 1], dtype=int32), 'all_classes': array([b'0', b'1'], dtype=object)}, {'logits': array([4.2280846], dtype=float32), 'logistic': array([0.98562926], dtype=float32), 'probabilities': array([0.01437076, 0.98562926], dtype=float32), 'class_ids': array([1]), 'classes': array([b'1'], dtype=object), 'all_class_ids': array([0, 1], dtype=int32), 'all_classes': array([b'0', b'1'], dtype=object)}, {'logits': array([0.7822486], dtype=float32), 'logistic': array([0.68616456], dtype=float32), 'probabilities': array([0.31383547, 0.68616456], dtype=float32), 'class_ids': array([1]), 'classes': array([b'1'], dtype=object), 'all_class_ids': array([0, 1], dtype=int32), 'all_classes': array([b'0', b'1'], dtype=object)}, {'logits': array([-0.14799711], dtype=float32), 'logistic': array([0.46306813], dtype=float32), 'probabilities': array([0.53693193, 0.46306813], dtype=float32), 'class_ids': array([0]), 'classes': array([b'0'], dtype=object), 'all_class_ids': array([0, 1], dtype=int32), 'all_classes': array([b'0', b'1'], dtype=object)}, {'logits': array([-1.4676856], dtype=float32), 'logistic': array([0.18729466], dtype=float32), 'probabilities': array([0.81270534, 0.18729465], dtype=float32), 'class_ids': array([0]), 'classes': array([b'0'], dtype=object), 'all_class_ids': array([0, 1], dtype=int32), 'all_classes': array([b'0', b'1'], dtype=object)}, {'logits': array([3.8643947], dtype=float32), 'logistic': array([0.97945535], dtype=float32), 'probabilities': array([0.02054468, 0.97945535], dtype=float32), 'class_ids': array([1]), 'classes': array([b'1'], dtype=object), 'all_class_ids': array([0, 1], dtype=int32), 'all_classes': array([b'0', b'1'], dtype=object)}, {'logits': array([-1.9397753], dtype=float32), 'logistic': array([0.12567255], dtype=float32), 'probabilities': array([0.8743275 , 0.12567255], dtype=float32), 'class_ids': array([0]), 'classes': array([b'0'], dtype=object), 'all_class_ids': array([0, 1], dtype=int32), 'all_classes': array([b'0', b'1'], dtype=object)}, {'logits': array([1.1106015], dtype=float32), 'logistic': array([0.75224125], dtype=float32), 'probabilities': array([0.24775876, 0.75224125], dtype=float32), 'class_ids': array([1]), 'classes': array([b'1'], dtype=object), 'all_class_ids': array([0, 1], dtype=int32), 'all_classes': array([b'0', b'1'], dtype=object)}, {'logits': array([0.7323674], dtype=float32), 'logistic': array([0.67532456], dtype=float32), 'probabilities': array([0.32467544, 0.67532456], dtype=float32), 'class_ids': array([1]), 'classes': array([b'1'], dtype=object), 'all_class_ids': array([0, 1], dtype=int32), 'all_classes': array([b'0', b'1'], dtype=object)}, {'logits': array([-1.722175], dtype=float32), 'logistic': array([0.15159121], dtype=float32), 'probabilities': array([0.8484088 , 0.15159123], dtype=float32), 'class_ids': array([0]), 'classes': array([b'0'], dtype=object), 'all_class_ids': array([0, 1], dtype=int32), 'all_classes': array([b'0', b'1'], dtype=object)}, {'logits': array([1.7527715], dtype=float32), 'logistic': array([0.8523021], dtype=float32), 'probabilities': array([0.14769797, 0.852302  ], dtype=float32), 'class_ids': array([1]), 'classes': array([b'1'], dtype=object), 'all_class_ids': array([0, 1], dtype=int32), 'all_classes': array([b'0', b'1'], dtype=object)}, {'logits': array([1.9813218], dtype=float32), 'logistic': array([0.87882197], dtype=float32), 'probabilities': array([0.12117799, 0.87882197], dtype=float32), 'class_ids': array([1]), 'classes': array([b'1'], dtype=object), 'all_class_ids': array([0, 1], dtype=int32), 'all_classes': array([b'0', b'1'], dtype=object)}, {'logits': array([3.89886], dtype=float32), 'logistic': array([0.9801375], dtype=float32), 'probabilities': array([0.01986249, 0.9801375 ], dtype=float32), 'class_ids': array([1]), 'classes': array([b'1'], dtype=object), 'all_class_ids': array([0, 1], dtype=int32), 'all_classes': array([b'0', b'1'], dtype=object)}, {'logits': array([-1.0048574], dtype=float32), 'logistic': array([0.2679875], dtype=float32), 'probabilities': array([0.7320125 , 0.26798746], dtype=float32), 'class_ids': array([0]), 'classes': array([b'0'], dtype=object), 'all_class_ids': array([0, 1], dtype=int32), 'all_classes': array([b'0', b'1'], dtype=object)}, {'logits': array([-2.0249727], dtype=float32), 'logistic': array([0.11660579], dtype=float32), 'probabilities': array([0.8833942 , 0.11660578], dtype=float32), 'class_ids': array([0]), 'classes': array([b'0'], dtype=object), 'all_class_ids': array([0, 1], dtype=int32), 'all_classes': array([b'0', b'1'], dtype=object)}, {'logits': array([4.5493584], dtype=float32), 'logistic': array([0.98953664], dtype=float32), 'probabilities': array([0.01046335, 0.98953664], dtype=float32), 'class_ids': array([1]), 'classes': array([b'1'], dtype=object), 'all_class_ids': array([0, 1], dtype=int32), 'all_classes': array([b'0', b'1'], dtype=object)}, {'logits': array([0.06485292], dtype=float32), 'logistic': array([0.5162076], dtype=float32), 'probabilities': array([0.48379242, 0.5162075 ], dtype=float32), 'class_ids': array([1]), 'classes': array([b'1'], dtype=object), 'all_class_ids': array([0, 1], dtype=int32), 'all_classes': array([b'0', b'1'], dtype=object)}, {'logits': array([3.7591763], dtype=float32), 'logistic': array([0.97722775], dtype=float32), 'probabilities': array([0.02277227, 0.97722775], dtype=float32), 'class_ids': array([1]), 'classes': array([b'1'], dtype=object), 'all_class_ids': array([0, 1], dtype=int32), 'all_classes': array([b'0', b'1'], dtype=object)}, {'logits': array([-1.2676548], dtype=float32), 'logistic': array([0.21965897], dtype=float32), 'probabilities': array([0.780341  , 0.21965899], dtype=float32), 'class_ids': array([0]), 'classes': array([b'0'], dtype=object), 'all_class_ids': array([0, 1], dtype=int32), 'all_classes': array([b'0', b'1'], dtype=object)}, {'logits': array([-2.341355], dtype=float32), 'logistic': array([0.08775538], dtype=float32), 'probabilities': array([0.91224456, 0.08775537], dtype=float32), 'class_ids': array([0]), 'classes': array([b'0'], dtype=object), 'all_class_ids': array([0, 1], dtype=int32), 'all_classes': array([b'0', b'1'], dtype=object)}, {'logits': array([-1.9688154], dtype=float32), 'logistic': array([0.12251616], dtype=float32), 'probabilities': array([0.8774838 , 0.12251618], dtype=float32), 'class_ids': array([0]), 'classes': array([b'0'], dtype=object), 'all_class_ids': array([0, 1], dtype=int32), 'all_classes': array([b'0', b'1'], dtype=object)}, {'logits': array([-0.59360266], dtype=float32), 'logistic': array([0.35580868], dtype=float32), 'probabilities': array([0.6441913 , 0.35580868], dtype=float32), 'class_ids': array([0]), 'classes': array([b'0'], dtype=object), 'all_class_ids': array([0, 1], dtype=int32), 'all_classes': array([b'0', b'1'], dtype=object)}, {'logits': array([-2.1261995], dtype=float32), 'logistic': array([0.10657629], dtype=float32), 'probabilities': array([0.8934237 , 0.10657633], dtype=float32), 'class_ids': array([0]), 'classes': array([b'0'], dtype=object), 'all_class_ids': array([0, 1], dtype=int32), 'all_classes': array([b'0', b'1'], dtype=object)}, {'logits': array([1.2637562], dtype=float32), 'logistic': array([0.779672], dtype=float32), 'probabilities': array([0.22032796, 0.779672  ], dtype=float32), 'class_ids': array([1]), 'classes': array([b'1'], dtype=object), 'all_class_ids': array([0, 1], dtype=int32), 'all_classes': array([b'0', b'1'], dtype=object)}, {'logits': array([1.196608], dtype=float32), 'logistic': array([0.7679208], dtype=float32), 'probabilities': array([0.23207918, 0.7679208 ], dtype=float32), 'class_ids': array([1]), 'classes': array([b'1'], dtype=object), 'all_class_ids': array([0, 1], dtype=int32), 'all_classes': array([b'0', b'1'], dtype=object)}, {'logits': array([0.61534065], dtype=float32), 'logistic': array([0.6491581], dtype=float32), 'probabilities': array([0.35084185, 0.6491581 ], dtype=float32), 'class_ids': array([1]), 'classes': array([b'1'], dtype=object), 'all_class_ids': array([0, 1], dtype=int32), 'all_classes': array([b'0', b'1'], dtype=object)}, {'logits': array([0.802567], dtype=float32), 'logistic': array([0.69052327], dtype=float32), 'probabilities': array([0.30947667, 0.6905233 ], dtype=float32), 'class_ids': array([1]), 'classes': array([b'1'], dtype=object), 'all_class_ids': array([0, 1], dtype=int32), 'all_classes': array([b'0', b'1'], dtype=object)}, {'logits': array([-1.436874], dtype=float32), 'logistic': array([0.1920299], dtype=float32), 'probabilities': array([0.8079701 , 0.19202988], dtype=float32), 'class_ids': array([0]), 'classes': array([b'0'], dtype=object), 'all_class_ids': array([0, 1], dtype=int32), 'all_classes': array([b'0', b'1'], dtype=object)}, {'logits': array([1.5237048], dtype=float32), 'logistic': array([0.8210834], dtype=float32), 'probabilities': array([0.17891662, 0.82108337], dtype=float32), 'class_ids': array([1]), 'classes': array([b'1'], dtype=object), 'all_class_ids': array([0, 1], dtype=int32), 'all_classes': array([b'0', b'1'], dtype=object)}, {'logits': array([2.3157823], dtype=float32), 'logistic': array([0.9101757], dtype=float32), 'probabilities': array([0.08982428, 0.9101757 ], dtype=float32), 'class_ids': array([1]), 'classes': array([b'1'], dtype=object), 'all_class_ids': array([0, 1], dtype=int32), 'all_classes': array([b'0', b'1'], dtype=object)}, {'logits': array([1.3879045], dtype=float32), 'logistic': array([0.8002575], dtype=float32), 'probabilities': array([0.1997425, 0.8002575], dtype=float32), 'class_ids': array([1]), 'classes': array([b'1'], dtype=object), 'all_class_ids': array([0, 1], dtype=int32), 'all_classes': array([b'0', b'1'], dtype=object)}, {'logits': array([-2.3709564], dtype=float32), 'logistic': array([0.08541438], dtype=float32), 'probabilities': array([0.91458553, 0.08541439], dtype=float32), 'class_ids': array([0]), 'classes': array([b'0'], dtype=object), 'all_class_ids': array([0, 1], dtype=int32), 'all_classes': array([b'0', b'1'], dtype=object)}, {'logits': array([1.5380797], dtype=float32), 'logistic': array([0.8231854], dtype=float32), 'probabilities': array([0.17681459, 0.8231854 ], dtype=float32), 'class_ids': array([1]), 'classes': array([b'1'], dtype=object), 'all_class_ids': array([0, 1], dtype=int32), 'all_classes': array([b'0', b'1'], dtype=object)}, {'logits': array([0.9322148], dtype=float32), 'logistic': array([0.7175244], dtype=float32), 'probabilities': array([0.2824756, 0.7175244], dtype=float32), 'class_ids': array([1]), 'classes': array([b'1'], dtype=object), 'all_class_ids': array([0, 1], dtype=int32), 'all_classes': array([b'0', b'1'], dtype=object)}, {'logits': array([0.85719395], dtype=float32), 'logistic': array([0.70207405], dtype=float32), 'probabilities': array([0.29792595, 0.70207405], dtype=float32), 'class_ids': array([1]), 'classes': array([b'1'], dtype=object), 'all_class_ids': array([0, 1], dtype=int32), 'all_classes': array([b'0', b'1'], dtype=object)}, {'logits': array([-2.525179], dtype=float32), 'logistic': array([0.07411176], dtype=float32), 'probabilities': array([0.9258882 , 0.07411179], dtype=float32), 'class_ids': array([0]), 'classes': array([b'0'], dtype=object), 'all_class_ids': array([0, 1], dtype=int32), 'all_classes': array([b'0', b'1'], dtype=object)}, {'logits': array([3.0487306], dtype=float32), 'logistic': array([0.95472765], dtype=float32), 'probabilities': array([0.04527231, 0.9547277 ], dtype=float32), 'class_ids': array([1]), 'classes': array([b'1'], dtype=object), 'all_class_ids': array([0, 1], dtype=int32), 'all_classes': array([b'0', b'1'], dtype=object)}, {'logits': array([0.9125382], dtype=float32), 'logistic': array([0.7135193], dtype=float32), 'probabilities': array([0.28648072, 0.7135193 ], dtype=float32), 'class_ids': array([1]), 'classes': array([b'1'], dtype=object), 'all_class_ids': array([0, 1], dtype=int32), 'all_classes': array([b'0', b'1'], dtype=object)}, {'logits': array([-2.0998113], dtype=float32), 'logistic': array([0.10911512], dtype=float32), 'probabilities': array([0.8908848 , 0.10911516], dtype=float32), 'class_ids': array([0]), 'classes': array([b'0'], dtype=object), 'all_class_ids': array([0, 1], dtype=int32), 'all_classes': array([b'0', b'1'], dtype=object)}, {'logits': array([1.0081125], dtype=float32), 'logistic': array([0.7326506], dtype=float32), 'probabilities': array([0.26734942, 0.73265064], dtype=float32), 'class_ids': array([1]), 'classes': array([b'1'], dtype=object), 'all_class_ids': array([0, 1], dtype=int32), 'all_classes': array([b'0', b'1'], dtype=object)}, {'logits': array([-2.0876591], dtype=float32), 'logistic': array([0.11030209], dtype=float32), 'probabilities': array([0.88969785, 0.11030208], dtype=float32), 'class_ids': array([0]), 'classes': array([b'0'], dtype=object), 'all_class_ids': array([0, 1], dtype=int32), 'all_classes': array([b'0', b'1'], dtype=object)}, {'logits': array([1.7711707], dtype=float32), 'logistic': array([0.8546032], dtype=float32), 'probabilities': array([0.1453968, 0.8546032], dtype=float32), 'class_ids': array([1]), 'classes': array([b'1'], dtype=object), 'all_class_ids': array([0, 1], dtype=int32), 'all_classes': array([b'0', b'1'], dtype=object)}, {'logits': array([0.6137335], dtype=float32), 'logistic': array([0.64879197], dtype=float32), 'probabilities': array([0.351208  , 0.64879197], dtype=float32), 'class_ids': array([1]), 'classes': array([b'1'], dtype=object), 'all_class_ids': array([0, 1], dtype=int32), 'all_classes': array([b'0', b'1'], dtype=object)}, {'logits': array([-1.9428176], dtype=float32), 'logistic': array([0.12533861], dtype=float32), 'probabilities': array([0.8746614 , 0.12533864], dtype=float32), 'class_ids': array([0]), 'classes': array([b'0'], dtype=object), 'all_class_ids': array([0, 1], dtype=int32), 'all_classes': array([b'0', b'1'], dtype=object)}, {'logits': array([0.5290378], dtype=float32), 'logistic': array([0.62925863], dtype=float32), 'probabilities': array([0.37074134, 0.62925863], dtype=float32), 'class_ids': array([1]), 'classes': array([b'1'], dtype=object), 'all_class_ids': array([0, 1], dtype=int32), 'all_classes': array([b'0', b'1'], dtype=object)}, {'logits': array([1.9761285], dtype=float32), 'logistic': array([0.8782679], dtype=float32), 'probabilities': array([0.12173215, 0.8782678 ], dtype=float32), 'class_ids': array([1]), 'classes': array([b'1'], dtype=object), 'all_class_ids': array([0, 1], dtype=int32), 'all_classes': array([b'0', b'1'], dtype=object)}, {'logits': array([-1.8617804], dtype=float32), 'logistic': array([0.13449565], dtype=float32), 'probabilities': array([0.8655043 , 0.13449566], dtype=float32), 'class_ids': array([0]), 'classes': array([b'0'], dtype=object), 'all_class_ids': array([0, 1], dtype=int32), 'all_classes': array([b'0', b'1'], dtype=object)}, {'logits': array([-2.0785482], dtype=float32), 'logistic': array([0.11119935], dtype=float32), 'probabilities': array([0.8888006 , 0.11119937], dtype=float32), 'class_ids': array([0]), 'classes': array([b'0'], dtype=object), 'all_class_ids': array([0, 1], dtype=int32), 'all_classes': array([b'0', b'1'], dtype=object)}, {'logits': array([1.08965], dtype=float32), 'logistic': array([0.7483158], dtype=float32), 'probabilities': array([0.2516842, 0.7483158], dtype=float32), 'class_ids': array([1]), 'classes': array([b'1'], dtype=object), 'all_class_ids': array([0, 1], dtype=int32), 'all_classes': array([b'0', b'1'], dtype=object)}, {'logits': array([-1.8253161], dtype=float32), 'logistic': array([0.13879722], dtype=float32), 'probabilities': array([0.86120284, 0.13879722], dtype=float32), 'class_ids': array([0]), 'classes': array([b'0'], dtype=object), 'all_class_ids': array([0, 1], dtype=int32), 'all_classes': array([b'0', b'1'], dtype=object)}, {'logits': array([-1.6179427], dtype=float32), 'logistic': array([0.16548878], dtype=float32), 'probabilities': array([0.83451116, 0.1654888 ], dtype=float32), 'class_ids': array([0]), 'classes': array([b'0'], dtype=object), 'all_class_ids': array([0, 1], dtype=int32), 'all_classes': array([b'0', b'1'], dtype=object)}, {'logits': array([-1.3805922], dtype=float32), 'logistic': array([0.20091388], dtype=float32), 'probabilities': array([0.79908615, 0.20091392], dtype=float32), 'class_ids': array([0]), 'classes': array([b'0'], dtype=object), 'all_class_ids': array([0, 1], dtype=int32), 'all_classes': array([b'0', b'1'], dtype=object)}, {'logits': array([-2.2642744], dtype=float32), 'logistic': array([0.09412527], dtype=float32), 'probabilities': array([0.90587467, 0.09412528], dtype=float32), 'class_ids': array([0]), 'classes': array([b'0'], dtype=object), 'all_class_ids': array([0, 1], dtype=int32), 'all_classes': array([b'0', b'1'], dtype=object)}, {'logits': array([0.8320353], dtype=float32), 'logistic': array([0.6967851], dtype=float32), 'probabilities': array([0.3032149 , 0.69678515], dtype=float32), 'class_ids': array([1]), 'classes': array([b'1'], dtype=object), 'all_class_ids': array([0, 1], dtype=int32), 'all_classes': array([b'0', b'1'], dtype=object)}, {'logits': array([-1.9689537], dtype=float32), 'logistic': array([0.12250131], dtype=float32), 'probabilities': array([0.8774986, 0.1225013], dtype=float32), 'class_ids': array([0]), 'classes': array([b'0'], dtype=object), 'all_class_ids': array([0, 1], dtype=int32), 'all_classes': array([b'0', b'1'], dtype=object)}, {'logits': array([-2.502492], dtype=float32), 'logistic': array([0.07568365], dtype=float32), 'probabilities': array([0.92431635, 0.07568368], dtype=float32), 'class_ids': array([0]), 'classes': array([b'0'], dtype=object), 'all_class_ids': array([0, 1], dtype=int32), 'all_classes': array([b'0', b'1'], dtype=object)}, {'logits': array([-2.1170886], dtype=float32), 'logistic': array([0.10744691], dtype=float32), 'probabilities': array([0.89255303, 0.10744696], dtype=float32), 'class_ids': array([0]), 'classes': array([b'0'], dtype=object), 'all_class_ids': array([0, 1], dtype=int32), 'all_classes': array([b'0', b'1'], dtype=object)}, {'logits': array([-1.9527677], dtype=float32), 'logistic': array([0.12425187], dtype=float32), 'probabilities': array([0.8757481 , 0.12425187], dtype=float32), 'class_ids': array([0]), 'classes': array([b'0'], dtype=object), 'all_class_ids': array([0, 1], dtype=int32), 'all_classes': array([b'0', b'1'], dtype=object)}, {'logits': array([-1.1651466], dtype=float32), 'logistic': array([0.2377334], dtype=float32), 'probabilities': array([0.7622666 , 0.23773338], dtype=float32), 'class_ids': array([0]), 'classes': array([b'0'], dtype=object), 'all_class_ids': array([0, 1], dtype=int32), 'all_classes': array([b'0', b'1'], dtype=object)}, {'logits': array([-1.4720713], dtype=float32), 'logistic': array([0.18662798], dtype=float32), 'probabilities': array([0.813372, 0.186628], dtype=float32), 'class_ids': array([0]), 'classes': array([b'0'], dtype=object), 'all_class_ids': array([0, 1], dtype=int32), 'all_classes': array([b'0', b'1'], dtype=object)}, {'logits': array([3.3757045], dtype=float32), 'logistic': array([0.9669366], dtype=float32), 'probabilities': array([0.03306345, 0.9669366 ], dtype=float32), 'class_ids': array([1]), 'classes': array([b'1'], dtype=object), 'all_class_ids': array([0, 1], dtype=int32), 'all_classes': array([b'0', b'1'], dtype=object)}, {'logits': array([-1.9982575], dtype=float32), 'logistic': array([0.11938599], dtype=float32), 'probabilities': array([0.880614  , 0.11938599], dtype=float32), 'class_ids': array([0]), 'classes': array([b'0'], dtype=object), 'all_class_ids': array([0, 1], dtype=int32), 'all_classes': array([b'0', b'1'], dtype=object)}, {'logits': array([-2.0043623], dtype=float32), 'logistic': array([0.11874565], dtype=float32), 'probabilities': array([0.8812543 , 0.11874566], dtype=float32), 'class_ids': array([0]), 'classes': array([b'0'], dtype=object), 'all_class_ids': array([0, 1], dtype=int32), 'all_classes': array([b'0', b'1'], dtype=object)}, {'logits': array([0.94791317], dtype=float32), 'logistic': array([0.7206953], dtype=float32), 'probabilities': array([0.27930468, 0.7206953 ], dtype=float32), 'class_ids': array([1]), 'classes': array([b'1'], dtype=object), 'all_class_ids': array([0, 1], dtype=int32), 'all_classes': array([b'0', b'1'], dtype=object)}, {'logits': array([3.6191974], dtype=float32), 'logistic': array([0.97389555], dtype=float32), 'probabilities': array([0.02610447, 0.9738955 ], dtype=float32), 'class_ids': array([1]), 'classes': array([b'1'], dtype=object), 'all_class_ids': array([0, 1], dtype=int32), 'all_classes': array([b'0', b'1'], dtype=object)}, {'logits': array([-1.9136964], dtype=float32), 'logistic': array([0.12856615], dtype=float32), 'probabilities': array([0.87143385, 0.12856615], dtype=float32), 'class_ids': array([0]), 'classes': array([b'0'], dtype=object), 'all_class_ids': array([0, 1], dtype=int32), 'all_classes': array([b'0', b'1'], dtype=object)}, {'logits': array([-1.8445863], dtype=float32), 'logistic': array([0.13650975], dtype=float32), 'probabilities': array([0.8634902 , 0.13650978], dtype=float32), 'class_ids': array([0]), 'classes': array([b'0'], dtype=object), 'all_class_ids': array([0, 1], dtype=int32), 'all_classes': array([b'0', b'1'], dtype=object)}, {'logits': array([-2.0785482], dtype=float32), 'logistic': array([0.11119935], dtype=float32), 'probabilities': array([0.8888006 , 0.11119937], dtype=float32), 'class_ids': array([0]), 'classes': array([b'0'], dtype=object), 'all_class_ids': array([0, 1], dtype=int32), 'all_classes': array([b'0', b'1'], dtype=object)}, {'logits': array([0.10520919], dtype=float32), 'logistic': array([0.5262781], dtype=float32), 'probabilities': array([0.47372198, 0.5262781 ], dtype=float32), 'class_ids': array([1]), 'classes': array([b'1'], dtype=object), 'all_class_ids': array([0, 1], dtype=int32), 'all_classes': array([b'0', b'1'], dtype=object)}, {'logits': array([-1.6385411], dtype=float32), 'logistic': array([0.16266367], dtype=float32), 'probabilities': array([0.83733636, 0.16266368], dtype=float32), 'class_ids': array([0]), 'classes': array([b'0'], dtype=object), 'all_class_ids': array([0, 1], dtype=int32), 'all_classes': array([b'0', b'1'], dtype=object)}, {'logits': array([-1.5544492], dtype=float32), 'logistic': array([0.17444459], dtype=float32), 'probabilities': array([0.8255554 , 0.17444459], dtype=float32), 'class_ids': array([0]), 'classes': array([b'0'], dtype=object), 'all_class_ids': array([0, 1], dtype=int32), 'all_classes': array([b'0', b'1'], dtype=object)}, {'logits': array([-2.2919438], dtype=float32), 'logistic': array([0.09179235], dtype=float32), 'probabilities': array([0.90820765, 0.09179238], dtype=float32), 'class_ids': array([0]), 'classes': array([b'0'], dtype=object), 'all_class_ids': array([0, 1], dtype=int32), 'all_classes': array([b'0', b'1'], dtype=object)}, {'logits': array([-1.5544014], dtype=float32), 'logistic': array([0.17445147], dtype=float32), 'probabilities': array([0.8255485 , 0.17445149], dtype=float32), 'class_ids': array([0]), 'classes': array([b'0'], dtype=object), 'all_class_ids': array([0, 1], dtype=int32), 'all_classes': array([b'0', b'1'], dtype=object)}, {'logits': array([-2.005091], dtype=float32), 'logistic': array([0.11866942], dtype=float32), 'probabilities': array([0.88133055, 0.11866944], dtype=float32), 'class_ids': array([0]), 'classes': array([b'0'], dtype=object), 'all_class_ids': array([0, 1], dtype=int32), 'all_classes': array([b'0', b'1'], dtype=object)}, {'logits': array([-1.0805149], dtype=float32), 'logistic': array([0.2534086], dtype=float32), 'probabilities': array([0.74659145, 0.2534086 ], dtype=float32), 'class_ids': array([0]), 'classes': array([b'0'], dtype=object), 'all_class_ids': array([0, 1], dtype=int32), 'all_classes': array([b'0', b'1'], dtype=object)}, {'logits': array([-1.3948158], dtype=float32), 'logistic': array([0.19864005], dtype=float32), 'probabilities': array([0.80135995, 0.19864005], dtype=float32), 'class_ids': array([0]), 'classes': array([b'0'], dtype=object), 'all_class_ids': array([0, 1], dtype=int32), 'all_classes': array([b'0', b'1'], dtype=object)}, {'logits': array([-0.33691642], dtype=float32), 'logistic': array([0.4165587], dtype=float32), 'probabilities': array([0.5834413 , 0.41655868], dtype=float32), 'class_ids': array([0]), 'classes': array([b'0'], dtype=object), 'all_class_ids': array([0, 1], dtype=int32), 'all_classes': array([b'0', b'1'], dtype=object)}, {'logits': array([-1.4388281], dtype=float32), 'logistic': array([0.1917269], dtype=float32), 'probabilities': array([0.8082731 , 0.19172688], dtype=float32), 'class_ids': array([0]), 'classes': array([b'0'], dtype=object), 'all_class_ids': array([0, 1], dtype=int32), 'all_classes': array([b'0', b'1'], dtype=object)}, {'logits': array([-1.3500116], dtype=float32), 'logistic': array([0.20586848], dtype=float32), 'probabilities': array([0.7941315 , 0.20586848], dtype=float32), 'class_ids': array([0]), 'classes': array([b'0'], dtype=object), 'all_class_ids': array([0, 1], dtype=int32), 'all_classes': array([b'0', b'1'], dtype=object)}, {'logits': array([-1.2268448], dtype=float32), 'logistic': array([0.22673416], dtype=float32), 'probabilities': array([0.7732659 , 0.22673416], dtype=float32), 'class_ids': array([0]), 'classes': array([b'0'], dtype=object), 'all_class_ids': array([0, 1], dtype=int32), 'all_classes': array([b'0', b'1'], dtype=object)}, {'logits': array([0.69605684], dtype=float32), 'logistic': array([0.6673129], dtype=float32), 'probabilities': array([0.33268705, 0.6673129 ], dtype=float32), 'class_ids': array([1]), 'classes': array([b'1'], dtype=object), 'all_class_ids': array([0, 1], dtype=int32), 'all_classes': array([b'0', b'1'], dtype=object)}, {'logits': array([-1.5544014], dtype=float32), 'logistic': array([0.17445147], dtype=float32), 'probabilities': array([0.8255485 , 0.17445149], dtype=float32), 'class_ids': array([0]), 'classes': array([b'0'], dtype=object), 'all_class_ids': array([0, 1], dtype=int32), 'all_classes': array([b'0', b'1'], dtype=object)}, {'logits': array([0.94928885], dtype=float32), 'logistic': array([0.7209721], dtype=float32), 'probabilities': array([0.27902785, 0.7209721 ], dtype=float32), 'class_ids': array([1]), 'classes': array([b'1'], dtype=object), 'all_class_ids': array([0, 1], dtype=int32), 'all_classes': array([b'0', b'1'], dtype=object)}, {'logits': array([-1.8316592], dtype=float32), 'logistic': array([0.13804075], dtype=float32), 'probabilities': array([0.8619592 , 0.13804074], dtype=float32), 'class_ids': array([0]), 'classes': array([b'0'], dtype=object), 'all_class_ids': array([0, 1], dtype=int32), 'all_classes': array([b'0', b'1'], dtype=object)}, {'logits': array([3.2403035], dtype=float32), 'logistic': array([0.96232307], dtype=float32), 'probabilities': array([0.03767689, 0.9623231 ], dtype=float32), 'class_ids': array([1]), 'classes': array([b'1'], dtype=object), 'all_class_ids': array([0, 1], dtype=int32), 'all_classes': array([b'0', b'1'], dtype=object)}, {'logits': array([1.3835853], dtype=float32), 'logistic': array([0.79956615], dtype=float32), 'probabilities': array([0.2004338, 0.7995662], dtype=float32), 'class_ids': array([1]), 'classes': array([b'1'], dtype=object), 'all_class_ids': array([0, 1], dtype=int32), 'all_classes': array([b'0', b'1'], dtype=object)}, {'logits': array([-2.1570525], dtype=float32), 'logistic': array([0.10367402], dtype=float32), 'probabilities': array([0.89632595, 0.10367402], dtype=float32), 'class_ids': array([0]), 'classes': array([b'0'], dtype=object), 'all_class_ids': array([0, 1], dtype=int32), 'all_classes': array([b'0', b'1'], dtype=object)}, {'logits': array([3.6064749], dtype=float32), 'logistic': array([0.9735701], dtype=float32), 'probabilities': array([0.02642987, 0.9735701 ], dtype=float32), 'class_ids': array([1]), 'classes': array([b'1'], dtype=object), 'all_class_ids': array([0, 1], dtype=int32), 'all_classes': array([b'0', b'1'], dtype=object)}, {'logits': array([-1.5855106], dtype=float32), 'logistic': array([0.17001644], dtype=float32), 'probabilities': array([0.82998353, 0.17001647], dtype=float32), 'class_ids': array([0]), 'classes': array([b'0'], dtype=object), 'all_class_ids': array([0, 1], dtype=int32), 'all_classes': array([b'0', b'1'], dtype=object)}, {'logits': array([-1.5375086], dtype=float32), 'logistic': array([0.17689773], dtype=float32), 'probabilities': array([0.82310224, 0.17689773], dtype=float32), 'class_ids': array([0]), 'classes': array([b'0'], dtype=object), 'all_class_ids': array([0, 1], dtype=int32), 'all_classes': array([b'0', b'1'], dtype=object)}, {'logits': array([3.520667], dtype=float32), 'logistic': array([0.9712701], dtype=float32), 'probabilities': array([0.02872988, 0.9712702 ], dtype=float32), 'class_ids': array([1]), 'classes': array([b'1'], dtype=object), 'all_class_ids': array([0, 1], dtype=int32), 'all_classes': array([b'0', b'1'], dtype=object)}, {'logits': array([-1.962927], dtype=float32), 'logistic': array([0.12315062], dtype=float32), 'probabilities': array([0.87684935, 0.12315063], dtype=float32), 'class_ids': array([0]), 'classes': array([b'0'], dtype=object), 'all_class_ids': array([0, 1], dtype=int32), 'all_classes': array([b'0', b'1'], dtype=object)}, {'logits': array([1.6462895], dtype=float32), 'logistic': array([0.8383889], dtype=float32), 'probabilities': array([0.16161108, 0.838389  ], dtype=float32), 'class_ids': array([1]), 'classes': array([b'1'], dtype=object), 'all_class_ids': array([0, 1], dtype=int32), 'all_classes': array([b'0', b'1'], dtype=object)}, {'logits': array([-2.0803041], dtype=float32), 'logistic': array([0.11102593], dtype=float32), 'probabilities': array([0.8889741 , 0.11102594], dtype=float32), 'class_ids': array([0]), 'classes': array([b'0'], dtype=object), 'all_class_ids': array([0, 1], dtype=int32), 'all_classes': array([b'0', b'1'], dtype=object)}, {'logits': array([-0.51431453], dtype=float32), 'logistic': array([0.37418264], dtype=float32), 'probabilities': array([0.62581736, 0.37418264], dtype=float32), 'class_ids': array([0]), 'classes': array([b'0'], dtype=object), 'all_class_ids': array([0, 1], dtype=int32), 'all_classes': array([b'0', b'1'], dtype=object)}, {'logits': array([-2.386871], dtype=float32), 'logistic': array([0.08417934], dtype=float32), 'probabilities': array([0.9158207 , 0.08417934], dtype=float32), 'class_ids': array([0]), 'classes': array([b'0'], dtype=object), 'all_class_ids': array([0, 1], dtype=int32), 'all_classes': array([b'0', b'1'], dtype=object)}, {'logits': array([-1.8253161], dtype=float32), 'logistic': array([0.13879722], dtype=float32), 'probabilities': array([0.86120284, 0.13879722], dtype=float32), 'class_ids': array([0]), 'classes': array([b'0'], dtype=object), 'all_class_ids': array([0, 1], dtype=int32), 'all_classes': array([b'0', b'1'], dtype=object)}, {'logits': array([0.90732807], dtype=float32), 'logistic': array([0.71245307], dtype=float32), 'probabilities': array([0.2875469 , 0.71245307], dtype=float32), 'class_ids': array([1]), 'classes': array([b'1'], dtype=object), 'all_class_ids': array([0, 1], dtype=int32), 'all_classes': array([b'0', b'1'], dtype=object)}, {'logits': array([2.5769343], dtype=float32), 'logistic': array([0.9293623], dtype=float32), 'probabilities': array([0.07063773, 0.9293623 ], dtype=float32), 'class_ids': array([1]), 'classes': array([b'1'], dtype=object), 'all_class_ids': array([0, 1], dtype=int32), 'all_classes': array([b'0', b'1'], dtype=object)}, {'logits': array([-1.371796], dtype=float32), 'logistic': array([0.20232984], dtype=float32), 'probabilities': array([0.7976701 , 0.20232981], dtype=float32), 'class_ids': array([0]), 'classes': array([b'0'], dtype=object), 'all_class_ids': array([0, 1], dtype=int32), 'all_classes': array([b'0', b'1'], dtype=object)}, {'logits': array([0.00601526], dtype=float32), 'logistic': array([0.5015038], dtype=float32), 'probabilities': array([0.4984962, 0.5015038], dtype=float32), 'class_ids': array([1]), 'classes': array([b'1'], dtype=object), 'all_class_ids': array([0, 1], dtype=int32), 'all_classes': array([b'0', b'1'], dtype=object)}, {'logits': array([-1.9458867], dtype=float32), 'logistic': array([0.12500253], dtype=float32), 'probabilities': array([0.8749974 , 0.12500255], dtype=float32), 'class_ids': array([0]), 'classes': array([b'0'], dtype=object), 'all_class_ids': array([0, 1], dtype=int32), 'all_classes': array([b'0', b'1'], dtype=object)}, {'logits': array([-1.8519777], dtype=float32), 'logistic': array([0.13564083], dtype=float32), 'probabilities': array([0.86435914, 0.13564086], dtype=float32), 'class_ids': array([0]), 'classes': array([b'0'], dtype=object), 'all_class_ids': array([0, 1], dtype=int32), 'all_classes': array([b'0', b'1'], dtype=object)}, {'logits': array([-0.9971958], dtype=float32), 'logistic': array([0.26949313], dtype=float32), 'probabilities': array([0.7305069 , 0.26949313], dtype=float32), 'class_ids': array([0]), 'classes': array([b'0'], dtype=object), 'all_class_ids': array([0, 1], dtype=int32), 'all_classes': array([b'0', b'1'], dtype=object)}, {'logits': array([-0.899712], dtype=float32), 'logistic': array([0.28910968], dtype=float32), 'probabilities': array([0.7108903 , 0.28910968], dtype=float32), 'class_ids': array([0]), 'classes': array([b'0'], dtype=object), 'all_class_ids': array([0, 1], dtype=int32), 'all_classes': array([b'0', b'1'], dtype=object)}, {'logits': array([3.8026452], dtype=float32), 'logistic': array([0.9781753], dtype=float32), 'probabilities': array([0.02182473, 0.9781753 ], dtype=float32), 'class_ids': array([1]), 'classes': array([b'1'], dtype=object), 'all_class_ids': array([0, 1], dtype=int32), 'all_classes': array([b'0', b'1'], dtype=object)}, {'logits': array([0.32761535], dtype=float32), 'logistic': array([0.581179], dtype=float32), 'probabilities': array([0.41882092, 0.581179  ], dtype=float32), 'class_ids': array([1]), 'classes': array([b'1'], dtype=object), 'all_class_ids': array([0, 1], dtype=int32), 'all_classes': array([b'0', b'1'], dtype=object)}, {'logits': array([-1.9068724], dtype=float32), 'logistic': array([0.1293326], dtype=float32), 'probabilities': array([0.87066734, 0.12933263], dtype=float32), 'class_ids': array([0]), 'classes': array([b'0'], dtype=object), 'all_class_ids': array([0, 1], dtype=int32), 'all_classes': array([b'0', b'1'], dtype=object)}, {'logits': array([-0.15373811], dtype=float32), 'logistic': array([0.461641], dtype=float32), 'probabilities': array([0.53835905, 0.46164104], dtype=float32), 'class_ids': array([0]), 'classes': array([b'0'], dtype=object), 'all_class_ids': array([0, 1], dtype=int32), 'all_classes': array([b'0', b'1'], dtype=object)}, {'logits': array([0.9501909], dtype=float32), 'logistic': array([0.7211536], dtype=float32), 'probabilities': array([0.2788464 , 0.72115356], dtype=float32), 'class_ids': array([1]), 'classes': array([b'1'], dtype=object), 'all_class_ids': array([0, 1], dtype=int32), 'all_classes': array([b'0', b'1'], dtype=object)}, {'logits': array([1.130602], dtype=float32), 'logistic': array([0.75595], dtype=float32), 'probabilities': array([0.24405004, 0.75595003], dtype=float32), 'class_ids': array([1]), 'classes': array([b'1'], dtype=object), 'all_class_ids': array([0, 1], dtype=int32), 'all_classes': array([b'0', b'1'], dtype=object)}, {'logits': array([-1.1361881], dtype=float32), 'logistic': array([0.24302092], dtype=float32), 'probabilities': array([0.7569791 , 0.24302092], dtype=float32), 'class_ids': array([0]), 'classes': array([b'0'], dtype=object), 'all_class_ids': array([0, 1], dtype=int32), 'all_classes': array([b'0', b'1'], dtype=object)}, {'logits': array([0.5279265], dtype=float32), 'logistic': array([0.62899935], dtype=float32), 'probabilities': array([0.37100065, 0.62899935], dtype=float32), 'class_ids': array([1]), 'classes': array([b'1'], dtype=object), 'all_class_ids': array([0, 1], dtype=int32), 'all_classes': array([b'0', b'1'], dtype=object)}, {'logits': array([-1.7856914], dtype=float32), 'logistic': array([0.14360178], dtype=float32), 'probabilities': array([0.8563982 , 0.14360178], dtype=float32), 'class_ids': array([0]), 'classes': array([b'0'], dtype=object), 'all_class_ids': array([0, 1], dtype=int32), 'all_classes': array([b'0', b'1'], dtype=object)}, {'logits': array([-0.9115876], dtype=float32), 'logistic': array([0.2866751], dtype=float32), 'probabilities': array([0.7133249 , 0.28667507], dtype=float32), 'class_ids': array([0]), 'classes': array([b'0'], dtype=object), 'all_class_ids': array([0, 1], dtype=int32), 'all_classes': array([b'0', b'1'], dtype=object)}, {'logits': array([2.455662], dtype=float32), 'logistic': array([0.9209745], dtype=float32), 'probabilities': array([0.07902548, 0.9209745 ], dtype=float32), 'class_ids': array([1]), 'classes': array([b'1'], dtype=object), 'all_class_ids': array([0, 1], dtype=int32), 'all_classes': array([b'0', b'1'], dtype=object)}, {'logits': array([-2.0703585], dtype=float32), 'logistic': array([0.11201134], dtype=float32), 'probabilities': array([0.88798857, 0.11201137], dtype=float32), 'class_ids': array([0]), 'classes': array([b'0'], dtype=object), 'all_class_ids': array([0, 1], dtype=int32), 'all_classes': array([b'0', b'1'], dtype=object)}, {'logits': array([-2.0111024], dtype=float32), 'logistic': array([0.11804214], dtype=float32), 'probabilities': array([0.8819578 , 0.11804215], dtype=float32), 'class_ids': array([0]), 'classes': array([b'0'], dtype=object), 'all_class_ids': array([0, 1], dtype=int32), 'all_classes': array([b'0', b'1'], dtype=object)}, {'logits': array([0.8137337], dtype=float32), 'logistic': array([0.6929046], dtype=float32), 'probabilities': array([0.30709544, 0.69290453], dtype=float32), 'class_ids': array([1]), 'classes': array([b'1'], dtype=object), 'all_class_ids': array([0, 1], dtype=int32), 'all_classes': array([b'0', b'1'], dtype=object)}, {'logits': array([0.953702], dtype=float32), 'logistic': array([0.72185904], dtype=float32), 'probabilities': array([0.27814093, 0.72185904], dtype=float32), 'class_ids': array([1]), 'classes': array([b'1'], dtype=object), 'all_class_ids': array([0, 1], dtype=int32), 'all_classes': array([b'0', b'1'], dtype=object)}, {'logits': array([-0.46074006], dtype=float32), 'logistic': array([0.3868103], dtype=float32), 'probabilities': array([0.6131897 , 0.38681027], dtype=float32), 'class_ids': array([0]), 'classes': array([b'0'], dtype=object), 'all_class_ids': array([0, 1], dtype=int32), 'all_classes': array([b'0', b'1'], dtype=object)}, {'logits': array([-2.0131745], dtype=float32), 'logistic': array([0.11782658], dtype=float32), 'probabilities': array([0.8821734, 0.1178266], dtype=float32), 'class_ids': array([0]), 'classes': array([b'0'], dtype=object), 'all_class_ids': array([0, 1], dtype=int32), 'all_classes': array([b'0', b'1'], dtype=object)}, {'logits': array([-1.4966385], dtype=float32), 'logistic': array([0.1829274], dtype=float32), 'probabilities': array([0.8170726, 0.1829274], dtype=float32), 'class_ids': array([0]), 'classes': array([b'0'], dtype=object), 'all_class_ids': array([0, 1], dtype=int32), 'all_classes': array([b'0', b'1'], dtype=object)}, {'logits': array([-1.689329], dtype=float32), 'logistic': array([0.15586412], dtype=float32), 'probabilities': array([0.8441359 , 0.15586409], dtype=float32), 'class_ids': array([0]), 'classes': array([b'0'], dtype=object), 'all_class_ids': array([0, 1], dtype=int32), 'all_classes': array([b'0', b'1'], dtype=object)}, {'logits': array([-2.386871], dtype=float32), 'logistic': array([0.08417934], dtype=float32), 'probabilities': array([0.9158207 , 0.08417934], dtype=float32), 'class_ids': array([0]), 'classes': array([b'0'], dtype=object), 'all_class_ids': array([0, 1], dtype=int32), 'all_classes': array([b'0', b'1'], dtype=object)}, {'logits': array([-1.9443091], dtype=float32), 'logistic': array([0.12517518], dtype=float32), 'probabilities': array([0.87482476, 0.12517522], dtype=float32), 'class_ids': array([0]), 'classes': array([b'0'], dtype=object), 'all_class_ids': array([0, 1], dtype=int32), 'all_classes': array([b'0', b'1'], dtype=object)}, {'logits': array([5.180861], dtype=float32), 'logistic': array([0.99440825], dtype=float32), 'probabilities': array([0.00559172, 0.99440825], dtype=float32), 'class_ids': array([1]), 'classes': array([b'1'], dtype=object), 'all_class_ids': array([0, 1], dtype=int32), 'all_classes': array([b'0', b'1'], dtype=object)}, {'logits': array([1.566172], dtype=float32), 'logistic': array([0.82723725], dtype=float32), 'probabilities': array([0.1727628, 0.8272372], dtype=float32), 'class_ids': array([1]), 'classes': array([b'1'], dtype=object), 'all_class_ids': array([0, 1], dtype=int32), 'all_classes': array([b'0', b'1'], dtype=object)}, {'logits': array([-1.9611858], dtype=float32), 'logistic': array([0.12333873], dtype=float32), 'probabilities': array([0.8766612 , 0.12333877], dtype=float32), 'class_ids': array([0]), 'classes': array([b'0'], dtype=object), 'all_class_ids': array([0, 1], dtype=int32), 'all_classes': array([b'0', b'1'], dtype=object)}, {'logits': array([1.220167], dtype=float32), 'logistic': array([0.77209294], dtype=float32), 'probabilities': array([0.22790708, 0.772093  ], dtype=float32), 'class_ids': array([1]), 'classes': array([b'1'], dtype=object), 'all_class_ids': array([0, 1], dtype=int32), 'all_classes': array([b'0', b'1'], dtype=object)}, {'logits': array([-0.0104119], dtype=float32), 'logistic': array([0.49739704], dtype=float32), 'probabilities': array([0.50260293, 0.497397  ], dtype=float32), 'class_ids': array([0]), 'classes': array([b'0'], dtype=object), 'all_class_ids': array([0, 1], dtype=int32), 'all_classes': array([b'0', b'1'], dtype=object)}, {'logits': array([-1.6950234], dtype=float32), 'logistic': array([0.15511635], dtype=float32), 'probabilities': array([0.8448836 , 0.15511635], dtype=float32), 'class_ids': array([0]), 'classes': array([b'0'], dtype=object), 'all_class_ids': array([0, 1], dtype=int32), 'all_classes': array([b'0', b'1'], dtype=object)}, {'logits': array([-1.7968651], dtype=float32), 'logistic': array([0.14223313], dtype=float32), 'probabilities': array([0.8577669 , 0.14223312], dtype=float32), 'class_ids': array([0]), 'classes': array([b'0'], dtype=object), 'all_class_ids': array([0, 1], dtype=int32), 'all_classes': array([b'0', b'1'], dtype=object)}, {'logits': array([-1.3481601], dtype=float32), 'logistic': array([0.20617133], dtype=float32), 'probabilities': array([0.79382867, 0.20617133], dtype=float32), 'class_ids': array([0]), 'classes': array([b'0'], dtype=object), 'all_class_ids': array([0, 1], dtype=int32), 'all_classes': array([b'0', b'1'], dtype=object)}, {'logits': array([-1.917411], dtype=float32), 'logistic': array([0.12815058], dtype=float32), 'probabilities': array([0.8718495 , 0.12815055], dtype=float32), 'class_ids': array([0]), 'classes': array([b'0'], dtype=object), 'all_class_ids': array([0, 1], dtype=int32), 'all_classes': array([b'0', b'1'], dtype=object)}, {'logits': array([0.9491465], dtype=float32), 'logistic': array([0.7209435], dtype=float32), 'probabilities': array([0.27905652, 0.7209435 ], dtype=float32), 'class_ids': array([1]), 'classes': array([b'1'], dtype=object), 'all_class_ids': array([0, 1], dtype=int32), 'all_classes': array([b'0', b'1'], dtype=object)}, {'logits': array([-1.996504], dtype=float32), 'logistic': array([0.11957049], dtype=float32), 'probabilities': array([0.8804295 , 0.11957048], dtype=float32), 'class_ids': array([0]), 'classes': array([b'0'], dtype=object), 'all_class_ids': array([0, 1], dtype=int32), 'all_classes': array([b'0', b'1'], dtype=object)}, {'logits': array([0.6842689], dtype=float32), 'logistic': array([0.6646908], dtype=float32), 'probabilities': array([0.33530918, 0.6646908 ], dtype=float32), 'class_ids': array([1]), 'classes': array([b'1'], dtype=object), 'all_class_ids': array([0, 1], dtype=int32), 'all_classes': array([b'0', b'1'], dtype=object)}, {'logits': array([-0.06211702], dtype=float32), 'logistic': array([0.48447573], dtype=float32), 'probabilities': array([0.51552427, 0.48447573], dtype=float32), 'class_ids': array([0]), 'classes': array([b'0'], dtype=object), 'all_class_ids': array([0, 1], dtype=int32), 'all_classes': array([b'0', b'1'], dtype=object)}, {'logits': array([-2.1377823], dtype=float32), 'logistic': array([0.10547844], dtype=float32), 'probabilities': array([0.89452153, 0.10547845], dtype=float32), 'class_ids': array([0]), 'classes': array([b'0'], dtype=object), 'all_class_ids': array([0, 1], dtype=int32), 'all_classes': array([b'0', b'1'], dtype=object)}, {'logits': array([-1.4686263], dtype=float32), 'logistic': array([0.18715152], dtype=float32), 'probabilities': array([0.8128485 , 0.18715152], dtype=float32), 'class_ids': array([0]), 'classes': array([b'0'], dtype=object), 'all_class_ids': array([0, 1], dtype=int32), 'all_classes': array([b'0', b'1'], dtype=object)}, {'logits': array([1.5035255], dtype=float32), 'logistic': array([0.8180997], dtype=float32), 'probabilities': array([0.18190031, 0.81809974], dtype=float32), 'class_ids': array([1]), 'classes': array([b'1'], dtype=object), 'all_class_ids': array([0, 1], dtype=int32), 'all_classes': array([b'0', b'1'], dtype=object)}, {'logits': array([0.4554455], dtype=float32), 'logistic': array([0.6119332], dtype=float32), 'probabilities': array([0.38806686, 0.61193323], dtype=float32), 'class_ids': array([1]), 'classes': array([b'1'], dtype=object), 'all_class_ids': array([0, 1], dtype=int32), 'all_classes': array([b'0', b'1'], dtype=object)}, {'logits': array([-1.8831266], dtype=float32), 'logistic': array([0.13203013], dtype=float32), 'probabilities': array([0.8679698 , 0.13203016], dtype=float32), 'class_ids': array([0]), 'classes': array([b'0'], dtype=object), 'all_class_ids': array([0, 1], dtype=int32), 'all_classes': array([b'0', b'1'], dtype=object)}, {'logits': array([-0.44906476], dtype=float32), 'logistic': array([0.38958317], dtype=float32), 'probabilities': array([0.6104168 , 0.38958314], dtype=float32), 'class_ids': array([0]), 'classes': array([b'0'], dtype=object), 'all_class_ids': array([0, 1], dtype=int32), 'all_classes': array([b'0', b'1'], dtype=object)}, {'logits': array([-1.0569203], dtype=float32), 'logistic': array([0.25789845], dtype=float32), 'probabilities': array([0.7421016 , 0.25789845], dtype=float32), 'class_ids': array([0]), 'classes': array([b'0'], dtype=object), 'all_class_ids': array([0, 1], dtype=int32), 'all_classes': array([b'0', b'1'], dtype=object)}, {'logits': array([3.2916045], dtype=float32), 'logistic': array([0.9641397], dtype=float32), 'probabilities': array([0.03586033, 0.96413964], dtype=float32), 'class_ids': array([1]), 'classes': array([b'1'], dtype=object), 'all_class_ids': array([0, 1], dtype=int32), 'all_classes': array([b'0', b'1'], dtype=object)}, {'logits': array([3.4703298], dtype=float32), 'logistic': array([0.9698317], dtype=float32), 'probabilities': array([0.03016833, 0.9698316 ], dtype=float32), 'class_ids': array([1]), 'classes': array([b'1'], dtype=object), 'all_class_ids': array([0, 1], dtype=int32), 'all_classes': array([b'0', b'1'], dtype=object)}, {'logits': array([-1.8504378], dtype=float32), 'logistic': array([0.13582149], dtype=float32), 'probabilities': array([0.8641785, 0.1358215], dtype=float32), 'class_ids': array([0]), 'classes': array([b'0'], dtype=object), 'all_class_ids': array([0, 1], dtype=int32), 'all_classes': array([b'0', b'1'], dtype=object)}, {'logits': array([0.9011135], dtype=float32), 'logistic': array([0.71117824], dtype=float32), 'probabilities': array([0.28882173, 0.71117824], dtype=float32), 'class_ids': array([1]), 'classes': array([b'1'], dtype=object), 'all_class_ids': array([0, 1], dtype=int32), 'all_classes': array([b'0', b'1'], dtype=object)}, {'logits': array([-1.9849535], dtype=float32), 'logistic': array([0.12079179], dtype=float32), 'probabilities': array([0.8792082 , 0.12079179], dtype=float32), 'class_ids': array([0]), 'classes': array([b'0'], dtype=object), 'all_class_ids': array([0, 1], dtype=int32), 'all_classes': array([b'0', b'1'], dtype=object)}, {'logits': array([-1.5544492], dtype=float32), 'logistic': array([0.17444459], dtype=float32), 'probabilities': array([0.8255554 , 0.17444459], dtype=float32), 'class_ids': array([0]), 'classes': array([b'0'], dtype=object), 'all_class_ids': array([0, 1], dtype=int32), 'all_classes': array([b'0', b'1'], dtype=object)}, {'logits': array([1.228736], dtype=float32), 'logistic': array([0.77359724], dtype=float32), 'probabilities': array([0.22640273, 0.7735973 ], dtype=float32), 'class_ids': array([1]), 'classes': array([b'1'], dtype=object), 'all_class_ids': array([0, 1], dtype=int32), 'all_classes': array([b'0', b'1'], dtype=object)}, {'logits': array([-1.8254584], dtype=float32), 'logistic': array([0.13878018], dtype=float32), 'probabilities': array([0.86121976, 0.13878019], dtype=float32), 'class_ids': array([0]), 'classes': array([b'0'], dtype=object), 'all_class_ids': array([0, 1], dtype=int32), 'all_classes': array([b'0', b'1'], dtype=object)}, {'logits': array([4.5916233], dtype=float32), 'logistic': array([0.9899653], dtype=float32), 'probabilities': array([0.01003468, 0.9899653 ], dtype=float32), 'class_ids': array([1]), 'classes': array([b'1'], dtype=object), 'all_class_ids': array([0, 1], dtype=int32), 'all_classes': array([b'0', b'1'], dtype=object)}, {'logits': array([1.5092562], dtype=float32), 'logistic': array([0.81895095], dtype=float32), 'probabilities': array([0.18104905, 0.81895095], dtype=float32), 'class_ids': array([1]), 'classes': array([b'1'], dtype=object), 'all_class_ids': array([0, 1], dtype=int32), 'all_classes': array([b'0', b'1'], dtype=object)}, {'logits': array([-2.0298483], dtype=float32), 'logistic': array([0.11610445], dtype=float32), 'probabilities': array([0.8838955 , 0.11610448], dtype=float32), 'class_ids': array([0]), 'classes': array([b'0'], dtype=object), 'all_class_ids': array([0, 1], dtype=int32), 'all_classes': array([b'0', b'1'], dtype=object)}, {'logits': array([0.882447], dtype=float32), 'logistic': array([0.70732903], dtype=float32), 'probabilities': array([0.29267097, 0.70732903], dtype=float32), 'class_ids': array([1]), 'classes': array([b'1'], dtype=object), 'all_class_ids': array([0, 1], dtype=int32), 'all_classes': array([b'0', b'1'], dtype=object)}, {'logits': array([-1.7611979], dtype=float32), 'logistic': array([0.14664036], dtype=float32), 'probabilities': array([0.85335964, 0.14664038], dtype=float32), 'class_ids': array([0]), 'classes': array([b'0'], dtype=object), 'all_class_ids': array([0, 1], dtype=int32), 'all_classes': array([b'0', b'1'], dtype=object)}, {'logits': array([-0.9372836], dtype=float32), 'logistic': array([0.28144938], dtype=float32), 'probabilities': array([0.7185506 , 0.28144938], dtype=float32), 'class_ids': array([0]), 'classes': array([b'0'], dtype=object), 'all_class_ids': array([0, 1], dtype=int32), 'all_classes': array([b'0', b'1'], dtype=object)}, {'logits': array([-2.0715208], dtype=float32), 'logistic': array([0.11189577], dtype=float32), 'probabilities': array([0.8881042 , 0.11189582], dtype=float32), 'class_ids': array([0]), 'classes': array([b'0'], dtype=object), 'all_class_ids': array([0, 1], dtype=int32), 'all_classes': array([b'0', b'1'], dtype=object)}, {'logits': array([0.8856268], dtype=float32), 'logistic': array([0.70798683], dtype=float32), 'probabilities': array([0.29201314, 0.7079869 ], dtype=float32), 'class_ids': array([1]), 'classes': array([b'1'], dtype=object), 'all_class_ids': array([0, 1], dtype=int32), 'all_classes': array([b'0', b'1'], dtype=object)}, {'logits': array([0.43506095], dtype=float32), 'logistic': array([0.60708153], dtype=float32), 'probabilities': array([0.39291847, 0.60708153], dtype=float32), 'class_ids': array([1]), 'classes': array([b'1'], dtype=object), 'all_class_ids': array([0, 1], dtype=int32), 'all_classes': array([b'0', b'1'], dtype=object)}, {'logits': array([-2.3858228], dtype=float32), 'logistic': array([0.08426014], dtype=float32), 'probabilities': array([0.91573983, 0.08426019], dtype=float32), 'class_ids': array([0]), 'classes': array([b'0'], dtype=object), 'all_class_ids': array([0, 1], dtype=int32), 'all_classes': array([b'0', b'1'], dtype=object)}, {'logits': array([-1.1898975], dtype=float32), 'logistic': array([0.23327729], dtype=float32), 'probabilities': array([0.76672274, 0.23327726], dtype=float32), 'class_ids': array([0]), 'classes': array([b'0'], dtype=object), 'all_class_ids': array([0, 1], dtype=int32), 'all_classes': array([b'0', b'1'], dtype=object)}, {'logits': array([1.7938913], dtype=float32), 'logistic': array([0.8574037], dtype=float32), 'probabilities': array([0.1425963, 0.8574037], dtype=float32), 'class_ids': array([1]), 'classes': array([b'1'], dtype=object), 'all_class_ids': array([0, 1], dtype=int32), 'all_classes': array([b'0', b'1'], dtype=object)}, {'logits': array([-0.2191132], dtype=float32), 'logistic': array([0.44543982], dtype=float32), 'probabilities': array([0.5545602, 0.4454398], dtype=float32), 'class_ids': array([0]), 'classes': array([b'0'], dtype=object), 'all_class_ids': array([0, 1], dtype=int32), 'all_classes': array([b'0', b'1'], dtype=object)}, {'logits': array([2.8540568], dtype=float32), 'logistic': array([0.94552803], dtype=float32), 'probabilities': array([0.05447199, 0.945528  ], dtype=float32), 'class_ids': array([1]), 'classes': array([b'1'], dtype=object), 'all_class_ids': array([0, 1], dtype=int32), 'all_classes': array([b'0', b'1'], dtype=object)}, {'logits': array([-0.40374598], dtype=float32), 'logistic': array([0.40041268], dtype=float32), 'probabilities': array([0.5995873 , 0.40041265], dtype=float32), 'class_ids': array([0]), 'classes': array([b'0'], dtype=object), 'all_class_ids': array([0, 1], dtype=int32), 'all_classes': array([b'0', b'1'], dtype=object)}, {'logits': array([-1.6038936], dtype=float32), 'logistic': array([0.16743812], dtype=float32), 'probabilities': array([0.8325619 , 0.16743813], dtype=float32), 'class_ids': array([0]), 'classes': array([b'0'], dtype=object), 'all_class_ids': array([0, 1], dtype=int32), 'all_classes': array([b'0', b'1'], dtype=object)}, {'logits': array([-1.9258102], dtype=float32), 'logistic': array([0.12721506], dtype=float32), 'probabilities': array([0.8727849 , 0.12721504], dtype=float32), 'class_ids': array([0]), 'classes': array([b'0'], dtype=object), 'all_class_ids': array([0, 1], dtype=int32), 'all_classes': array([b'0', b'1'], dtype=object)}, {'logits': array([-1.8596004], dtype=float32), 'logistic': array([0.13474962], dtype=float32), 'probabilities': array([0.86525035, 0.13474964], dtype=float32), 'class_ids': array([0]), 'classes': array([b'0'], dtype=object), 'all_class_ids': array([0, 1], dtype=int32), 'all_classes': array([b'0', b'1'], dtype=object)}, {'logits': array([-2.9681082], dtype=float32), 'logistic': array([0.04888755], dtype=float32), 'probabilities': array([0.9511124 , 0.04888761], dtype=float32), 'class_ids': array([0]), 'classes': array([b'0'], dtype=object), 'all_class_ids': array([0, 1], dtype=int32), 'all_classes': array([b'0', b'1'], dtype=object)}, {'logits': array([1.9173731], dtype=float32), 'logistic': array([0.8718452], dtype=float32), 'probabilities': array([0.1281548 , 0.87184525], dtype=float32), 'class_ids': array([1]), 'classes': array([b'1'], dtype=object), 'all_class_ids': array([0, 1], dtype=int32), 'all_classes': array([b'0', b'1'], dtype=object)}, {'logits': array([1.4628478], dtype=float32), 'logistic': array([0.81196785], dtype=float32), 'probabilities': array([0.18803214, 0.81196785], dtype=float32), 'class_ids': array([1]), 'classes': array([b'1'], dtype=object), 'all_class_ids': array([0, 1], dtype=int32), 'all_classes': array([b'0', b'1'], dtype=object)}, {'logits': array([-1.5544014], dtype=float32), 'logistic': array([0.17445147], dtype=float32), 'probabilities': array([0.8255485 , 0.17445149], dtype=float32), 'class_ids': array([0]), 'classes': array([b'0'], dtype=object), 'all_class_ids': array([0, 1], dtype=int32), 'all_classes': array([b'0', b'1'], dtype=object)}, {'logits': array([-1.0336791], dtype=float32), 'logistic': array([0.26237148], dtype=float32), 'probabilities': array([0.7376285 , 0.26237145], dtype=float32), 'class_ids': array([0]), 'classes': array([b'0'], dtype=object), 'all_class_ids': array([0, 1], dtype=int32), 'all_classes': array([b'0', b'1'], dtype=object)}, {'logits': array([2.280723], dtype=float32), 'logistic': array([0.9072679], dtype=float32), 'probabilities': array([0.0927321 , 0.90726787], dtype=float32), 'class_ids': array([1]), 'classes': array([b'1'], dtype=object), 'all_class_ids': array([0, 1], dtype=int32), 'all_classes': array([b'0', b'1'], dtype=object)}, {'logits': array([0.40264603], dtype=float32), 'logistic': array([0.5993232], dtype=float32), 'probabilities': array([0.40067676, 0.5993232 ], dtype=float32), 'class_ids': array([1]), 'classes': array([b'1'], dtype=object), 'all_class_ids': array([0, 1], dtype=int32), 'all_classes': array([b'0', b'1'], dtype=object)}, {'logits': array([-2.0620346], dtype=float32), 'logistic': array([0.11284196], dtype=float32), 'probabilities': array([0.88715804, 0.11284199], dtype=float32), 'class_ids': array([0]), 'classes': array([b'0'], dtype=object), 'all_class_ids': array([0, 1], dtype=int32), 'all_classes': array([b'0', b'1'], dtype=object)}, {'logits': array([2.794376], dtype=float32), 'logistic': array([0.94237113], dtype=float32), 'probabilities': array([0.05762885, 0.94237113], dtype=float32), 'class_ids': array([1]), 'classes': array([b'1'], dtype=object), 'all_class_ids': array([0, 1], dtype=int32), 'all_classes': array([b'0', b'1'], dtype=object)}, {'logits': array([1.8189129], dtype=float32), 'logistic': array([0.8604356], dtype=float32), 'probabilities': array([0.13956437, 0.8604356 ], dtype=float32), 'class_ids': array([1]), 'classes': array([b'1'], dtype=object), 'all_class_ids': array([0, 1], dtype=int32), 'all_classes': array([b'0', b'1'], dtype=object)}, {'logits': array([-2.1766553], dtype=float32), 'logistic': array([0.10186651], dtype=float32), 'probabilities': array([0.89813346, 0.10186653], dtype=float32), 'class_ids': array([0]), 'classes': array([b'0'], dtype=object), 'all_class_ids': array([0, 1], dtype=int32), 'all_classes': array([b'0', b'1'], dtype=object)}, {'logits': array([0.65007883], dtype=float32), 'logistic': array([0.6570282], dtype=float32), 'probabilities': array([0.34297177, 0.65702826], dtype=float32), 'class_ids': array([1]), 'classes': array([b'1'], dtype=object), 'all_class_ids': array([0, 1], dtype=int32), 'all_classes': array([b'0', b'1'], dtype=object)}, {'logits': array([-1.2132689], dtype=float32), 'logistic': array([0.22912318], dtype=float32), 'probabilities': array([0.7708769 , 0.22912319], dtype=float32), 'class_ids': array([0]), 'classes': array([b'0'], dtype=object), 'all_class_ids': array([0, 1], dtype=int32), 'all_classes': array([b'0', b'1'], dtype=object)}, {'logits': array([-0.07851139], dtype=float32), 'logistic': array([0.48038223], dtype=float32), 'probabilities': array([0.5196178 , 0.48038223], dtype=float32), 'class_ids': array([0]), 'classes': array([b'0'], dtype=object), 'all_class_ids': array([0, 1], dtype=int32), 'all_classes': array([b'0', b'1'], dtype=object)}]\n"
          ]
        }
      ],
      "source": [
        "pred_result=list(linear_est.predict(eval_input_fn))\n",
        "print(pred_result) #a list of all dictionaries of the predicting"
      ]
    },
    {
      "cell_type": "code",
      "execution_count": 34,
      "metadata": {
        "colab": {
          "base_uri": "https://localhost:8080/"
        },
        "id": "qcfdQdFsk3sX",
        "outputId": "41e05011-5134-4d2c-b045-a13d692beac9"
      },
      "outputs": [
        {
          "name": "stdout",
          "output_type": "stream",
          "text": [
            "{'logits': array([-2.2134395], dtype=float32), 'logistic': array([0.09855008], dtype=float32), 'probabilities': array([0.9014499, 0.0985501], dtype=float32), 'class_ids': array([0]), 'classes': array([b'0'], dtype=object), 'all_class_ids': array([0, 1], dtype=int32), 'all_classes': array([b'0', b'1'], dtype=object)}\n"
          ]
        }
      ],
      "source": [
        "print(pred_result[0])"
      ]
    },
    {
      "cell_type": "code",
      "execution_count": 40,
      "metadata": {
        "colab": {
          "base_uri": "https://localhost:8080/"
        },
        "id": "0VeLUVvAlJOF",
        "outputId": "7f9ef51e-1c38-458c-841e-997676271463"
      },
      "outputs": [
        {
          "name": "stdout",
          "output_type": "stream",
          "text": [
            "Person\n",
            " sex                          male\n",
            "age                          35.0\n",
            "n_siblings_spouses              0\n",
            "parch                           0\n",
            "fare                         8.05\n",
            "class                       Third\n",
            "deck                      unknown\n",
            "embark_town           Southampton\n",
            "alone                           y\n",
            "Name: 0, dtype: object\n",
            "Predicting results\n",
            " [0.9014499 0.0985501]\n",
            "Probability of survival 0.098550096\n",
            "Probability of non-survival 0.9014499\n",
            "Real label, survived or not? 0\n"
          ]
        }
      ],
      "source": [
        "print('Person\\n', dfeval.loc[0])\n",
        "print('Predicting results\\n',pred_result[0]['probabilities'])\n",
        "print('Probability of survival',pred_result[0]['probabilities'][1])\n",
        "print('Probability of non-survival',pred_result[0]['probabilities'][0])\n",
        "print('Real label, survived or not?', y_eval.loc[0])"
      ]
    }
  ],
  "metadata": {
    "colab": {
      "name": "Linear Regression.ipynb",
      "provenance": []
    },
    "kernelspec": {
      "display_name": "Python 3",
      "name": "python3"
    },
    "language_info": {
      "name": "python"
    }
  },
  "nbformat": 4,
  "nbformat_minor": 0
}
