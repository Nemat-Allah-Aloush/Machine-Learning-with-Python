{
  "nbformat": 4,
  "nbformat_minor": 0,
  "metadata": {
    "colab": {
      "name": "Reinforcement Learning.ipynb",
      "provenance": [],
      "collapsed_sections": []
    },
    "kernelspec": {
      "name": "python3",
      "display_name": "Python 3"
    },
    "language_info": {
      "name": "python"
    }
  },
  "cells": [
    {
      "cell_type": "markdown",
      "source": [
        "## Reinforcement Learning"
      ],
      "metadata": {
        "id": "_k9bCJMu5Hlp"
      }
    },
    {
      "cell_type": "markdown",
      "source": [
        "The idea of Reinforcement learning is to let the model explore the enviroment itself, it is similar to when a human tries to learn a game by playing it, he makes mistakes along the way and tries to remeber them and not repeat them.\n",
        "\n",
        "There different types of Reinforcement learning, in this example we'll talk about ***Q-learning***."
      ],
      "metadata": {
        "id": "w0B3GTKpJ6Fg"
      }
    },
    {
      "cell_type": "markdown",
      "source": [
        "Terminology\n",
        "Before we dive into explaining reinforcement learning we need to define a few key peices of terminology.\n",
        "\n",
        "**Enviornemt** In reinforcement learning tasks we have a notion of the enviornment. This is what our agent will explore. An example of an enviornment in the case of training an AI to play say a game of mario would be the level we are training the agent on.\n",
        "\n",
        "**Agent** an agent is an entity that is exploring the enviornment. Our agent will interact and take different actions within the enviornment. In our mario example the mario character within the game would be our agent.\n",
        "\n",
        "**State** always our agent will be in what we call a state. The state simply tells us about the status of the agent. The most common example of a state is the location of the agent within the enviornment. Moving locations would change the agents state.\n",
        "\n",
        "**Action** any interaction between the agent and enviornment would be considered an action. For example, moving to the left or jumping would be an action. An action may or may not change the current state of the agent. In fact, the act of doing nothing is an action as well! The action of say not pressing a key if we are using our mario example.\n",
        "\n",
        "**Reward** every action that our agent takes will result in a reward of some magnitude (positive or negative). The goal of our agent will be to maximize its reward in an enviornment. Sometimes the reward will be clear, for example if an agent performs an action which increases their score in the enviornment we could say they've recieved a positive reward. If the agent were to perform an action which results in them losing score or possibly dying in the enviornment then they would recieve a negative reward.\n",
        "\n",
        "The most important part of reinforcement learning is determing how to reward the agent. After all, the goal of the agent is to maximize its rewards. This means we should reward the agent appropiatly such that it reaches the desired goal."
      ],
      "metadata": {
        "id": "WVeHz_iILFyI"
      }
    },
    {
      "cell_type": "markdown",
      "source": [
        "## Qlearning\n"
      ],
      "metadata": {
        "id": "KsaKDKYhNUYh"
      }
    },
    {
      "cell_type": "markdown",
      "source": [
        "The idea in this technique is to learn a matrix of action-reward values, this matix is refered to as Q-Table or Q-matrix. The rows are the states and the columns are the actions, the  cells represent the rewards we'll gain in case we have performed the action in the corresponding column at the state of the corresponding row.\n",
        "\n",
        "The goal is to learn from the table the actions that will give us the maximum rewards. However if the agent follow only the q-table it can get stuck in a local maximum, to avoid that the model can randomly choose actions in the begining in order to learn the enviroment more freely. "
      ],
      "metadata": {
        "id": "Z5LW3IAwNYHf"
      }
    },
    {
      "cell_type": "markdown",
      "source": [
        "How to fill the values in the q-table ? \n",
        "There are 2 parameters to consider:\n",
        "* learning rate, this vlaue tells us how much we can change the values in the q-table in each observation.\n",
        "* Discount Factor, try to define the balance between finding the maximum value in our the current state and finding the reward from the next state. The higher the value is the more we're going to look for the future, and vice versa.\n",
        "\n",
        "The idea is try to look forward, not only to look what reward can a get from taking an action in a certain state, but to look forward and look what reward will I gain when I move to the next state after performing this action."
      ],
      "metadata": {
        "id": "v4YS10LwWSin"
      }
    },
    {
      "cell_type": "code",
      "execution_count": 1,
      "metadata": {
        "id": "W2oj-_me49DP"
      },
      "outputs": [],
      "source": [
        "import gym   # Importing AI gym to to train a reinforcement learning model!"
      ]
    },
    {
      "cell_type": "code",
      "source": [
        "env = gym.make('FrozenLake-v0')  # we are going to use the FrozenLake enviornment\n"
      ],
      "metadata": {
        "id": "YIk10jy95fKx"
      },
      "execution_count": 2,
      "outputs": []
    },
    {
      "cell_type": "markdown",
      "source": [
        "AI gym has an observation space and action space for the enviroment.\n"
      ],
      "metadata": {
        "id": "MD-Ivh9oY_eH"
      }
    },
    {
      "cell_type": "code",
      "source": [
        "print(env.observation_space.n)   # get number of states\n",
        "print(env.action_space.n)   # get the number of actions that we can do at any different state."
      ],
      "metadata": {
        "colab": {
          "base_uri": "https://localhost:8080/"
        },
        "id": "j5TjEu9Q5glL",
        "outputId": "71b38d77-86fe-4e15-fbbd-f32d057ef6f2"
      },
      "execution_count": 3,
      "outputs": [
        {
          "output_type": "stream",
          "name": "stdout",
          "text": [
            "16\n",
            "4\n"
          ]
        }
      ]
    },
    {
      "cell_type": "code",
      "source": [
        "env.reset()  # reset enviornment to default state"
      ],
      "metadata": {
        "colab": {
          "base_uri": "https://localhost:8080/"
        },
        "id": "YObG_t0w5hh_",
        "outputId": "978bf63e-6e56-46b3-f44c-00eaf972c277"
      },
      "execution_count": 4,
      "outputs": [
        {
          "output_type": "execute_result",
          "data": {
            "text/plain": [
              "0"
            ]
          },
          "metadata": {},
          "execution_count": 4
        }
      ]
    },
    {
      "cell_type": "code",
      "source": [
        "action = env.action_space.sample()  # we can pick a random action "
      ],
      "metadata": {
        "id": "jLq2x_qG5ikZ"
      },
      "execution_count": 5,
      "outputs": []
    },
    {
      "cell_type": "code",
      "source": [
        "new_state, reward, done, info = env.step(action)  \n",
        "# take action and perform it on the enviroment,\n",
        "# it returns information about the action : new state, the reard we got, lose or win ? ,info "
      ],
      "metadata": {
        "id": "77MoZklS5je_"
      },
      "execution_count": 6,
      "outputs": []
    },
    {
      "cell_type": "code",
      "source": [
        "env.render()   # render the GUI for the enviornment to show the enviroment"
      ],
      "metadata": {
        "colab": {
          "base_uri": "https://localhost:8080/"
        },
        "id": "YdwoaCfK5kcq",
        "outputId": "5351c4a2-a1d0-46fd-d28e-fa2c08d5341a"
      },
      "execution_count": 7,
      "outputs": [
        {
          "output_type": "stream",
          "name": "stdout",
          "text": [
            "  (Left)\n",
            "\u001b[41mS\u001b[0mFFF\n",
            "FHFH\n",
            "FFFH\n",
            "HFFG\n"
          ]
        }
      ]
    },
    {
      "cell_type": "markdown",
      "source": [
        "Start, Frozen, Halls,Goal."
      ],
      "metadata": {
        "id": "eZfyWGYqaVfh"
      }
    },
    {
      "cell_type": "markdown",
      "source": [
        "## Creating the model \n",
        "The task is to navigate the enviroment, got from the Start to the Goal."
      ],
      "metadata": {
        "id": "3i4OvperapTX"
      }
    },
    {
      "cell_type": "markdown",
      "source": [
        "#### Imports"
      ],
      "metadata": {
        "id": "cUogkb605l3n"
      }
    },
    {
      "cell_type": "code",
      "source": [
        "import gym\n",
        "import numpy as np\n",
        "import time\n",
        "\n",
        "env = gym.make('FrozenLake-v0')\n",
        "STATES = env.observation_space.n\n",
        "ACTIONS = env.action_space.n"
      ],
      "metadata": {
        "id": "3JhJ5le-5nDI"
      },
      "execution_count": 8,
      "outputs": []
    },
    {
      "cell_type": "markdown",
      "source": [
        "#### Create the q-table\n",
        "Intialize the Q-table with zero values, because at the begining the agent does not know anything about the enviroment. "
      ],
      "metadata": {
        "id": "Rk6uOk4ebFNR"
      }
    },
    {
      "cell_type": "code",
      "source": [
        "Q = np.zeros((STATES, ACTIONS))  # create a matrix with all 0 values \n",
        "Q"
      ],
      "metadata": {
        "colab": {
          "base_uri": "https://localhost:8080/"
        },
        "id": "set-KmzB5oSr",
        "outputId": "4c0b5fe1-8231-4a89-b0ab-d23a130c666d"
      },
      "execution_count": 9,
      "outputs": [
        {
          "output_type": "execute_result",
          "data": {
            "text/plain": [
              "array([[0., 0., 0., 0.],\n",
              "       [0., 0., 0., 0.],\n",
              "       [0., 0., 0., 0.],\n",
              "       [0., 0., 0., 0.],\n",
              "       [0., 0., 0., 0.],\n",
              "       [0., 0., 0., 0.],\n",
              "       [0., 0., 0., 0.],\n",
              "       [0., 0., 0., 0.],\n",
              "       [0., 0., 0., 0.],\n",
              "       [0., 0., 0., 0.],\n",
              "       [0., 0., 0., 0.],\n",
              "       [0., 0., 0., 0.],\n",
              "       [0., 0., 0., 0.],\n",
              "       [0., 0., 0., 0.],\n",
              "       [0., 0., 0., 0.],\n",
              "       [0., 0., 0., 0.]])"
            ]
          },
          "metadata": {},
          "execution_count": 9
        }
      ]
    },
    {
      "cell_type": "markdown",
      "source": [
        "#### Constants"
      ],
      "metadata": {
        "id": "fJE1dDti5pSD"
      }
    },
    {
      "cell_type": "code",
      "source": [
        "EPISODES = 2000 # how many times to run the enviornment from the beginning\n",
        "MAX_STEPS = 100  # max number of steps allowed for each run of enviornment\n",
        "\n",
        "LEARNING_RATE = 0.81  # learning rate, the higher the learning rate is the faster it learns.\n",
        "GAMMA = 0.96"
      ],
      "metadata": {
        "id": "oY6VN6u35q4Q"
      },
      "execution_count": 10,
      "outputs": []
    },
    {
      "cell_type": "markdown",
      "source": [
        "#### Picking an action\n",
        "\n",
        "\n",
        "```\n",
        "epsilon = 0.9  # start with a 90% chance of picking a random action\n",
        "\n",
        "# code to pick action\n",
        "if np.random.uniform(0, 1) < epsilon:  # we will check if a randomly selected value is less than epsilon.\n",
        "    action = env.action_space.sample()  # take random action\n",
        "else:\n",
        "    action = np.argmax(Q[state, :])  # use Q table to pick best action based on current values\n",
        "```\n",
        "\n"
      ],
      "metadata": {
        "id": "FQZbiMpMJfvZ"
      }
    },
    {
      "cell_type": "markdown",
      "source": [
        "#### Updating Q values\n",
        "\n",
        "```\n",
        "Q[state, action] = Q[state, action] + LEARNING_RATE * (reward + GAMMA * np.max(Q[new_state, :]) - Q[state, action])\n",
        "```\n",
        "\n"
      ],
      "metadata": {
        "id": "ReIFnmIoJi6R"
      }
    },
    {
      "cell_type": "markdown",
      "source": [
        "## Putting it Together"
      ],
      "metadata": {
        "id": "Q-GoysIiJmmf"
      }
    },
    {
      "cell_type": "code",
      "source": [
        "import gym\n",
        "import numpy as np\n",
        "import time\n",
        "\n",
        "env = gym.make('FrozenLake-v0')\n",
        "STATES = env.observation_space.n\n",
        "ACTIONS = env.action_space.n\n",
        "\n",
        "Q = np.zeros((STATES, ACTIONS))\n",
        "\n",
        "EPISODES = 1500 # how many times to run the enviornment from the beginning\n",
        "MAX_STEPS = 100  # max number of steps allowed for each run of enviornment\n",
        "\n",
        "LEARNING_RATE = 0.81  # learning rate\n",
        "GAMMA = 0.96\n",
        "\n",
        "RENDER = False # if you want to see training set to true\n",
        "\n",
        "epsilon = 0.9\n"
      ],
      "metadata": {
        "id": "h6_9k7eSJoDo"
      },
      "execution_count": 15,
      "outputs": []
    },
    {
      "cell_type": "code",
      "source": [
        "rewards = [] # save all the rewards that we will get \n",
        "for episode in range(EPISODES):\n",
        "\n",
        "  state = env.reset() # reset to get the starting state\n",
        "  for _ in range(MAX_STEPS): # explore the enviroment up to the max step\n",
        "    \n",
        "    if RENDER:\n",
        "      env.render()\n",
        "\n",
        "    # Take an action\n",
        "    if np.random.uniform(0, 1) < epsilon:\n",
        "      action = env.action_space.sample()  \n",
        "    else:\n",
        "      action = np.argmax(Q[state, :])\n",
        "    next_state, reward, done, _ = env.step(action)\n",
        "\n",
        "    # Updating the q-table\n",
        "    Q[state, action] = Q[state, action] + LEARNING_RATE * (reward + GAMMA * np.max(Q[next_state, :]) - Q[state, action])\n",
        "\n",
        "    #Updating the current state variable\n",
        "    state = next_state\n",
        "\n",
        "    # If the agent die, lost, ...\n",
        "    if done: \n",
        "      rewards.append(reward) # Get the reward, 0 if died, and 1 every time we move to a valid spot\n",
        "      epsilon -= 0.001 # reduce the epsilon if we lost, reduce it slowly to \n",
        "      break  # reached goal\n",
        "\n",
        "print(Q)\n",
        "print(f\"Average reward: {sum(rewards)/len(rewards)}:\")\n",
        "# and now we can see our Q values!"
      ],
      "metadata": {
        "colab": {
          "base_uri": "https://localhost:8080/"
        },
        "id": "OtG8x0NjJpep",
        "outputId": "30cb4e5f-9d86-4be9-842b-b5d2d4f1b024"
      },
      "execution_count": 16,
      "outputs": [
        {
          "output_type": "stream",
          "name": "stdout",
          "text": [
            "[[3.59407054e-01 3.59579356e-02 3.89163065e-02 3.97550718e-02]\n",
            " [3.00132762e-03 1.00184038e-02 1.69785514e-02 4.20600522e-01]\n",
            " [9.97465579e-03 1.10057532e-02 1.73192325e-02 3.41453678e-01]\n",
            " [1.30503523e-02 9.58107395e-03 7.74275009e-03 1.13654005e-01]\n",
            " [5.02889575e-01 2.96568914e-03 6.02689313e-03 8.32417618e-03]\n",
            " [0.00000000e+00 0.00000000e+00 0.00000000e+00 0.00000000e+00]\n",
            " [2.29978236e-04 5.39622019e-04 3.15695739e-01 7.61175600e-04]\n",
            " [0.00000000e+00 0.00000000e+00 0.00000000e+00 0.00000000e+00]\n",
            " [1.92989730e-02 2.30439433e-03 1.43544438e-02 3.77200877e-01]\n",
            " [8.60834521e-03 2.52653313e-01 3.00964173e-02 1.66549363e-02]\n",
            " [8.12261462e-01 1.04273512e-03 1.46362176e-03 4.83486964e-03]\n",
            " [0.00000000e+00 0.00000000e+00 0.00000000e+00 0.00000000e+00]\n",
            " [0.00000000e+00 0.00000000e+00 0.00000000e+00 0.00000000e+00]\n",
            " [2.45015131e-02 4.00618469e-02 4.38079124e-01 2.55407815e-02]\n",
            " [1.10384373e-01 9.85800901e-01 1.29164778e-01 1.37423383e-01]\n",
            " [0.00000000e+00 0.00000000e+00 0.00000000e+00 0.00000000e+00]]\n",
            "Average reward: 0.33:\n"
          ]
        }
      ]
    },
    {
      "cell_type": "code",
      "source": [
        "# we can plot the training progress and see how the agent improved\n",
        "# we are plotting the average reward over a hundred step from the begining to the end\n",
        "import matplotlib.pyplot as plt\n",
        "\n",
        "def get_average(values):\n",
        "  return sum(values)/len(values)\n",
        "\n",
        "avg_rewards = []\n",
        "for i in range(0, len(rewards), 100):\n",
        "  avg_rewards.append(get_average(rewards[i:i+100])) \n",
        "\n",
        "plt.plot(avg_rewards)\n",
        "plt.ylabel('average reward')\n",
        "plt.xlabel('episodes (100\\'s)')\n",
        "plt.show()"
      ],
      "metadata": {
        "colab": {
          "base_uri": "https://localhost:8080/",
          "height": 279
        },
        "id": "dNFCRJzMJqjQ",
        "outputId": "80fe7c94-44d6-49d3-9f7e-f6a8920977ba"
      },
      "execution_count": 17,
      "outputs": [
        {
          "output_type": "display_data",
          "data": {
            "text/plain": [
              "<Figure size 432x288 with 1 Axes>"
            ],
            "image/png": "[encoded data removed]"
          },
          "metadata": {
            "needs_background": "light"
          }
        }
      ]
    }
  ]
}