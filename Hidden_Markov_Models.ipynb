{
  "nbformat": 4,
  "nbformat_minor": 0,
  "metadata": {
    "colab": {
      "name": "Hidden Markov Models.ipynb",
      "provenance": [],
      "collapsed_sections": []
    },
    "kernelspec": {
      "name": "python3",
      "display_name": "Python 3"
    },
    "language_info": {
      "name": "python"
    }
  },
  "cells": [
    {
      "cell_type": "markdown",
      "source": [
        "## Hidden Markov Models"
      ],
      "metadata": {
        "id": "k0HBAFYEwI8Z"
      }
    },
    {
      "cell_type": "markdown",
      "source": [
        "The Hidden Markov Model is a finite set of states, each of which is associated with a (generally multidimensional) probability distribution. Transitions among the states are governed by a set of probabilities called transition probabilities.\n",
        "\n",
        "The Hidden Markov Models are different from the regression,classification, and clustering because in the latter ones we rely on data, meanwhile we deal with probability distribution in Hidden Markov Models.\n",
        "\n",
        "------\n",
        "### **Task**\n",
        "Building a weather model that can predict the weather on any given day given the probability of different events occuring.\n",
        "\n",
        "The hidden states in our example are 'hot day' and 'cold day', they are named hidden because we do not access them while we interact with the model, meanwhile we access the observation.\n",
        "\n",
        "In each state we have observation, for example:\n",
        "'If it is hot, Tim has 80% chance of being task.'\n",
        "In our example the observation will be the weather, as follows:\n",
        "'If it is hot, the temperature will be between 15 and 20 with an average 18.'\n",
        "\n",
        "------\n",
        "### **Data**\n",
        "The type of information we need to build the model are probabilities, for example: if it is sunny one day, there is a chance of 80% to be sunny in the following day.\n",
        "This kind of data is either already given in this form, or we need to calculate the probabilities of events from a large dataset.\n",
        "\n",
        "------\n",
        "Describtion about the data:\n",
        "\n",
        "***States*** In each markov model, we have a finite set of states. We choose the number of the states and we can name them in any way, since they are hidden.They are baiscally used to hold constant vlaues of Observations and Transitions.\n",
        "\n",
        "***Observations*** Each state has a particular outcome or observation associated with it, based on a probability distribution. \n",
        "\n",
        "***Transitions*** Each state has a probability defining the likelhood of transition to a different state. An exapmle of that: 'a cold day has a 30% chance of being followed by a hot day and a 70% chance of being followed by another cold day.'\n",
        "\n",
        "------\n",
        "To create the model we need:\n",
        "*  States.\n",
        "*  Observation Distribution.\n",
        "*  Transition Distributin.\n",
        "\n",
        "\n"
      ],
      "metadata": {
        "id": "TwhHEG7_onrK"
      }
    },
    {
      "cell_type": "markdown",
      "source": [
        "### Weather model\n",
        "A simple weather model.\n",
        "\n",
        "1. Represent a cold day with 0 and a hot day with 1.\n",
        "2. Suppose the first day of a sequence has a 0.8 chance of being cold.\n",
        "3. A cold day has a 30% chance of being followed by a hot day.\n",
        "4. A hot day has a 20% chance of being followed by a cold day.\n",
        "5. On each day, the temperature is normally distributed with mean and standard deviation 0 and 5 on a cold day, and mean and standard deviation 15 and 10 on a hot day.\n",
        "\n",
        "The goal of the model is to predict the temperature on a future day."
      ],
      "metadata": {
        "id": "wd3G03nrxhah"
      }
    },
    {
      "cell_type": "code",
      "execution_count": 1,
      "metadata": {
        "id": "dQdpB5FdojV7"
      },
      "outputs": [],
      "source": [
        "import tensorflow_probability as tfp\n",
        "import tensorflow as tf"
      ]
    },
    {
      "cell_type": "code",
      "source": [
        "tfd = tfp.distributions\n",
        "initial_distribution = tfd.Categorical(probs=[0.8,0.2]) #  the first day of a sequence has a 0.8 chance of being cold\n",
        "transition_distribution= tfd.Categorical(probs=[[0.7,0.3],[0.2,0.8]]) # point 3&4\n",
        "observation_distribution=tfd.Normal(loc=[0.,15.],scale=[5.,10.])\n",
        "# point 5: loc is mean and scale is standard deviation (should be float numbers)"
      ],
      "metadata": {
        "id": "JybnAwgaxJ4b"
      },
      "execution_count": 2,
      "outputs": []
    },
    {
      "cell_type": "code",
      "source": [
        "# creating the model\n",
        "model= tfd.HiddenMarkovModel(\n",
        "    initial_distribution=initial_distribution,\n",
        "    transition_distribution=transition_distribution,\n",
        "    observation_distribution=observation_distribution,\n",
        "    num_steps=7 \n",
        ")\n",
        "# Steps is how many days we want to predict for, \n",
        "# in general steps is how many times we will run through the probability cycle."
      ],
      "metadata": {
        "id": "VlYITmvI0Wya"
      },
      "execution_count": 5,
      "outputs": []
    },
    {
      "cell_type": "code",
      "source": [
        "## run the model\n",
        "mean = model.mean() # this line will calculate the probabilties from the model\n",
        "mean.numpy()\n"
      ],
      "metadata": {
        "colab": {
          "base_uri": "https://localhost:8080/"
        },
        "id": "qRhLoNfz0tsn",
        "outputId": "76b7e0c3-ae37-460a-d406-ab4b1c19c749"
      },
      "execution_count": 8,
      "outputs": [
        {
          "output_type": "execute_result",
          "data": {
            "text/plain": [
              "array([2.9999998, 5.9999995, 7.4999995, 8.25     , 8.625001 , 8.812501 ,\n",
              "       8.90625  ], dtype=float32)"
            ]
          },
          "metadata": {},
          "execution_count": 8
        }
      ]
    }
  ]
}