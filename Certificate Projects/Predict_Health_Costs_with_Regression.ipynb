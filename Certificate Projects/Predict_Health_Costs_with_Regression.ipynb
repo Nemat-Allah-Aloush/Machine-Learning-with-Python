{
  "nbformat": 4,
  "nbformat_minor": 0,
  "metadata": {
    "colab": {
      "name": "Predict_Health_Costs_with_Regression.ipynb",
      "provenance": [],
      "collapsed_sections": []
    },
    "kernelspec": {
      "display_name": "Python 3",
      "name": "python3"
    },
    "accelerator": "GPU"
  },
  "cells": [
    {
      "cell_type": "markdown",
      "metadata": {
        "id": "M9TX15KOkPBV"
      },
      "source": [
        "*Note: You are currently reading this using Google Colaboratory which is a cloud-hosted version of Jupyter Notebook. This is a document containing both text cells for documentation and runnable code cells. If you are unfamiliar with Jupyter Notebook, watch this 3-minute introduction before starting this challenge: https://www.youtube.com/watch?v=inN8seMm7UI*\n",
        "\n",
        "---\n",
        "\n",
        "In this challenge, you will predict healthcare costs using a regression algorithm.\n",
        "\n",
        "You are given a dataset that contains information about different people including their healthcare costs. Use the data to predict healthcare costs based on new data.\n",
        "\n",
        "The first two cells of this notebook import libraries and the data.\n",
        "\n",
        "Make sure to convert categorical data to numbers. Use 80% of the data as the `train_dataset` and 20% of the data as the `test_dataset`.\n",
        "\n",
        "`pop` off the \"expenses\" column from these datasets to create new datasets called `train_labels` and `test_labels`. Use these labels when training your model.\n",
        "\n",
        "Create a model and train it with the `train_dataset`. Run the final cell in this notebook to check your model. The final cell will use the unseen `test_dataset` to check how well the model generalizes.\n",
        "\n",
        "To pass the challenge, `model.evaluate` must return a Mean Absolute Error of under 3500. This means it predicts health care costs correctly within $3500.\n",
        "\n",
        "The final cell will also predict expenses using the `test_dataset` and graph the results."
      ]
    },
    {
      "cell_type": "markdown",
      "source": [
        "### Imports"
      ],
      "metadata": {
        "id": "_PE0mMI_yhwl"
      }
    },
    {
      "cell_type": "code",
      "metadata": {
        "id": "1rRo8oNqZ-Rj",
        "colab": {
          "base_uri": "https://localhost:8080/"
        },
        "outputId": "e3ca72d5-fa5e-4785-e0e4-d5b78d2d744c"
      },
      "source": [
        "# Import libraries. You may or may not use all of these.\n",
        "!pip install -q git+https://github.com/tensorflow/docs\n",
        "import matplotlib.pyplot as plt\n",
        "import numpy as np\n",
        "import pandas as pd\n",
        "\n",
        "try:\n",
        "  # %tensorflow_version only exists in Colab.\n",
        "  %tensorflow_version 2.x\n",
        "except Exception:\n",
        "  pass\n",
        "import tensorflow as tf\n",
        "\n",
        "from tensorflow import keras\n",
        "from tensorflow.keras import layers\n",
        "\n",
        "import tensorflow_docs as tfdocs\n",
        "import tensorflow_docs.plots\n",
        "import tensorflow_docs.modeling\n",
        "\n",
        "from sklearn.model_selection import train_test_split "
      ],
      "execution_count": 1,
      "outputs": [
        {
          "output_type": "stream",
          "name": "stdout",
          "text": [
            "  Building wheel for tensorflow-docs (setup.py) ... \u001b[?25l\u001b[?25hdone\n"
          ]
        }
      ]
    },
    {
      "cell_type": "markdown",
      "source": [
        "### Downloading and processing Dataset"
      ],
      "metadata": {
        "id": "tzI5d6EQyo80"
      }
    },
    {
      "cell_type": "code",
      "metadata": {
        "id": "CiX2FI4gZtTt",
        "colab": {
          "base_uri": "https://localhost:8080/",
          "height": 407
        },
        "outputId": "7e58e1b4-f58d-4fe5-8079-d238475049e0"
      },
      "source": [
        "# Import data\n",
        "!wget https://cdn.freecodecamp.org/project-data/health-costs/insurance.csv\n",
        "dataset = pd.read_csv('insurance.csv')\n",
        "dataset.tail()"
      ],
      "execution_count": 2,
      "outputs": [
        {
          "output_type": "stream",
          "name": "stdout",
          "text": [
            "--2022-04-19 17:39:03--  https://cdn.freecodecamp.org/project-data/health-costs/insurance.csv\n",
            "Resolving cdn.freecodecamp.org (cdn.freecodecamp.org)... 172.67.70.149, 104.26.3.33, 104.26.2.33, ...\n",
            "Connecting to cdn.freecodecamp.org (cdn.freecodecamp.org)|172.67.70.149|:443... connected.\n",
            "HTTP request sent, awaiting response... 200 OK\n",
            "Length: 50264 (49K) [text/csv]\n",
            "Saving to: ‘insurance.csv’\n",
            "\n",
            "\rinsurance.csv         0%[                    ]       0  --.-KB/s               \rinsurance.csv       100%[===================>]  49.09K  --.-KB/s    in 0.001s  \n",
            "\n",
            "2022-04-19 17:39:03 (67.2 MB/s) - ‘insurance.csv’ saved [50264/50264]\n",
            "\n"
          ]
        },
        {
          "output_type": "execute_result",
          "data": {
            "text/plain": [
              "      age     sex   bmi  children smoker     region  expenses\n",
              "1333   50    male  31.0         3     no  northwest  10600.55\n",
              "1334   18  female  31.9         0     no  northeast   2205.98\n",
              "1335   18  female  36.9         0     no  southeast   1629.83\n",
              "1336   21  female  25.8         0     no  southwest   2007.95\n",
              "1337   61  female  29.1         0    yes  northwest  29141.36"
            ],
            "text/html": [
              "\n",
              "  <div id=\"df-906af111-c420-4a81-ac96-2076c03bd844\">\n",
              "    <div class=\"colab-df-container\">\n",
              "      <div>\n",
              "<style scoped>\n",
              "    .dataframe tbody tr th:only-of-type {\n",
              "        vertical-align: middle;\n",
              "    }\n",
              "\n",
              "    .dataframe tbody tr th {\n",
              "        vertical-align: top;\n",
              "    }\n",
              "\n",
              "    .dataframe thead th {\n",
              "        text-align: right;\n",
              "    }\n",
              "</style>\n",
              "<table border=\"1\" class=\"dataframe\">\n",
              "  <thead>\n",
              "    <tr style=\"text-align: right;\">\n",
              "      <th></th>\n",
              "      <th>age</th>\n",
              "      <th>sex</th>\n",
              "      <th>bmi</th>\n",
              "      <th>children</th>\n",
              "      <th>smoker</th>\n",
              "      <th>region</th>\n",
              "      <th>expenses</th>\n",
              "    </tr>\n",
              "  </thead>\n",
              "  <tbody>\n",
              "    <tr>\n",
              "      <th>1333</th>\n",
              "      <td>50</td>\n",
              "      <td>male</td>\n",
              "      <td>31.0</td>\n",
              "      <td>3</td>\n",
              "      <td>no</td>\n",
              "      <td>northwest</td>\n",
              "      <td>10600.55</td>\n",
              "    </tr>\n",
              "    <tr>\n",
              "      <th>1334</th>\n",
              "      <td>18</td>\n",
              "      <td>female</td>\n",
              "      <td>31.9</td>\n",
              "      <td>0</td>\n",
              "      <td>no</td>\n",
              "      <td>northeast</td>\n",
              "      <td>2205.98</td>\n",
              "    </tr>\n",
              "    <tr>\n",
              "      <th>1335</th>\n",
              "      <td>18</td>\n",
              "      <td>female</td>\n",
              "      <td>36.9</td>\n",
              "      <td>0</td>\n",
              "      <td>no</td>\n",
              "      <td>southeast</td>\n",
              "      <td>1629.83</td>\n",
              "    </tr>\n",
              "    <tr>\n",
              "      <th>1336</th>\n",
              "      <td>21</td>\n",
              "      <td>female</td>\n",
              "      <td>25.8</td>\n",
              "      <td>0</td>\n",
              "      <td>no</td>\n",
              "      <td>southwest</td>\n",
              "      <td>2007.95</td>\n",
              "    </tr>\n",
              "    <tr>\n",
              "      <th>1337</th>\n",
              "      <td>61</td>\n",
              "      <td>female</td>\n",
              "      <td>29.1</td>\n",
              "      <td>0</td>\n",
              "      <td>yes</td>\n",
              "      <td>northwest</td>\n",
              "      <td>29141.36</td>\n",
              "    </tr>\n",
              "  </tbody>\n",
              "</table>\n",
              "</div>\n",
              "      <button class=\"colab-df-convert\" onclick=\"convertToInteractive('df-906af111-c420-4a81-ac96-2076c03bd844')\"\n",
              "              title=\"Convert this dataframe to an interactive table.\"\n",
              "              style=\"display:none;\">\n",
              "        \n",
              "  <svg xmlns=\"http://www.w3.org/2000/svg\" height=\"24px\"viewBox=\"0 0 24 24\"\n",
              "       width=\"24px\">\n",
              "    <path d=\"M0 0h24v24H0V0z\" fill=\"none\"/>\n",
              "    <path d=\"M18.56 5.44l.94 2.06.94-2.06 2.06-.94-2.06-.94-.94-2.06-.94 2.06-2.06.94zm-11 1L8.5 8.5l.94-2.06 2.06-.94-2.06-.94L8.5 2.5l-.94 2.06-2.06.94zm10 10l.94 2.06.94-2.06 2.06-.94-2.06-.94-.94-2.06-.94 2.06-2.06.94z\"/><path d=\"M17.41 7.96l-1.37-1.37c-.4-.4-.92-.59-1.43-.59-.52 0-1.04.2-1.43.59L10.3 9.45l-7.72 7.72c-.78.78-.78 2.05 0 2.83L4 21.41c.39.39.9.59 1.41.59.51 0 1.02-.2 1.41-.59l7.78-7.78 2.81-2.81c.8-.78.8-2.07 0-2.86zM5.41 20L4 18.59l7.72-7.72 1.47 1.35L5.41 20z\"/>\n",
              "  </svg>\n",
              "      </button>\n",
              "      \n",
              "  <style>\n",
              "    .colab-df-container {\n",
              "      display:flex;\n",
              "      flex-wrap:wrap;\n",
              "      gap: 12px;\n",
              "    }\n",
              "\n",
              "    .colab-df-convert {\n",
              "      background-color: #E8F0FE;\n",
              "      border: none;\n",
              "      border-radius: 50%;\n",
              "      cursor: pointer;\n",
              "      display: none;\n",
              "      fill: #1967D2;\n",
              "      height: 32px;\n",
              "      padding: 0 0 0 0;\n",
              "      width: 32px;\n",
              "    }\n",
              "\n",
              "    .colab-df-convert:hover {\n",
              "      background-color: #E2EBFA;\n",
              "      box-shadow: 0px 1px 2px rgba(60, 64, 67, 0.3), 0px 1px 3px 1px rgba(60, 64, 67, 0.15);\n",
              "      fill: #174EA6;\n",
              "    }\n",
              "\n",
              "    [theme=dark] .colab-df-convert {\n",
              "      background-color: #3B4455;\n",
              "      fill: #D2E3FC;\n",
              "    }\n",
              "\n",
              "    [theme=dark] .colab-df-convert:hover {\n",
              "      background-color: #434B5C;\n",
              "      box-shadow: 0px 1px 3px 1px rgba(0, 0, 0, 0.15);\n",
              "      filter: drop-shadow(0px 1px 2px rgba(0, 0, 0, 0.3));\n",
              "      fill: #FFFFFF;\n",
              "    }\n",
              "  </style>\n",
              "\n",
              "      <script>\n",
              "        const buttonEl =\n",
              "          document.querySelector('#df-906af111-c420-4a81-ac96-2076c03bd844 button.colab-df-convert');\n",
              "        buttonEl.style.display =\n",
              "          google.colab.kernel.accessAllowed ? 'block' : 'none';\n",
              "\n",
              "        async function convertToInteractive(key) {\n",
              "          const element = document.querySelector('#df-906af111-c420-4a81-ac96-2076c03bd844');\n",
              "          const dataTable =\n",
              "            await google.colab.kernel.invokeFunction('convertToInteractive',\n",
              "                                                     [key], {});\n",
              "          if (!dataTable) return;\n",
              "\n",
              "          const docLinkHtml = 'Like what you see? Visit the ' +\n",
              "            '<a target=\"_blank\" href=https://colab.research.google.com/notebooks/data_table.ipynb>data table notebook</a>'\n",
              "            + ' to learn more about interactive tables.';\n",
              "          element.innerHTML = '';\n",
              "          dataTable['output_type'] = 'display_data';\n",
              "          await google.colab.output.renderOutput(dataTable, element);\n",
              "          const docLink = document.createElement('div');\n",
              "          docLink.innerHTML = docLinkHtml;\n",
              "          element.appendChild(docLink);\n",
              "        }\n",
              "      </script>\n",
              "    </div>\n",
              "  </div>\n",
              "  "
            ]
          },
          "metadata": {},
          "execution_count": 2
        }
      ]
    },
    {
      "cell_type": "markdown",
      "source": [
        "##### Transforming categorical Dataset"
      ],
      "metadata": {
        "id": "vH6PpkaL1qCj"
      }
    },
    {
      "cell_type": "code",
      "source": [
        "# Convert categorical columns into numeric\n",
        "dataset['sex'] = dataset['sex'].astype('category').cat.codes\n",
        "dataset['smoker'] = dataset['smoker'].astype('category').cat.codes\n",
        "dataset['region'] = dataset['region'].astype('category').cat.codes"
      ],
      "metadata": {
        "id": "KmWvboic7m4-"
      },
      "execution_count": 3,
      "outputs": []
    },
    {
      "cell_type": "code",
      "source": [
        "dataset"
      ],
      "metadata": {
        "colab": {
          "base_uri": "https://localhost:8080/",
          "height": 423
        },
        "id": "7G79Fbv9Gz1T",
        "outputId": "d0bc5e79-3233-47d0-8525-59c5d0705fdb"
      },
      "execution_count": null,
      "outputs": [
        {
          "output_type": "execute_result",
          "data": {
            "text/plain": [
              "      age  sex   bmi  children  smoker  region  expenses\n",
              "0      19    0  27.9         0       1       3  16884.92\n",
              "1      18    1  33.8         1       0       2   1725.55\n",
              "2      28    1  33.0         3       0       2   4449.46\n",
              "3      33    1  22.7         0       0       1  21984.47\n",
              "4      32    1  28.9         0       0       1   3866.86\n",
              "...   ...  ...   ...       ...     ...     ...       ...\n",
              "1333   50    1  31.0         3       0       1  10600.55\n",
              "1334   18    0  31.9         0       0       0   2205.98\n",
              "1335   18    0  36.9         0       0       2   1629.83\n",
              "1336   21    0  25.8         0       0       3   2007.95\n",
              "1337   61    0  29.1         0       1       1  29141.36\n",
              "\n",
              "[1338 rows x 7 columns]"
            ],
            "text/html": [
              "\n",
              "  <div id=\"df-6a019f93-e6a4-4e89-bcbf-b89a1e53ef5c\">\n",
              "    <div class=\"colab-df-container\">\n",
              "      <div>\n",
              "<style scoped>\n",
              "    .dataframe tbody tr th:only-of-type {\n",
              "        vertical-align: middle;\n",
              "    }\n",
              "\n",
              "    .dataframe tbody tr th {\n",
              "        vertical-align: top;\n",
              "    }\n",
              "\n",
              "    .dataframe thead th {\n",
              "        text-align: right;\n",
              "    }\n",
              "</style>\n",
              "<table border=\"1\" class=\"dataframe\">\n",
              "  <thead>\n",
              "    <tr style=\"text-align: right;\">\n",
              "      <th></th>\n",
              "      <th>age</th>\n",
              "      <th>sex</th>\n",
              "      <th>bmi</th>\n",
              "      <th>children</th>\n",
              "      <th>smoker</th>\n",
              "      <th>region</th>\n",
              "      <th>expenses</th>\n",
              "    </tr>\n",
              "  </thead>\n",
              "  <tbody>\n",
              "    <tr>\n",
              "      <th>0</th>\n",
              "      <td>19</td>\n",
              "      <td>0</td>\n",
              "      <td>27.9</td>\n",
              "      <td>0</td>\n",
              "      <td>1</td>\n",
              "      <td>3</td>\n",
              "      <td>16884.92</td>\n",
              "    </tr>\n",
              "    <tr>\n",
              "      <th>1</th>\n",
              "      <td>18</td>\n",
              "      <td>1</td>\n",
              "      <td>33.8</td>\n",
              "      <td>1</td>\n",
              "      <td>0</td>\n",
              "      <td>2</td>\n",
              "      <td>1725.55</td>\n",
              "    </tr>\n",
              "    <tr>\n",
              "      <th>2</th>\n",
              "      <td>28</td>\n",
              "      <td>1</td>\n",
              "      <td>33.0</td>\n",
              "      <td>3</td>\n",
              "      <td>0</td>\n",
              "      <td>2</td>\n",
              "      <td>4449.46</td>\n",
              "    </tr>\n",
              "    <tr>\n",
              "      <th>3</th>\n",
              "      <td>33</td>\n",
              "      <td>1</td>\n",
              "      <td>22.7</td>\n",
              "      <td>0</td>\n",
              "      <td>0</td>\n",
              "      <td>1</td>\n",
              "      <td>21984.47</td>\n",
              "    </tr>\n",
              "    <tr>\n",
              "      <th>4</th>\n",
              "      <td>32</td>\n",
              "      <td>1</td>\n",
              "      <td>28.9</td>\n",
              "      <td>0</td>\n",
              "      <td>0</td>\n",
              "      <td>1</td>\n",
              "      <td>3866.86</td>\n",
              "    </tr>\n",
              "    <tr>\n",
              "      <th>...</th>\n",
              "      <td>...</td>\n",
              "      <td>...</td>\n",
              "      <td>...</td>\n",
              "      <td>...</td>\n",
              "      <td>...</td>\n",
              "      <td>...</td>\n",
              "      <td>...</td>\n",
              "    </tr>\n",
              "    <tr>\n",
              "      <th>1333</th>\n",
              "      <td>50</td>\n",
              "      <td>1</td>\n",
              "      <td>31.0</td>\n",
              "      <td>3</td>\n",
              "      <td>0</td>\n",
              "      <td>1</td>\n",
              "      <td>10600.55</td>\n",
              "    </tr>\n",
              "    <tr>\n",
              "      <th>1334</th>\n",
              "      <td>18</td>\n",
              "      <td>0</td>\n",
              "      <td>31.9</td>\n",
              "      <td>0</td>\n",
              "      <td>0</td>\n",
              "      <td>0</td>\n",
              "      <td>2205.98</td>\n",
              "    </tr>\n",
              "    <tr>\n",
              "      <th>1335</th>\n",
              "      <td>18</td>\n",
              "      <td>0</td>\n",
              "      <td>36.9</td>\n",
              "      <td>0</td>\n",
              "      <td>0</td>\n",
              "      <td>2</td>\n",
              "      <td>1629.83</td>\n",
              "    </tr>\n",
              "    <tr>\n",
              "      <th>1336</th>\n",
              "      <td>21</td>\n",
              "      <td>0</td>\n",
              "      <td>25.8</td>\n",
              "      <td>0</td>\n",
              "      <td>0</td>\n",
              "      <td>3</td>\n",
              "      <td>2007.95</td>\n",
              "    </tr>\n",
              "    <tr>\n",
              "      <th>1337</th>\n",
              "      <td>61</td>\n",
              "      <td>0</td>\n",
              "      <td>29.1</td>\n",
              "      <td>0</td>\n",
              "      <td>1</td>\n",
              "      <td>1</td>\n",
              "      <td>29141.36</td>\n",
              "    </tr>\n",
              "  </tbody>\n",
              "</table>\n",
              "<p>1338 rows × 7 columns</p>\n",
              "</div>\n",
              "      <button class=\"colab-df-convert\" onclick=\"convertToInteractive('df-6a019f93-e6a4-4e89-bcbf-b89a1e53ef5c')\"\n",
              "              title=\"Convert this dataframe to an interactive table.\"\n",
              "              style=\"display:none;\">\n",
              "        \n",
              "  <svg xmlns=\"http://www.w3.org/2000/svg\" height=\"24px\"viewBox=\"0 0 24 24\"\n",
              "       width=\"24px\">\n",
              "    <path d=\"M0 0h24v24H0V0z\" fill=\"none\"/>\n",
              "    <path d=\"M18.56 5.44l.94 2.06.94-2.06 2.06-.94-2.06-.94-.94-2.06-.94 2.06-2.06.94zm-11 1L8.5 8.5l.94-2.06 2.06-.94-2.06-.94L8.5 2.5l-.94 2.06-2.06.94zm10 10l.94 2.06.94-2.06 2.06-.94-2.06-.94-.94-2.06-.94 2.06-2.06.94z\"/><path d=\"M17.41 7.96l-1.37-1.37c-.4-.4-.92-.59-1.43-.59-.52 0-1.04.2-1.43.59L10.3 9.45l-7.72 7.72c-.78.78-.78 2.05 0 2.83L4 21.41c.39.39.9.59 1.41.59.51 0 1.02-.2 1.41-.59l7.78-7.78 2.81-2.81c.8-.78.8-2.07 0-2.86zM5.41 20L4 18.59l7.72-7.72 1.47 1.35L5.41 20z\"/>\n",
              "  </svg>\n",
              "      </button>\n",
              "      \n",
              "  <style>\n",
              "    .colab-df-container {\n",
              "      display:flex;\n",
              "      flex-wrap:wrap;\n",
              "      gap: 12px;\n",
              "    }\n",
              "\n",
              "    .colab-df-convert {\n",
              "      background-color: #E8F0FE;\n",
              "      border: none;\n",
              "      border-radius: 50%;\n",
              "      cursor: pointer;\n",
              "      display: none;\n",
              "      fill: #1967D2;\n",
              "      height: 32px;\n",
              "      padding: 0 0 0 0;\n",
              "      width: 32px;\n",
              "    }\n",
              "\n",
              "    .colab-df-convert:hover {\n",
              "      background-color: #E2EBFA;\n",
              "      box-shadow: 0px 1px 2px rgba(60, 64, 67, 0.3), 0px 1px 3px 1px rgba(60, 64, 67, 0.15);\n",
              "      fill: #174EA6;\n",
              "    }\n",
              "\n",
              "    [theme=dark] .colab-df-convert {\n",
              "      background-color: #3B4455;\n",
              "      fill: #D2E3FC;\n",
              "    }\n",
              "\n",
              "    [theme=dark] .colab-df-convert:hover {\n",
              "      background-color: #434B5C;\n",
              "      box-shadow: 0px 1px 3px 1px rgba(0, 0, 0, 0.15);\n",
              "      filter: drop-shadow(0px 1px 2px rgba(0, 0, 0, 0.3));\n",
              "      fill: #FFFFFF;\n",
              "    }\n",
              "  </style>\n",
              "\n",
              "      <script>\n",
              "        const buttonEl =\n",
              "          document.querySelector('#df-6a019f93-e6a4-4e89-bcbf-b89a1e53ef5c button.colab-df-convert');\n",
              "        buttonEl.style.display =\n",
              "          google.colab.kernel.accessAllowed ? 'block' : 'none';\n",
              "\n",
              "        async function convertToInteractive(key) {\n",
              "          const element = document.querySelector('#df-6a019f93-e6a4-4e89-bcbf-b89a1e53ef5c');\n",
              "          const dataTable =\n",
              "            await google.colab.kernel.invokeFunction('convertToInteractive',\n",
              "                                                     [key], {});\n",
              "          if (!dataTable) return;\n",
              "\n",
              "          const docLinkHtml = 'Like what you see? Visit the ' +\n",
              "            '<a target=\"_blank\" href=https://colab.research.google.com/notebooks/data_table.ipynb>data table notebook</a>'\n",
              "            + ' to learn more about interactive tables.';\n",
              "          element.innerHTML = '';\n",
              "          dataTable['output_type'] = 'display_data';\n",
              "          await google.colab.output.renderOutput(dataTable, element);\n",
              "          const docLink = document.createElement('div');\n",
              "          docLink.innerHTML = docLinkHtml;\n",
              "          element.appendChild(docLink);\n",
              "        }\n",
              "      </script>\n",
              "    </div>\n",
              "  </div>\n",
              "  "
            ]
          },
          "metadata": {},
          "execution_count": 96
        }
      ]
    },
    {
      "cell_type": "code",
      "source": [
        "labels=dataset.pop('expenses')"
      ],
      "metadata": {
        "id": "KdGKFJYYHSOX"
      },
      "execution_count": 4,
      "outputs": []
    },
    {
      "cell_type": "markdown",
      "source": [
        "##### Splitting the dataset"
      ],
      "metadata": {
        "id": "5s9-mI9V-iV_"
      }
    },
    {
      "cell_type": "code",
      "source": [
        "#train_dataset, train_labels,test_dataset, test_labels=\n",
        "train_dataset, test_dataset, train_labels, test_labels = train_test_split(dataset, labels, test_size=0.33, random_state=42)"
      ],
      "metadata": {
        "id": "zdrQTvyOHE49"
      },
      "execution_count": 5,
      "outputs": []
    },
    {
      "cell_type": "markdown",
      "source": [
        "##### Normalizations"
      ],
      "metadata": {
        "id": "Hs2Fq_W6-48d"
      }
    },
    {
      "cell_type": "code",
      "source": [
        "# create normalization layer\n",
        "normalizer = layers.experimental.preprocessing.Normalization(axis=-1)"
      ],
      "metadata": {
        "id": "yxGeCV8c_CLh"
      },
      "execution_count": 6,
      "outputs": []
    },
    {
      "cell_type": "code",
      "source": [
        "# fit the state of the preprocessing layer to the data\n",
        "normalizer.adapt(np.array(train_dataset))"
      ],
      "metadata": {
        "id": "KAQGyWWP_DUk"
      },
      "execution_count": 7,
      "outputs": []
    },
    {
      "cell_type": "markdown",
      "source": [
        "### Building the model\n"
      ],
      "metadata": {
        "id": "b9mNjwAZ3UcT"
      }
    },
    {
      "cell_type": "code",
      "source": [
        "# Create model\n",
        "model = keras.Sequential([\n",
        "                          normalizer,\n",
        "                          layers.Dense(2),\n",
        "                          layers.Dense(1)\n",
        "])\n",
        "\n",
        "model.compile(optimizer=keras.optimizers.Adam(learning_rate=0.1),\n",
        "              loss='mae',\n",
        "              metrics=['mae', 'mse'])\n",
        "\n",
        "model.summary()"
      ],
      "metadata": {
        "colab": {
          "base_uri": "https://localhost:8080/"
        },
        "id": "nqYvbNUr_uY9",
        "outputId": "33a0b772-c7e6-4c99-d95a-2927f4127a5f"
      },
      "execution_count": 9,
      "outputs": [
        {
          "output_type": "stream",
          "name": "stdout",
          "text": [
            "Model: \"sequential\"\n",
            "_________________________________________________________________\n",
            " Layer (type)                Output Shape              Param #   \n",
            "=================================================================\n",
            " normalization (Normalizatio  (None, 6)                13        \n",
            " n)                                                              \n",
            "                                                                 \n",
            " dense (Dense)               (None, 2)                 14        \n",
            "                                                                 \n",
            " dense_1 (Dense)             (None, 1)                 3         \n",
            "                                                                 \n",
            "=================================================================\n",
            "Total params: 30\n",
            "Trainable params: 17\n",
            "Non-trainable params: 13\n",
            "_________________________________________________________________\n"
          ]
        }
      ]
    },
    {
      "cell_type": "code",
      "source": [
        "# Train model\n",
        "model.fit(train_dataset, train_labels, epochs=80, validation_split=0.2)"
      ],
      "metadata": {
        "colab": {
          "base_uri": "https://localhost:8080/"
        },
        "id": "XCyq2kxcFNoH",
        "outputId": "00a01898-1310-4546-a269-7cae07e0a4f5"
      },
      "execution_count": 12,
      "outputs": [
        {
          "output_type": "stream",
          "name": "stdout",
          "text": [
            "Epoch 1/80\n",
            "23/23 [==============================] - 0s 18ms/step - loss: 3656.1382 - mae: 3656.1382 - mse: 44750548.0000 - val_loss: 3458.5469 - val_mae: 3458.5469 - val_mse: 45723984.0000\n",
            "Epoch 2/80\n",
            "23/23 [==============================] - 0s 13ms/step - loss: 3658.8293 - mae: 3658.8293 - mse: 44443620.0000 - val_loss: 3451.8223 - val_mae: 3451.8223 - val_mse: 45361452.0000\n",
            "Epoch 3/80\n",
            "23/23 [==============================] - 0s 15ms/step - loss: 3655.7190 - mae: 3655.7190 - mse: 44298352.0000 - val_loss: 3457.7195 - val_mae: 3457.7195 - val_mse: 45332488.0000\n",
            "Epoch 4/80\n",
            "23/23 [==============================] - 0s 13ms/step - loss: 3659.0098 - mae: 3659.0098 - mse: 44306308.0000 - val_loss: 3453.3572 - val_mae: 3453.3572 - val_mse: 45128740.0000\n",
            "Epoch 5/80\n",
            "23/23 [==============================] - 0s 14ms/step - loss: 3654.8708 - mae: 3654.8708 - mse: 44145260.0000 - val_loss: 3449.8572 - val_mae: 3449.8572 - val_mse: 45127624.0000\n",
            "Epoch 6/80\n",
            "23/23 [==============================] - 0s 13ms/step - loss: 3653.0520 - mae: 3653.0520 - mse: 44011868.0000 - val_loss: 3438.6440 - val_mae: 3438.6440 - val_mse: 44779640.0000\n",
            "Epoch 7/80\n",
            "23/23 [==============================] - 0s 13ms/step - loss: 3652.7393 - mae: 3652.7393 - mse: 43778864.0000 - val_loss: 3440.3604 - val_mae: 3440.3604 - val_mse: 44699408.0000\n",
            "Epoch 8/80\n",
            "23/23 [==============================] - 0s 13ms/step - loss: 3650.7375 - mae: 3650.7375 - mse: 43817112.0000 - val_loss: 3435.0117 - val_mae: 3435.0117 - val_mse: 44684492.0000\n",
            "Epoch 9/80\n",
            "23/23 [==============================] - 0s 12ms/step - loss: 3649.8955 - mae: 3649.8955 - mse: 43676404.0000 - val_loss: 3430.5681 - val_mae: 3430.5681 - val_mse: 44224328.0000\n",
            "Epoch 10/80\n",
            "23/23 [==============================] - 0s 12ms/step - loss: 3650.4629 - mae: 3650.4629 - mse: 43509692.0000 - val_loss: 3421.1892 - val_mae: 3421.1892 - val_mse: 44081276.0000\n",
            "Epoch 11/80\n",
            "23/23 [==============================] - 0s 11ms/step - loss: 3652.5291 - mae: 3652.5291 - mse: 43332320.0000 - val_loss: 3405.0134 - val_mae: 3405.0134 - val_mse: 43686764.0000\n",
            "Epoch 12/80\n",
            "23/23 [==============================] - 0s 12ms/step - loss: 3647.4717 - mae: 3647.4717 - mse: 43145056.0000 - val_loss: 3413.4375 - val_mae: 3413.4375 - val_mse: 43649248.0000\n",
            "Epoch 13/80\n",
            "23/23 [==============================] - 0s 10ms/step - loss: 3648.1013 - mae: 3648.1013 - mse: 43144588.0000 - val_loss: 3396.5632 - val_mae: 3396.5632 - val_mse: 43266652.0000\n",
            "Epoch 14/80\n",
            "23/23 [==============================] - 0s 11ms/step - loss: 3648.2710 - mae: 3648.2710 - mse: 42990872.0000 - val_loss: 3378.7483 - val_mae: 3378.7483 - val_mse: 42753580.0000\n",
            "Epoch 15/80\n",
            "23/23 [==============================] - 0s 12ms/step - loss: 3644.4246 - mae: 3644.4246 - mse: 42583640.0000 - val_loss: 3385.2708 - val_mae: 3385.2708 - val_mse: 42766428.0000\n",
            "Epoch 16/80\n",
            "23/23 [==============================] - 0s 9ms/step - loss: 3644.4556 - mae: 3644.4556 - mse: 42800324.0000 - val_loss: 3383.9038 - val_mae: 3383.9038 - val_mse: 42851424.0000\n",
            "Epoch 17/80\n",
            "23/23 [==============================] - 0s 12ms/step - loss: 3641.6414 - mae: 3641.6414 - mse: 42557428.0000 - val_loss: 3377.5410 - val_mae: 3377.5410 - val_mse: 42567668.0000\n",
            "Epoch 18/80\n",
            "23/23 [==============================] - 0s 13ms/step - loss: 3642.3159 - mae: 3642.3159 - mse: 42724916.0000 - val_loss: 3370.9072 - val_mae: 3370.9072 - val_mse: 42666956.0000\n",
            "Epoch 19/80\n",
            "23/23 [==============================] - 0s 13ms/step - loss: 3638.7109 - mae: 3638.7109 - mse: 42592308.0000 - val_loss: 3371.4731 - val_mae: 3371.4731 - val_mse: 42310700.0000\n",
            "Epoch 20/80\n",
            "23/23 [==============================] - 0s 11ms/step - loss: 3640.7712 - mae: 3640.7712 - mse: 42482944.0000 - val_loss: 3366.1355 - val_mae: 3366.1355 - val_mse: 42176464.0000\n",
            "Epoch 21/80\n",
            "23/23 [==============================] - 0s 11ms/step - loss: 3638.4375 - mae: 3638.4375 - mse: 42469728.0000 - val_loss: 3349.1257 - val_mae: 3349.1257 - val_mse: 41935492.0000\n",
            "Epoch 22/80\n",
            "23/23 [==============================] - 0s 16ms/step - loss: 3636.2632 - mae: 3636.2632 - mse: 42309608.0000 - val_loss: 3342.3799 - val_mae: 3342.3799 - val_mse: 41817712.0000\n",
            "Epoch 23/80\n",
            "23/23 [==============================] - 0s 16ms/step - loss: 3634.4839 - mae: 3634.4839 - mse: 42418764.0000 - val_loss: 3346.8206 - val_mae: 3346.8206 - val_mse: 41852536.0000\n",
            "Epoch 24/80\n",
            "23/23 [==============================] - 0s 8ms/step - loss: 3635.7993 - mae: 3635.7993 - mse: 42338128.0000 - val_loss: 3347.1211 - val_mae: 3347.1211 - val_mse: 41562628.0000\n",
            "Epoch 25/80\n",
            "23/23 [==============================] - 0s 6ms/step - loss: 3632.8230 - mae: 3632.8230 - mse: 42170096.0000 - val_loss: 3331.3159 - val_mae: 3331.3159 - val_mse: 41398112.0000\n",
            "Epoch 26/80\n",
            "23/23 [==============================] - 0s 6ms/step - loss: 3632.4043 - mae: 3632.4043 - mse: 42169732.0000 - val_loss: 3328.5535 - val_mae: 3328.5535 - val_mse: 41362064.0000\n",
            "Epoch 27/80\n",
            "23/23 [==============================] - 0s 6ms/step - loss: 3631.4919 - mae: 3631.4919 - mse: 42152748.0000 - val_loss: 3313.3364 - val_mae: 3313.3364 - val_mse: 40997792.0000\n",
            "Epoch 28/80\n",
            "23/23 [==============================] - 0s 6ms/step - loss: 3627.9124 - mae: 3627.9124 - mse: 42141592.0000 - val_loss: 3313.0425 - val_mae: 3313.0425 - val_mse: 41121304.0000\n",
            "Epoch 29/80\n",
            "23/23 [==============================] - 0s 6ms/step - loss: 3632.3313 - mae: 3632.3313 - mse: 42304176.0000 - val_loss: 3313.2888 - val_mae: 3313.2888 - val_mse: 40920704.0000\n",
            "Epoch 30/80\n",
            "23/23 [==============================] - 0s 6ms/step - loss: 3632.5813 - mae: 3632.5813 - mse: 42250576.0000 - val_loss: 3315.0969 - val_mae: 3315.0969 - val_mse: 41102524.0000\n",
            "Epoch 31/80\n",
            "23/23 [==============================] - 0s 6ms/step - loss: 3627.9805 - mae: 3627.9805 - mse: 42380396.0000 - val_loss: 3310.2144 - val_mae: 3310.2144 - val_mse: 41021384.0000\n",
            "Epoch 32/80\n",
            "23/23 [==============================] - 0s 6ms/step - loss: 3631.9700 - mae: 3631.9700 - mse: 42317960.0000 - val_loss: 3303.9153 - val_mae: 3303.9153 - val_mse: 40703416.0000\n",
            "Epoch 33/80\n",
            "23/23 [==============================] - 0s 6ms/step - loss: 3628.2900 - mae: 3628.2900 - mse: 42227168.0000 - val_loss: 3302.4216 - val_mae: 3302.4216 - val_mse: 40580544.0000\n",
            "Epoch 34/80\n",
            "23/23 [==============================] - 0s 6ms/step - loss: 3625.2637 - mae: 3625.2637 - mse: 42319656.0000 - val_loss: 3291.1211 - val_mae: 3291.1211 - val_mse: 40682132.0000\n",
            "Epoch 35/80\n",
            "23/23 [==============================] - 0s 6ms/step - loss: 3628.5903 - mae: 3628.5903 - mse: 42371696.0000 - val_loss: 3287.3618 - val_mae: 3287.3618 - val_mse: 40363768.0000\n",
            "Epoch 36/80\n",
            "23/23 [==============================] - 0s 5ms/step - loss: 3628.3540 - mae: 3628.3540 - mse: 42263860.0000 - val_loss: 3279.9397 - val_mae: 3279.9397 - val_mse: 40232376.0000\n",
            "Epoch 37/80\n",
            "23/23 [==============================] - 0s 6ms/step - loss: 3622.8220 - mae: 3622.8220 - mse: 42480892.0000 - val_loss: 3286.9666 - val_mae: 3286.9666 - val_mse: 40598260.0000\n",
            "Epoch 38/80\n",
            "23/23 [==============================] - 0s 6ms/step - loss: 3623.8005 - mae: 3623.8005 - mse: 42754152.0000 - val_loss: 3277.9736 - val_mae: 3277.9736 - val_mse: 40321728.0000\n",
            "Epoch 39/80\n",
            "23/23 [==============================] - 0s 6ms/step - loss: 3623.7534 - mae: 3623.7534 - mse: 42631068.0000 - val_loss: 3274.2188 - val_mae: 3274.2190 - val_mse: 40246276.0000\n",
            "Epoch 40/80\n",
            "23/23 [==============================] - 0s 5ms/step - loss: 3621.4570 - mae: 3621.4570 - mse: 42757884.0000 - val_loss: 3265.2664 - val_mae: 3265.2664 - val_mse: 40178660.0000\n",
            "Epoch 41/80\n",
            "23/23 [==============================] - 0s 5ms/step - loss: 3619.5801 - mae: 3619.5801 - mse: 42866980.0000 - val_loss: 3268.3879 - val_mae: 3268.3879 - val_mse: 40225492.0000\n",
            "Epoch 42/80\n",
            "23/23 [==============================] - 0s 6ms/step - loss: 3622.7681 - mae: 3622.7681 - mse: 42837472.0000 - val_loss: 3271.8438 - val_mae: 3271.8438 - val_mse: 40029144.0000\n",
            "Epoch 43/80\n",
            "23/23 [==============================] - 0s 6ms/step - loss: 3621.1340 - mae: 3621.1340 - mse: 43008316.0000 - val_loss: 3237.8518 - val_mae: 3237.8518 - val_mse: 39874956.0000\n",
            "Epoch 44/80\n",
            "23/23 [==============================] - 0s 6ms/step - loss: 3619.0603 - mae: 3619.0603 - mse: 42980680.0000 - val_loss: 3245.4114 - val_mae: 3245.4114 - val_mse: 39968824.0000\n",
            "Epoch 45/80\n",
            "23/23 [==============================] - 0s 5ms/step - loss: 3617.2222 - mae: 3617.2222 - mse: 43173644.0000 - val_loss: 3250.0083 - val_mae: 3250.0083 - val_mse: 40175292.0000\n",
            "Epoch 46/80\n",
            "23/23 [==============================] - 0s 6ms/step - loss: 3617.6321 - mae: 3617.6321 - mse: 43296276.0000 - val_loss: 3244.9216 - val_mae: 3244.9216 - val_mse: 40003684.0000\n",
            "Epoch 47/80\n",
            "23/23 [==============================] - 0s 6ms/step - loss: 3619.5107 - mae: 3619.5107 - mse: 43414480.0000 - val_loss: 3242.2351 - val_mae: 3242.2351 - val_mse: 39991764.0000\n",
            "Epoch 48/80\n",
            "23/23 [==============================] - 0s 6ms/step - loss: 3617.8960 - mae: 3617.8960 - mse: 43453372.0000 - val_loss: 3235.3413 - val_mae: 3235.3413 - val_mse: 39892076.0000\n",
            "Epoch 49/80\n",
            "23/23 [==============================] - 0s 5ms/step - loss: 3618.9246 - mae: 3618.9246 - mse: 43535744.0000 - val_loss: 3235.3826 - val_mae: 3235.3826 - val_mse: 39948660.0000\n",
            "Epoch 50/80\n",
            "23/23 [==============================] - 0s 6ms/step - loss: 3614.0789 - mae: 3614.0789 - mse: 43435100.0000 - val_loss: 3244.3987 - val_mae: 3244.3987 - val_mse: 40022552.0000\n",
            "Epoch 51/80\n",
            "23/23 [==============================] - 0s 7ms/step - loss: 3618.5740 - mae: 3618.5740 - mse: 43414052.0000 - val_loss: 3229.8921 - val_mae: 3229.8921 - val_mse: 39932792.0000\n",
            "Epoch 52/80\n",
            "23/23 [==============================] - 0s 5ms/step - loss: 3615.4978 - mae: 3615.4978 - mse: 43414644.0000 - val_loss: 3231.4277 - val_mae: 3231.4277 - val_mse: 39859692.0000\n",
            "Epoch 53/80\n",
            "23/23 [==============================] - 0s 6ms/step - loss: 3614.9065 - mae: 3614.9065 - mse: 43735388.0000 - val_loss: 3236.3813 - val_mae: 3236.3813 - val_mse: 40078668.0000\n",
            "Epoch 54/80\n",
            "23/23 [==============================] - 0s 6ms/step - loss: 3614.1973 - mae: 3614.1973 - mse: 44171580.0000 - val_loss: 3226.7129 - val_mae: 3226.7129 - val_mse: 40181876.0000\n",
            "Epoch 55/80\n",
            "23/23 [==============================] - 0s 6ms/step - loss: 3615.9521 - mae: 3615.9521 - mse: 44263712.0000 - val_loss: 3215.4324 - val_mae: 3215.4324 - val_mse: 39984280.0000\n",
            "Epoch 56/80\n",
            "23/23 [==============================] - 0s 6ms/step - loss: 3619.1865 - mae: 3619.1865 - mse: 43920216.0000 - val_loss: 3225.3477 - val_mae: 3225.3477 - val_mse: 39984372.0000\n",
            "Epoch 57/80\n",
            "23/23 [==============================] - 0s 6ms/step - loss: 3612.4099 - mae: 3612.4099 - mse: 44070816.0000 - val_loss: 3219.3174 - val_mae: 3219.3174 - val_mse: 40035012.0000\n",
            "Epoch 58/80\n",
            "23/23 [==============================] - 0s 6ms/step - loss: 3616.3521 - mae: 3616.3521 - mse: 44500632.0000 - val_loss: 3219.7070 - val_mae: 3219.7070 - val_mse: 40066580.0000\n",
            "Epoch 59/80\n",
            "23/23 [==============================] - 0s 5ms/step - loss: 3615.4700 - mae: 3615.4700 - mse: 44714124.0000 - val_loss: 3210.4656 - val_mae: 3210.4656 - val_mse: 39994164.0000\n",
            "Epoch 60/80\n",
            "23/23 [==============================] - 0s 6ms/step - loss: 3614.2791 - mae: 3614.2791 - mse: 44511808.0000 - val_loss: 3202.3931 - val_mae: 3202.3931 - val_mse: 40003044.0000\n",
            "Epoch 61/80\n",
            "23/23 [==============================] - 0s 5ms/step - loss: 3616.6543 - mae: 3616.6543 - mse: 44833132.0000 - val_loss: 3207.8923 - val_mae: 3207.8923 - val_mse: 40098504.0000\n",
            "Epoch 62/80\n",
            "23/23 [==============================] - 0s 5ms/step - loss: 3615.1499 - mae: 3615.1499 - mse: 44742920.0000 - val_loss: 3199.3389 - val_mae: 3199.3389 - val_mse: 39979920.0000\n",
            "Epoch 63/80\n",
            "23/23 [==============================] - 0s 6ms/step - loss: 3617.9985 - mae: 3617.9985 - mse: 44607676.0000 - val_loss: 3209.2305 - val_mae: 3209.2305 - val_mse: 39995296.0000\n",
            "Epoch 64/80\n",
            "23/23 [==============================] - 0s 6ms/step - loss: 3613.0400 - mae: 3613.0400 - mse: 44880780.0000 - val_loss: 3191.8308 - val_mae: 3191.8308 - val_mse: 40138812.0000\n",
            "Epoch 65/80\n",
            "23/23 [==============================] - 0s 6ms/step - loss: 3610.9973 - mae: 3610.9973 - mse: 45143908.0000 - val_loss: 3192.6409 - val_mae: 3192.6409 - val_mse: 40107900.0000\n",
            "Epoch 66/80\n",
            "23/23 [==============================] - 0s 5ms/step - loss: 3614.1914 - mae: 3614.1914 - mse: 45376944.0000 - val_loss: 3183.3752 - val_mae: 3183.3752 - val_mse: 40134576.0000\n",
            "Epoch 67/80\n",
            "23/23 [==============================] - 0s 6ms/step - loss: 3610.9868 - mae: 3610.9868 - mse: 45370484.0000 - val_loss: 3193.7219 - val_mae: 3193.7219 - val_mse: 40121732.0000\n",
            "Epoch 68/80\n",
            "23/23 [==============================] - 0s 6ms/step - loss: 3614.0471 - mae: 3614.0471 - mse: 45265252.0000 - val_loss: 3196.9927 - val_mae: 3196.9927 - val_mse: 40111916.0000\n",
            "Epoch 69/80\n",
            "23/23 [==============================] - 0s 6ms/step - loss: 3613.8369 - mae: 3613.8369 - mse: 45606084.0000 - val_loss: 3186.8110 - val_mae: 3186.8110 - val_mse: 40337624.0000\n",
            "Epoch 70/80\n",
            "23/23 [==============================] - 0s 6ms/step - loss: 3612.2441 - mae: 3612.2441 - mse: 46015188.0000 - val_loss: 3186.0684 - val_mae: 3186.0684 - val_mse: 40386524.0000\n",
            "Epoch 71/80\n",
            "23/23 [==============================] - 0s 6ms/step - loss: 3615.8450 - mae: 3615.8450 - mse: 46165040.0000 - val_loss: 3184.5503 - val_mae: 3184.5503 - val_mse: 40515708.0000\n",
            "Epoch 72/80\n",
            "23/23 [==============================] - 0s 6ms/step - loss: 3616.1462 - mae: 3616.1462 - mse: 46015496.0000 - val_loss: 3182.3193 - val_mae: 3182.3193 - val_mse: 40360144.0000\n",
            "Epoch 73/80\n",
            "23/23 [==============================] - 0s 6ms/step - loss: 3613.3594 - mae: 3613.3594 - mse: 45944888.0000 - val_loss: 3173.7063 - val_mae: 3173.7063 - val_mse: 40301680.0000\n",
            "Epoch 74/80\n",
            "23/23 [==============================] - 0s 6ms/step - loss: 3609.3499 - mae: 3609.3499 - mse: 45961712.0000 - val_loss: 3166.8916 - val_mae: 3166.8916 - val_mse: 40307768.0000\n",
            "Epoch 75/80\n",
            "23/23 [==============================] - 0s 6ms/step - loss: 3610.1272 - mae: 3610.1272 - mse: 46122200.0000 - val_loss: 3177.9333 - val_mae: 3177.9333 - val_mse: 40423748.0000\n",
            "Epoch 76/80\n",
            "23/23 [==============================] - 0s 6ms/step - loss: 3610.4893 - mae: 3610.4893 - mse: 46004072.0000 - val_loss: 3181.3472 - val_mae: 3181.3472 - val_mse: 40302512.0000\n",
            "Epoch 77/80\n",
            "23/23 [==============================] - 0s 6ms/step - loss: 3610.9067 - mae: 3610.9067 - mse: 46259632.0000 - val_loss: 3170.9097 - val_mae: 3170.9097 - val_mse: 40384088.0000\n",
            "Epoch 78/80\n",
            "23/23 [==============================] - 0s 6ms/step - loss: 3610.2148 - mae: 3610.2148 - mse: 46639104.0000 - val_loss: 3174.9570 - val_mae: 3174.9570 - val_mse: 40679500.0000\n",
            "Epoch 79/80\n",
            "23/23 [==============================] - 0s 7ms/step - loss: 3608.5542 - mae: 3608.5542 - mse: 46432972.0000 - val_loss: 3169.7483 - val_mae: 3169.7483 - val_mse: 40407552.0000\n",
            "Epoch 80/80\n",
            "23/23 [==============================] - 0s 6ms/step - loss: 3610.1680 - mae: 3610.1680 - mse: 46092220.0000 - val_loss: 3173.6272 - val_mae: 3173.6272 - val_mse: 40289836.0000\n"
          ]
        },
        {
          "output_type": "execute_result",
          "data": {
            "text/plain": [
              "<keras.callbacks.History at 0x7f944245aa90>"
            ]
          },
          "metadata": {},
          "execution_count": 12
        }
      ]
    },
    {
      "cell_type": "markdown",
      "source": [
        "### Evaluating and predicting"
      ],
      "metadata": {
        "id": "PmB5ytb3ytTK"
      }
    },
    {
      "cell_type": "code",
      "metadata": {
        "id": "Xe7RXH3N3CWU",
        "colab": {
          "base_uri": "https://localhost:8080/",
          "height": 338
        },
        "outputId": "a4d9ad8e-fb8f-48db-de92-2009380a4e19"
      },
      "source": [
        "# RUN THIS CELL TO TEST YOUR MODEL. DO NOT MODIFY CONTENTS.\n",
        "# Test model by checking how well the model generalizes using the test set.\n",
        "loss, mae, mse = model.evaluate(test_dataset, test_labels, verbose=2)\n",
        "\n",
        "print(\"Testing set Mean Abs Error: {:5.2f} expenses\".format(mae))\n",
        "\n",
        "if mae < 3500:\n",
        "  print(\"You passed the challenge. Great job!\")\n",
        "else:\n",
        "  print(\"The Mean Abs Error must be less than 3500. Keep trying.\")\n",
        "\n",
        "# Plot predictions.\n",
        "test_predictions = model.predict(test_dataset).flatten()\n",
        "\n",
        "a = plt.axes(aspect='equal')\n",
        "plt.scatter(test_labels, test_predictions)\n",
        "plt.xlabel('True values (expenses)')\n",
        "plt.ylabel('Predictions (expenses)')\n",
        "lims = [0, 50000]\n",
        "plt.xlim(lims)\n",
        "plt.ylim(lims)\n",
        "_ = plt.plot(lims,lims)\n"
      ],
      "execution_count": 13,
      "outputs": [
        {
          "output_type": "stream",
          "name": "stdout",
          "text": [
            "14/14 - 0s - loss: 3296.5264 - mae: 3296.5264 - mse: 40959004.0000 - 51ms/epoch - 4ms/step\n",
            "Testing set Mean Abs Error: 3296.53 expenses\n",
            "You passed the challenge. Great job!\n"
          ]
        },
        {
          "output_type": "display_data",
          "data": {
            "text/plain": [
              "<Figure size 432x288 with 1 Axes>"
            ],
            "image/png": "[encoded data removed]"
          },
          "metadata": {
            "needs_background": "light"
          }
        }
      ]
    }
  ]
}