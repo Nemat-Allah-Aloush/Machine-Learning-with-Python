{
  "nbformat": 4,
  "nbformat_minor": 0,
  "metadata": {
    "colab": {
      "name": "Predict_Health_Costs_with_Regression.ipynb",
      "provenance": [],
      "collapsed_sections": []
    },
    "kernelspec": {
      "display_name": "Python 3",
      "name": "python3"
    },
    "accelerator": "GPU"
  },
  "cells": [
    {
      "cell_type": "markdown",
      "metadata": {
        "id": "M9TX15KOkPBV"
      },
      "source": [
        "*Note: You are currently reading this using Google Colaboratory which is a cloud-hosted version of Jupyter Notebook. This is a document containing both text cells for documentation and runnable code cells. If you are unfamiliar with Jupyter Notebook, watch this 3-minute introduction before starting this challenge: https://www.youtube.com/watch?v=inN8seMm7UI*\n",
        "\n",
        "---\n",
        "\n",
        "In this challenge, you will predict healthcare costs using a regression algorithm.\n",
        "\n",
        "You are given a dataset that contains information about different people including their healthcare costs. Use the data to predict healthcare costs based on new data.\n",
        "\n",
        "The first two cells of this notebook import libraries and the data.\n",
        "\n",
        "Make sure to convert categorical data to numbers. Use 80% of the data as the `train_dataset` and 20% of the data as the `test_dataset`.\n",
        "\n",
        "`pop` off the \"expenses\" column from these datasets to create new datasets called `train_labels` and `test_labels`. Use these labels when training your model.\n",
        "\n",
        "Create a model and train it with the `train_dataset`. Run the final cell in this notebook to check your model. The final cell will use the unseen `test_dataset` to check how well the model generalizes.\n",
        "\n",
        "To pass the challenge, `model.evaluate` must return a Mean Absolute Error of under 3500. This means it predicts health care costs correctly within $3500.\n",
        "\n",
        "The final cell will also predict expenses using the `test_dataset` and graph the results."
      ]
    },
    {
      "cell_type": "markdown",
      "source": [
        "### Imports"
      ],
      "metadata": {
        "id": "_PE0mMI_yhwl"
      }
    },
    {
      "cell_type": "code",
      "metadata": {
        "id": "1rRo8oNqZ-Rj",
        "colab": {
          "base_uri": "https://localhost:8080/"
        },
        "outputId": "e3ca72d5-fa5e-4785-e0e4-d5b78d2d744c"
      },
      "source": [
        "# Import libraries. You may or may not use all of these.\n",
        "!pip install -q git+https://github.com/tensorflow/docs\n",
        "import matplotlib.pyplot as plt\n",
        "import numpy as np\n",
        "import pandas as pd\n",
        "\n",
        "try:\n",
        "  # %tensorflow_version only exists in Colab.\n",
        "  %tensorflow_version 2.x\n",
        "except Exception:\n",
        "  pass\n",
        "import tensorflow as tf\n",
        "\n",
        "from tensorflow import keras\n",
        "from tensorflow.keras import layers\n",
        "\n",
        "import tensorflow_docs as tfdocs\n",
        "import tensorflow_docs.plots\n",
        "import tensorflow_docs.modeling\n",
        "\n",
        "from sklearn.model_selection import train_test_split "
      ],
      "execution_count": 1,
      "outputs": [
        {
          "output_type": "stream",
          "name": "stdout",
          "text": [
            "  Building wheel for tensorflow-docs (setup.py) ... \u001b[?25l\u001b[?25hdone\n"
          ]
        }
      ]
    },
    {
      "cell_type": "markdown",
      "source": [
        "### Downloading and processing Dataset"
      ],
      "metadata": {
        "id": "tzI5d6EQyo80"
      }
    },
    {
      "cell_type": "code",
      "metadata": {
        "id": "CiX2FI4gZtTt",
        "colab": {
          "base_uri": "https://localhost:8080/",
          "height": 407
        },
        "outputId": "7e58e1b4-f58d-4fe5-8079-d238475049e0"
      },
      "source": [
        "# Import data\n",
        "!wget https://cdn.freecodecamp.org/project-data/health-costs/insurance.csv\n",
        "dataset = pd.read_csv('insurance.csv')\n",
        "dataset.tail()"
      ],
      "execution_count": 2,
      "outputs": [
        {
          "output_type": "stream",
          "name": "stdout",
          "text": [
            "--2022-04-19 17:39:03--  https://cdn.freecodecamp.org/project-data/health-costs/insurance.csv\n",
            "Resolving cdn.freecodecamp.org (cdn.freecodecamp.org)... 172.67.70.149, 104.26.3.33, 104.26.2.33, ...\n",
            "Connecting to cdn.freecodecamp.org (cdn.freecodecamp.org)|172.67.70.149|:443... connected.\n",
            "HTTP request sent, awaiting response... 200 OK\n",
            "Length: 50264 (49K) [text/csv]\n",
            "Saving to: ‘insurance.csv’\n",
            "\n",
            "\rinsurance.csv         0%[                    ]       0  --.-KB/s               \rinsurance.csv       100%[===================>]  49.09K  --.-KB/s    in 0.001s  \n",
            "\n",
            "2022-04-19 17:39:03 (67.2 MB/s) - ‘insurance.csv’ saved [50264/50264]\n",
            "\n"
          ]
        },
        {
          "output_type": "execute_result",
          "data": {
            "text/plain": [
              "      age     sex   bmi  children smoker     region  expenses\n",
              "1333   50    male  31.0         3     no  northwest  10600.55\n",
              "1334   18  female  31.9         0     no  northeast   2205.98\n",
              "1335   18  female  36.9         0     no  southeast   1629.83\n",
              "1336   21  female  25.8         0     no  southwest   2007.95\n",
              "1337   61  female  29.1         0    yes  northwest  29141.36"
            ],
            "text/html": [
              "\n",
              "  <div id=\"df-906af111-c420-4a81-ac96-2076c03bd844\">\n",
              "    <div class=\"colab-df-container\">\n",
              "      <div>\n",
              "<style scoped>\n",
              "    .dataframe tbody tr th:only-of-type {\n",
              "        vertical-align: middle;\n",
              "    }\n",
              "\n",
              "    .dataframe tbody tr th {\n",
              "        vertical-align: top;\n",
              "    }\n",
              "\n",
              "    .dataframe thead th {\n",
              "        text-align: right;\n",
              "    }\n",
              "</style>\n",
              "<table border=\"1\" class=\"dataframe\">\n",
              "  <thead>\n",
              "    <tr style=\"text-align: right;\">\n",
              "      <th></th>\n",
              "      <th>age</th>\n",
              "      <th>sex</th>\n",
              "      <th>bmi</th>\n",
              "      <th>children</th>\n",
              "      <th>smoker</th>\n",
              "      <th>region</th>\n",
              "      <th>expenses</th>\n",
              "    </tr>\n",
              "  </thead>\n",
              "  <tbody>\n",
              "    <tr>\n",
              "      <th>1333</th>\n",
              "      <td>50</td>\n",
              "      <td>male</td>\n",
              "      <td>31.0</td>\n",
              "      <td>3</td>\n",
              "      <td>no</td>\n",
              "      <td>northwest</td>\n",
              "      <td>10600.55</td>\n",
              "    </tr>\n",
              "    <tr>\n",
              "      <th>1334</th>\n",
              "      <td>18</td>\n",
              "      <td>female</td>\n",
              "      <td>31.9</td>\n",
              "      <td>0</td>\n",
              "      <td>no</td>\n",
              "      <td>northeast</td>\n",
              "      <td>2205.98</td>\n",
              "    </tr>\n",
              "    <tr>\n",
              "      <th>1335</th>\n",
              "      <td>18</td>\n",
              "      <td>female</td>\n",
              "      <td>36.9</td>\n",
              "      <td>0</td>\n",
              "      <td>no</td>\n",
              "      <td>southeast</td>\n",
              "      <td>1629.83</td>\n",
              "    </tr>\n",
              "    <tr>\n",
              "      <th>1336</th>\n",
              "      <td>21</td>\n",
              "      <td>female</td>\n",
              "      <td>25.8</td>\n",
              "      <td>0</td>\n",
              "      <td>no</td>\n",
              "      <td>southwest</td>\n",
              "      <td>2007.95</td>\n",
              "    </tr>\n",
              "    <tr>\n",
              "      <th>1337</th>\n",
              "      <td>61</td>\n",
              "      <td>female</td>\n",
              "      <td>29.1</td>\n",
              "      <td>0</td>\n",
              "      <td>yes</td>\n",
              "      <td>northwest</td>\n",
              "      <td>29141.36</td>\n",
              "    </tr>\n",
              "  </tbody>\n",
              "</table>\n",
              "</div>\n",
              "      <button class=\"colab-df-convert\" onclick=\"convertToInteractive('df-906af111-c420-4a81-ac96-2076c03bd844')\"\n",
              "              title=\"Convert this dataframe to an interactive table.\"\n",
              "              style=\"display:none;\">\n",
              "        \n",
              "  <svg xmlns=\"http://www.w3.org/2000/svg\" height=\"24px\"viewBox=\"0 0 24 24\"\n",
              "       width=\"24px\">\n",
              "    <path d=\"M0 0h24v24H0V0z\" fill=\"none\"/>\n",
              "    <path d=\"M18.56 5.44l.94 2.06.94-2.06 2.06-.94-2.06-.94-.94-2.06-.94 2.06-2.06.94zm-11 1L8.5 8.5l.94-2.06 2.06-.94-2.06-.94L8.5 2.5l-.94 2.06-2.06.94zm10 10l.94 2.06.94-2.06 2.06-.94-2.06-.94-.94-2.06-.94 2.06-2.06.94z\"/><path d=\"M17.41 7.96l-1.37-1.37c-.4-.4-.92-.59-1.43-.59-.52 0-1.04.2-1.43.59L10.3 9.45l-7.72 7.72c-.78.78-.78 2.05 0 2.83L4 21.41c.39.39.9.59 1.41.59.51 0 1.02-.2 1.41-.59l7.78-7.78 2.81-2.81c.8-.78.8-2.07 0-2.86zM5.41 20L4 18.59l7.72-7.72 1.47 1.35L5.41 20z\"/>\n",
              "  </svg>\n",
              "      </button>\n",
              "      \n",
              "  <style>\n",
              "    .colab-df-container {\n",
              "      display:flex;\n",
              "      flex-wrap:wrap;\n",
              "      gap: 12px;\n",
              "    }\n",
              "\n",
              "    .colab-df-convert {\n",
              "      background-color: #E8F0FE;\n",
              "      border: none;\n",
              "      border-radius: 50%;\n",
              "      cursor: pointer;\n",
              "      display: none;\n",
              "      fill: #1967D2;\n",
              "      height: 32px;\n",
              "      padding: 0 0 0 0;\n",
              "      width: 32px;\n",
              "    }\n",
              "\n",
              "    .colab-df-convert:hover {\n",
              "      background-color: #E2EBFA;\n",
              "      box-shadow: 0px 1px 2px rgba(60, 64, 67, 0.3), 0px 1px 3px 1px rgba(60, 64, 67, 0.15);\n",
              "      fill: #174EA6;\n",
              "    }\n",
              "\n",
              "    [theme=dark] .colab-df-convert {\n",
              "      background-color: #3B4455;\n",
              "      fill: #D2E3FC;\n",
              "    }\n",
              "\n",
              "    [theme=dark] .colab-df-convert:hover {\n",
              "      background-color: #434B5C;\n",
              "      box-shadow: 0px 1px 3px 1px rgba(0, 0, 0, 0.15);\n",
              "      filter: drop-shadow(0px 1px 2px rgba(0, 0, 0, 0.3));\n",
              "      fill: #FFFFFF;\n",
              "    }\n",
              "  </style>\n",
              "\n",
              "      <script>\n",
              "        const buttonEl =\n",
              "          document.querySelector('#df-906af111-c420-4a81-ac96-2076c03bd844 button.colab-df-convert');\n",
              "        buttonEl.style.display =\n",
              "          google.colab.kernel.accessAllowed ? 'block' : 'none';\n",
              "\n",
              "        async function convertToInteractive(key) {\n",
              "          const element = document.querySelector('#df-906af111-c420-4a81-ac96-2076c03bd844');\n",
              "          const dataTable =\n",
              "            await google.colab.kernel.invokeFunction('convertToInteractive',\n",
              "                                                     [key], {});\n",
              "          if (!dataTable) return;\n",
              "\n",
              "          const docLinkHtml = 'Like what you see? Visit the ' +\n",
              "            '<a target=\"_blank\" href=https://colab.research.google.com/notebooks/data_table.ipynb>data table notebook</a>'\n",
              "            + ' to learn more about interactive tables.';\n",
              "          element.innerHTML = '';\n",
              "          dataTable['output_type'] = 'display_data';\n",
              "          await google.colab.output.renderOutput(dataTable, element);\n",
              "          const docLink = document.createElement('div');\n",
              "          docLink.innerHTML = docLinkHtml;\n",
              "          element.appendChild(docLink);\n",
              "        }\n",
              "      </script>\n",
              "    </div>\n",
              "  </div>\n",
              "  "
            ]
          },
          "metadata": {},
          "execution_count": 2
        }
      ]
    },
    {
      "cell_type": "markdown",
      "source": [
        "##### Transforming categorical Dataset"
      ],
      "metadata": {
        "id": "vH6PpkaL1qCj"
      }
    },
    {
      "cell_type": "code",
      "source": [
        "# Convert categorical columns into numeric\n",
        "dataset['sex'] = dataset['sex'].astype('category').cat.codes\n",
        "dataset['smoker'] = dataset['smoker'].astype('category').cat.codes\n",
        "dataset['region'] = dataset['region'].astype('category').cat.codes"
      ],
      "metadata": {
        "id": "KmWvboic7m4-"
      },
      "execution_count": 3,
      "outputs": []
    },
    {
      "cell_type": "code",
      "source": [
        "dataset"
      ],
      "metadata": {
        "colab": {
          "base_uri": "https://localhost:8080/",
          "height": 423
        },
        "id": "7G79Fbv9Gz1T",
        "outputId": "d0bc5e79-3233-47d0-8525-59c5d0705fdb"
      },
      "execution_count": null,
      "outputs": [
        {
          "output_type": "execute_result",
          "data": {
            "text/plain": [
              "      age  sex   bmi  children  smoker  region  expenses\n",
              "0      19    0  27.9         0       1       3  16884.92\n",
              "1      18    1  33.8         1       0       2   1725.55\n",
              "2      28    1  33.0         3       0       2   4449.46\n",
              "3      33    1  22.7         0       0       1  21984.47\n",
              "4      32    1  28.9         0       0       1   3866.86\n",
              "...   ...  ...   ...       ...     ...     ...       ...\n",
              "1333   50    1  31.0         3       0       1  10600.55\n",
              "1334   18    0  31.9         0       0       0   2205.98\n",
              "1335   18    0  36.9         0       0       2   1629.83\n",
              "1336   21    0  25.8         0       0       3   2007.95\n",
              "1337   61    0  29.1         0       1       1  29141.36\n",
              "\n",
              "[1338 rows x 7 columns]"
            ],
            "text/html": [
              "\n",
              "  <div id=\"df-6a019f93-e6a4-4e89-bcbf-b89a1e53ef5c\">\n",
              "    <div class=\"colab-df-container\">\n",
              "      <div>\n",
              "<style scoped>\n",
              "    .dataframe tbody tr th:only-of-type {\n",
              "        vertical-align: middle;\n",
              "    }\n",
              "\n",
              "    .dataframe tbody tr th {\n",
              "        vertical-align: top;\n",
              "    }\n",
              "\n",
              "    .dataframe thead th {\n",
              "        text-align: right;\n",
              "    }\n",
              "</style>\n",
              "<table border=\"1\" class=\"dataframe\">\n",
              "  <thead>\n",
              "    <tr style=\"text-align: right;\">\n",
              "      <th></th>\n",
              "      <th>age</th>\n",
              "      <th>sex</th>\n",
              "      <th>bmi</th>\n",
              "      <th>children</th>\n",
              "      <th>smoker</th>\n",
              "      <th>region</th>\n",
              "      <th>expenses</th>\n",
              "    </tr>\n",
              "  </thead>\n",
              "  <tbody>\n",
              "    <tr>\n",
              "      <th>0</th>\n",
              "      <td>19</td>\n",
              "      <td>0</td>\n",
              "      <td>27.9</td>\n",
              "      <td>0</td>\n",
              "      <td>1</td>\n",
              "      <td>3</td>\n",
              "      <td>16884.92</td>\n",
              "    </tr>\n",
              "    <tr>\n",
              "      <th>1</th>\n",
              "      <td>18</td>\n",
              "      <td>1</td>\n",
              "      <td>33.8</td>\n",
              "      <td>1</td>\n",
              "      <td>0</td>\n",
              "      <td>2</td>\n",
              "      <td>1725.55</td>\n",
              "    </tr>\n",
              "    <tr>\n",
              "      <th>2</th>\n",
              "      <td>28</td>\n",
              "      <td>1</td>\n",
              "      <td>33.0</td>\n",
              "      <td>3</td>\n",
              "      <td>0</td>\n",
              "      <td>2</td>\n",
              "      <td>4449.46</td>\n",
              "    </tr>\n",
              "    <tr>\n",
              "      <th>3</th>\n",
              "      <td>33</td>\n",
              "      <td>1</td>\n",
              "      <td>22.7</td>\n",
              "      <td>0</td>\n",
              "      <td>0</td>\n",
              "      <td>1</td>\n",
              "      <td>21984.47</td>\n",
              "    </tr>\n",
              "    <tr>\n",
              "      <th>4</th>\n",
              "      <td>32</td>\n",
              "      <td>1</td>\n",
              "      <td>28.9</td>\n",
              "      <td>0</td>\n",
              "      <td>0</td>\n",
              "      <td>1</td>\n",
              "      <td>3866.86</td>\n",
              "    </tr>\n",
              "    <tr>\n",
              "      <th>...</th>\n",
              "      <td>...</td>\n",
              "      <td>...</td>\n",
              "      <td>...</td>\n",
              "      <td>...</td>\n",
              "      <td>...</td>\n",
              "      <td>...</td>\n",
              "      <td>...</td>\n",
              "    </tr>\n",
              "    <tr>\n",
              "      <th>1333</th>\n",
              "      <td>50</td>\n",
              "      <td>1</td>\n",
              "      <td>31.0</td>\n",
              "      <td>3</td>\n",
              "      <td>0</td>\n",
              "      <td>1</td>\n",
              "      <td>10600.55</td>\n",
              "    </tr>\n",
              "    <tr>\n",
              "      <th>1334</th>\n",
              "      <td>18</td>\n",
              "      <td>0</td>\n",
              "      <td>31.9</td>\n",
              "      <td>0</td>\n",
              "      <td>0</td>\n",
              "      <td>0</td>\n",
              "      <td>2205.98</td>\n",
              "    </tr>\n",
              "    <tr>\n",
              "      <th>1335</th>\n",
              "      <td>18</td>\n",
              "      <td>0</td>\n",
              "      <td>36.9</td>\n",
              "      <td>0</td>\n",
              "      <td>0</td>\n",
              "      <td>2</td>\n",
              "      <td>1629.83</td>\n",
              "    </tr>\n",
              "    <tr>\n",
              "      <th>1336</th>\n",
              "      <td>21</td>\n",
              "      <td>0</td>\n",
              "      <td>25.8</td>\n",
              "      <td>0</td>\n",
              "      <td>0</td>\n",
              "      <td>3</td>\n",
              "      <td>2007.95</td>\n",
              "    </tr>\n",
              "    <tr>\n",
              "      <th>1337</th>\n",
              "      <td>61</td>\n",
              "      <td>0</td>\n",
              "      <td>29.1</td>\n",
              "      <td>0</td>\n",
              "      <td>1</td>\n",
              "      <td>1</td>\n",
              "      <td>29141.36</td>\n",
              "    </tr>\n",
              "  </tbody>\n",
              "</table>\n",
              "<p>1338 rows × 7 columns</p>\n",
              "</div>\n",
              "      <button class=\"colab-df-convert\" onclick=\"convertToInteractive('df-6a019f93-e6a4-4e89-bcbf-b89a1e53ef5c')\"\n",
              "              title=\"Convert this dataframe to an interactive table.\"\n",
              "              style=\"display:none;\">\n",
              "        \n",
              "  <svg xmlns=\"http://www.w3.org/2000/svg\" height=\"24px\"viewBox=\"0 0 24 24\"\n",
              "       width=\"24px\">\n",
              "    <path d=\"M0 0h24v24H0V0z\" fill=\"none\"/>\n",
              "    <path d=\"M18.56 5.44l.94 2.06.94-2.06 2.06-.94-2.06-.94-.94-2.06-.94 2.06-2.06.94zm-11 1L8.5 8.5l.94-2.06 2.06-.94-2.06-.94L8.5 2.5l-.94 2.06-2.06.94zm10 10l.94 2.06.94-2.06 2.06-.94-2.06-.94-.94-2.06-.94 2.06-2.06.94z\"/><path d=\"M17.41 7.96l-1.37-1.37c-.4-.4-.92-.59-1.43-.59-.52 0-1.04.2-1.43.59L10.3 9.45l-7.72 7.72c-.78.78-.78 2.05 0 2.83L4 21.41c.39.39.9.59 1.41.59.51 0 1.02-.2 1.41-.59l7.78-7.78 2.81-2.81c.8-.78.8-2.07 0-2.86zM5.41 20L4 18.59l7.72-7.72 1.47 1.35L5.41 20z\"/>\n",
              "  </svg>\n",
              "      </button>\n",
              "      \n",
              "  <style>\n",
              "    .colab-df-container {\n",
              "      display:flex;\n",
              "      flex-wrap:wrap;\n",
              "      gap: 12px;\n",
              "    }\n",
              "\n",
              "    .colab-df-convert {\n",
              "      background-color: #E8F0FE;\n",
              "      border: none;\n",
              "      border-radius: 50%;\n",
              "      cursor: pointer;\n",
              "      display: none;\n",
              "      fill: #1967D2;\n",
              "      height: 32px;\n",
              "      padding: 0 0 0 0;\n",
              "      width: 32px;\n",
              "    }\n",
              "\n",
              "    .colab-df-convert:hover {\n",
              "      background-color: #E2EBFA;\n",
              "      box-shadow: 0px 1px 2px rgba(60, 64, 67, 0.3), 0px 1px 3px 1px rgba(60, 64, 67, 0.15);\n",
              "      fill: #174EA6;\n",
              "    }\n",
              "\n",
              "    [theme=dark] .colab-df-convert {\n",
              "      background-color: #3B4455;\n",
              "      fill: #D2E3FC;\n",
              "    }\n",
              "\n",
              "    [theme=dark] .colab-df-convert:hover {\n",
              "      background-color: #434B5C;\n",
              "      box-shadow: 0px 1px 3px 1px rgba(0, 0, 0, 0.15);\n",
              "      filter: drop-shadow(0px 1px 2px rgba(0, 0, 0, 0.3));\n",
              "      fill: #FFFFFF;\n",
              "    }\n",
              "  </style>\n",
              "\n",
              "      <script>\n",
              "        const buttonEl =\n",
              "          document.querySelector('#df-6a019f93-e6a4-4e89-bcbf-b89a1e53ef5c button.colab-df-convert');\n",
              "        buttonEl.style.display =\n",
              "          google.colab.kernel.accessAllowed ? 'block' : 'none';\n",
              "\n",
              "        async function convertToInteractive(key) {\n",
              "          const element = document.querySelector('#df-6a019f93-e6a4-4e89-bcbf-b89a1e53ef5c');\n",
              "          const dataTable =\n",
              "            await google.colab.kernel.invokeFunction('convertToInteractive',\n",
              "                                                     [key], {});\n",
              "          if (!dataTable) return;\n",
              "\n",
              "          const docLinkHtml = 'Like what you see? Visit the ' +\n",
              "            '<a target=\"_blank\" href=https://colab.research.google.com/notebooks/data_table.ipynb>data table notebook</a>'\n",
              "            + ' to learn more about interactive tables.';\n",
              "          element.innerHTML = '';\n",
              "          dataTable['output_type'] = 'display_data';\n",
              "          await google.colab.output.renderOutput(dataTable, element);\n",
              "          const docLink = document.createElement('div');\n",
              "          docLink.innerHTML = docLinkHtml;\n",
              "          element.appendChild(docLink);\n",
              "        }\n",
              "      </script>\n",
              "    </div>\n",
              "  </div>\n",
              "  "
            ]
          },
          "metadata": {},
          "execution_count": 96
        }
      ]
    },
    {
      "cell_type": "code",
      "source": [
        "labels=dataset.pop('expenses')"
      ],
      "metadata": {
        "id": "KdGKFJYYHSOX"
      },
      "execution_count": 4,
      "outputs": []
    },
    {
      "cell_type": "markdown",
      "source": [
        "##### Splitting the dataset"
      ],
      "metadata": {
        "id": "5s9-mI9V-iV_"
      }
    },
    {
      "cell_type": "code",
      "source": [
        "#train_dataset, train_labels,test_dataset, test_labels=\n",
        "train_dataset, test_dataset, train_labels, test_labels = train_test_split(dataset, labels, test_size=0.20, random_state=42)"
      ],
      "metadata": {
        "id": "zdrQTvyOHE49"
      },
      "execution_count": 14,
      "outputs": []
    },
    {
      "cell_type": "markdown",
      "source": [
        "##### Normalizations"
      ],
      "metadata": {
        "id": "Hs2Fq_W6-48d"
      }
    },
    {
      "cell_type": "code",
      "source": [
        "# create normalization layer\n",
        "normalizer = layers.experimental.preprocessing.Normalization(axis=-1)"
      ],
      "metadata": {
        "id": "yxGeCV8c_CLh"
      },
      "execution_count": 15,
      "outputs": []
    },
    {
      "cell_type": "code",
      "source": [
        "# fit the state of the preprocessing layer to the data\n",
        "normalizer.adapt(np.array(train_dataset))"
      ],
      "metadata": {
        "id": "KAQGyWWP_DUk"
      },
      "execution_count": 16,
      "outputs": []
    },
    {
      "cell_type": "markdown",
      "source": [
        "### Building the model\n"
      ],
      "metadata": {
        "id": "b9mNjwAZ3UcT"
      }
    },
    {
      "cell_type": "code",
      "source": [
        "# Create model\n",
        "model = keras.Sequential([\n",
        "                          normalizer,\n",
        "                          layers.Dense(2),\n",
        "                          layers.Dense(1)\n",
        "])\n",
        "\n",
        "model.compile(optimizer=keras.optimizers.Adam(learning_rate=0.1),\n",
        "              loss='mae',\n",
        "              metrics=['mae', 'mse'])\n",
        "\n",
        "model.summary()"
      ],
      "metadata": {
        "colab": {
          "base_uri": "https://localhost:8080/"
        },
        "id": "nqYvbNUr_uY9",
        "outputId": "7ea01c75-dfed-4dee-d190-807af919c813"
      },
      "execution_count": 17,
      "outputs": [
        {
          "output_type": "stream",
          "name": "stdout",
          "text": [
            "Model: \"sequential_1\"\n",
            "_________________________________________________________________\n",
            " Layer (type)                Output Shape              Param #   \n",
            "=================================================================\n",
            " normalization_1 (Normalizat  (None, 6)                13        \n",
            " ion)                                                            \n",
            "                                                                 \n",
            " dense_2 (Dense)             (None, 2)                 14        \n",
            "                                                                 \n",
            " dense_3 (Dense)             (None, 1)                 3         \n",
            "                                                                 \n",
            "=================================================================\n",
            "Total params: 30\n",
            "Trainable params: 17\n",
            "Non-trainable params: 13\n",
            "_________________________________________________________________\n"
          ]
        }
      ]
    },
    {
      "cell_type": "code",
      "source": [
        "# Train model\n",
        "model.fit(train_dataset, train_labels, epochs=80, validation_split=0.2)"
      ],
      "metadata": {
        "colab": {
          "base_uri": "https://localhost:8080/"
        },
        "id": "XCyq2kxcFNoH",
        "outputId": "356d3884-059e-458f-e971-fdc9a6a46ea3"
      },
      "execution_count": 18,
      "outputs": [
        {
          "output_type": "stream",
          "name": "stdout",
          "text": [
            "Epoch 1/80\n",
            "27/27 [==============================] - 2s 23ms/step - loss: 13513.8213 - mae: 13513.8213 - mse: 325350560.0000 - val_loss: 12639.1611 - val_mae: 12639.1611 - val_mse: 309948576.0000\n",
            "Epoch 2/80\n",
            "27/27 [==============================] - 0s 10ms/step - loss: 13474.3848 - mae: 13474.3848 - mse: 324203200.0000 - val_loss: 12572.1738 - val_mae: 12572.1738 - val_mse: 308103200.0000\n",
            "Epoch 3/80\n",
            "27/27 [==============================] - 0s 11ms/step - loss: 13369.8213 - mae: 13369.8213 - mse: 321166048.0000 - val_loss: 12433.2344 - val_mae: 12433.2344 - val_mse: 304178368.0000\n",
            "Epoch 4/80\n",
            "27/27 [==============================] - 0s 11ms/step - loss: 13186.2217 - mae: 13186.2217 - mse: 315727232.0000 - val_loss: 12216.5010 - val_mae: 12216.5010 - val_mse: 298169728.0000\n",
            "Epoch 5/80\n",
            "27/27 [==============================] - 0s 10ms/step - loss: 12918.7266 - mae: 12918.7266 - mse: 308089280.0000 - val_loss: 11918.6973 - val_mae: 11918.6973 - val_mse: 290217024.0000\n",
            "Epoch 6/80\n",
            "27/27 [==============================] - 0s 12ms/step - loss: 12567.0410 - mae: 12567.0410 - mse: 298366208.0000 - val_loss: 11541.1113 - val_mae: 11541.1113 - val_mse: 280565664.0000\n",
            "Epoch 7/80\n",
            "27/27 [==============================] - 0s 12ms/step - loss: 12134.8535 - mae: 12134.8535 - mse: 286348000.0000 - val_loss: 11097.6719 - val_mae: 11097.6719 - val_mse: 268258416.0000\n",
            "Epoch 8/80\n",
            "27/27 [==============================] - 0s 10ms/step - loss: 11630.8047 - mae: 11630.8047 - mse: 272342240.0000 - val_loss: 10590.1748 - val_mae: 10590.1748 - val_mse: 254437552.0000\n",
            "Epoch 9/80\n",
            "27/27 [==============================] - 0s 13ms/step - loss: 11056.0654 - mae: 11056.0654 - mse: 256662080.0000 - val_loss: 10006.7188 - val_mae: 10006.7188 - val_mse: 238467552.0000\n",
            "Epoch 10/80\n",
            "27/27 [==============================] - 0s 12ms/step - loss: 10402.7930 - mae: 10402.7930 - mse: 238610528.0000 - val_loss: 9334.1523 - val_mae: 9334.1523 - val_mse: 220388192.0000\n",
            "Epoch 11/80\n",
            "27/27 [==============================] - 0s 11ms/step - loss: 9665.2695 - mae: 9665.2695 - mse: 218963056.0000 - val_loss: 8618.4980 - val_mae: 8618.4980 - val_mse: 200635952.0000\n",
            "Epoch 12/80\n",
            "27/27 [==============================] - 0s 11ms/step - loss: 8842.0518 - mae: 8842.0518 - mse: 198616096.0000 - val_loss: 7815.1865 - val_mae: 7815.1865 - val_mse: 181007344.0000\n",
            "Epoch 13/80\n",
            "27/27 [==============================] - 0s 6ms/step - loss: 7970.1748 - mae: 7970.1748 - mse: 178018576.0000 - val_loss: 6960.3491 - val_mae: 6960.3491 - val_mse: 161110432.0000\n",
            "Epoch 14/80\n",
            "27/27 [==============================] - 0s 6ms/step - loss: 7045.0366 - mae: 7045.0366 - mse: 157289200.0000 - val_loss: 6071.0034 - val_mae: 6071.0034 - val_mse: 142476112.0000\n",
            "Epoch 15/80\n",
            "27/27 [==============================] - 0s 6ms/step - loss: 6161.4263 - mae: 6161.4263 - mse: 136947296.0000 - val_loss: 5325.2720 - val_mae: 5325.2720 - val_mse: 123105144.0000\n",
            "Epoch 16/80\n",
            "27/27 [==============================] - 0s 6ms/step - loss: 5467.1753 - mae: 5467.1753 - mse: 116975944.0000 - val_loss: 4835.6079 - val_mae: 4835.6079 - val_mse: 105633792.0000\n",
            "Epoch 17/80\n",
            "27/27 [==============================] - 0s 6ms/step - loss: 4953.2402 - mae: 4953.2402 - mse: 100312896.0000 - val_loss: 4429.8120 - val_mae: 4429.8120 - val_mse: 91157680.0000\n",
            "Epoch 18/80\n",
            "27/27 [==============================] - 0s 5ms/step - loss: 4472.8628 - mae: 4472.8628 - mse: 85165440.0000 - val_loss: 4047.8745 - val_mae: 4047.8745 - val_mse: 78693368.0000\n",
            "Epoch 19/80\n",
            "27/27 [==============================] - 0s 5ms/step - loss: 4093.7961 - mae: 4093.7961 - mse: 73684616.0000 - val_loss: 3787.7268 - val_mae: 3787.7268 - val_mse: 68887096.0000\n",
            "Epoch 20/80\n",
            "27/27 [==============================] - 0s 6ms/step - loss: 3883.0149 - mae: 3883.0149 - mse: 65783232.0000 - val_loss: 3686.0371 - val_mae: 3686.0371 - val_mse: 63555104.0000\n",
            "Epoch 21/80\n",
            "27/27 [==============================] - 0s 6ms/step - loss: 3798.4988 - mae: 3798.4988 - mse: 60992756.0000 - val_loss: 3632.4919 - val_mae: 3632.4919 - val_mse: 59657184.0000\n",
            "Epoch 22/80\n",
            "27/27 [==============================] - 0s 6ms/step - loss: 3759.7603 - mae: 3759.7603 - mse: 58180044.0000 - val_loss: 3613.6340 - val_mae: 3613.6340 - val_mse: 57670100.0000\n",
            "Epoch 23/80\n",
            "27/27 [==============================] - 0s 6ms/step - loss: 3751.4199 - mae: 3751.4199 - mse: 56989740.0000 - val_loss: 3602.1279 - val_mae: 3602.1279 - val_mse: 56996752.0000\n",
            "Epoch 24/80\n",
            "27/27 [==============================] - 0s 6ms/step - loss: 3742.8650 - mae: 3742.8650 - mse: 55715588.0000 - val_loss: 3592.6047 - val_mae: 3592.6047 - val_mse: 55449376.0000\n",
            "Epoch 25/80\n",
            "27/27 [==============================] - 0s 6ms/step - loss: 3736.4744 - mae: 3736.4744 - mse: 54874988.0000 - val_loss: 3580.1602 - val_mae: 3580.1602 - val_mse: 54880524.0000\n",
            "Epoch 26/80\n",
            "27/27 [==============================] - 0s 6ms/step - loss: 3737.7725 - mae: 3737.7725 - mse: 53853844.0000 - val_loss: 3568.9468 - val_mae: 3568.9468 - val_mse: 53639760.0000\n",
            "Epoch 27/80\n",
            "27/27 [==============================] - 0s 5ms/step - loss: 3730.4033 - mae: 3730.4033 - mse: 53424612.0000 - val_loss: 3564.8706 - val_mae: 3564.8706 - val_mse: 53509436.0000\n",
            "Epoch 28/80\n",
            "27/27 [==============================] - 0s 5ms/step - loss: 3725.5762 - mae: 3725.5762 - mse: 52873852.0000 - val_loss: 3555.2305 - val_mae: 3555.2305 - val_mse: 52667104.0000\n",
            "Epoch 29/80\n",
            "27/27 [==============================] - 0s 5ms/step - loss: 3723.8826 - mae: 3723.8826 - mse: 52347468.0000 - val_loss: 3546.2815 - val_mae: 3546.2815 - val_mse: 52181308.0000\n",
            "Epoch 30/80\n",
            "27/27 [==============================] - 0s 5ms/step - loss: 3719.1697 - mae: 3719.1697 - mse: 51548040.0000 - val_loss: 3538.6016 - val_mae: 3538.6016 - val_mse: 51271684.0000\n",
            "Epoch 31/80\n",
            "27/27 [==============================] - 0s 6ms/step - loss: 3715.8499 - mae: 3715.8499 - mse: 50892672.0000 - val_loss: 3532.2346 - val_mae: 3532.2346 - val_mse: 50572980.0000\n",
            "Epoch 32/80\n",
            "27/27 [==============================] - 0s 5ms/step - loss: 3713.0161 - mae: 3713.0161 - mse: 50099808.0000 - val_loss: 3507.0815 - val_mae: 3507.0815 - val_mse: 49736784.0000\n",
            "Epoch 33/80\n",
            "27/27 [==============================] - 0s 6ms/step - loss: 3707.9521 - mae: 3707.9521 - mse: 49418336.0000 - val_loss: 3511.5166 - val_mae: 3511.5166 - val_mse: 48998916.0000\n",
            "Epoch 34/80\n",
            "27/27 [==============================] - 0s 5ms/step - loss: 3704.3855 - mae: 3704.3855 - mse: 48916880.0000 - val_loss: 3498.7422 - val_mae: 3498.7422 - val_mse: 48542728.0000\n",
            "Epoch 35/80\n",
            "27/27 [==============================] - 0s 6ms/step - loss: 3701.4331 - mae: 3701.4331 - mse: 48367552.0000 - val_loss: 3494.1604 - val_mae: 3494.1604 - val_mse: 47814332.0000\n",
            "Epoch 36/80\n",
            "27/27 [==============================] - 0s 6ms/step - loss: 3697.4905 - mae: 3697.4905 - mse: 47809000.0000 - val_loss: 3488.3376 - val_mae: 3488.3376 - val_mse: 47534480.0000\n",
            "Epoch 37/80\n",
            "27/27 [==============================] - 0s 6ms/step - loss: 3698.1641 - mae: 3698.1641 - mse: 47970800.0000 - val_loss: 3478.6289 - val_mae: 3478.6289 - val_mse: 47453208.0000\n",
            "Epoch 38/80\n",
            "27/27 [==============================] - 0s 6ms/step - loss: 3695.0947 - mae: 3695.0947 - mse: 47065120.0000 - val_loss: 3461.8428 - val_mae: 3461.8428 - val_mse: 46021160.0000\n",
            "Epoch 39/80\n",
            "27/27 [==============================] - 0s 6ms/step - loss: 3691.9302 - mae: 3691.9302 - mse: 46646924.0000 - val_loss: 3458.8711 - val_mae: 3458.8711 - val_mse: 45927036.0000\n",
            "Epoch 40/80\n",
            "27/27 [==============================] - 0s 5ms/step - loss: 3687.0598 - mae: 3687.0598 - mse: 46090264.0000 - val_loss: 3447.0569 - val_mae: 3447.0569 - val_mse: 45467556.0000\n",
            "Epoch 41/80\n",
            "27/27 [==============================] - 0s 6ms/step - loss: 3681.8423 - mae: 3681.8423 - mse: 45745024.0000 - val_loss: 3437.3762 - val_mae: 3437.3762 - val_mse: 44883836.0000\n",
            "Epoch 42/80\n",
            "27/27 [==============================] - 0s 5ms/step - loss: 3678.7546 - mae: 3678.7546 - mse: 45603980.0000 - val_loss: 3437.1992 - val_mae: 3437.1992 - val_mse: 44658852.0000\n",
            "Epoch 43/80\n",
            "27/27 [==============================] - 0s 5ms/step - loss: 3676.0173 - mae: 3676.0173 - mse: 45143360.0000 - val_loss: 3428.4900 - val_mae: 3428.4900 - val_mse: 44272940.0000\n",
            "Epoch 44/80\n",
            "27/27 [==============================] - 0s 5ms/step - loss: 3673.2693 - mae: 3673.2693 - mse: 44658780.0000 - val_loss: 3413.2622 - val_mae: 3413.2622 - val_mse: 43796040.0000\n",
            "Epoch 45/80\n",
            "27/27 [==============================] - 0s 6ms/step - loss: 3669.4148 - mae: 3669.4148 - mse: 44448820.0000 - val_loss: 3405.1155 - val_mae: 3405.1155 - val_mse: 43144584.0000\n",
            "Epoch 46/80\n",
            "27/27 [==============================] - 0s 6ms/step - loss: 3666.1729 - mae: 3666.1729 - mse: 44158860.0000 - val_loss: 3395.2437 - val_mae: 3395.2437 - val_mse: 42919772.0000\n",
            "Epoch 47/80\n",
            "27/27 [==============================] - 0s 6ms/step - loss: 3663.2014 - mae: 3663.2014 - mse: 43847064.0000 - val_loss: 3388.5732 - val_mae: 3388.5732 - val_mse: 42514060.0000\n",
            "Epoch 48/80\n",
            "27/27 [==============================] - 0s 6ms/step - loss: 3658.6799 - mae: 3658.6799 - mse: 43580156.0000 - val_loss: 3381.1113 - val_mae: 3381.1113 - val_mse: 42184028.0000\n",
            "Epoch 49/80\n",
            "27/27 [==============================] - 0s 6ms/step - loss: 3657.8276 - mae: 3657.8276 - mse: 43220456.0000 - val_loss: 3363.2502 - val_mae: 3363.2502 - val_mse: 41640176.0000\n",
            "Epoch 50/80\n",
            "27/27 [==============================] - 0s 6ms/step - loss: 3648.0225 - mae: 3648.0225 - mse: 43181576.0000 - val_loss: 3352.9275 - val_mae: 3352.9275 - val_mse: 41301160.0000\n",
            "Epoch 51/80\n",
            "27/27 [==============================] - 0s 7ms/step - loss: 3645.6086 - mae: 3645.6086 - mse: 43039888.0000 - val_loss: 3348.1711 - val_mae: 3348.1711 - val_mse: 41084212.0000\n",
            "Epoch 52/80\n",
            "27/27 [==============================] - 0s 6ms/step - loss: 3642.5681 - mae: 3642.5681 - mse: 42980392.0000 - val_loss: 3336.8511 - val_mae: 3336.8511 - val_mse: 40811096.0000\n",
            "Epoch 53/80\n",
            "27/27 [==============================] - 0s 6ms/step - loss: 3639.0623 - mae: 3639.0623 - mse: 42764904.0000 - val_loss: 3320.5601 - val_mae: 3320.5601 - val_mse: 40547448.0000\n",
            "Epoch 54/80\n",
            "27/27 [==============================] - 0s 6ms/step - loss: 3633.6274 - mae: 3633.6274 - mse: 42779040.0000 - val_loss: 3314.5039 - val_mae: 3314.5039 - val_mse: 40273136.0000\n",
            "Epoch 55/80\n",
            "27/27 [==============================] - 0s 6ms/step - loss: 3632.8047 - mae: 3632.8047 - mse: 42533504.0000 - val_loss: 3307.3108 - val_mae: 3307.3108 - val_mse: 39977176.0000\n",
            "Epoch 56/80\n",
            "27/27 [==============================] - 0s 6ms/step - loss: 3627.4082 - mae: 3627.4082 - mse: 42628360.0000 - val_loss: 3298.8066 - val_mae: 3298.8066 - val_mse: 40050172.0000\n",
            "Epoch 57/80\n",
            "27/27 [==============================] - 0s 6ms/step - loss: 3622.5630 - mae: 3622.5630 - mse: 42710464.0000 - val_loss: 3288.3206 - val_mae: 3288.3206 - val_mse: 39871604.0000\n",
            "Epoch 58/80\n",
            "27/27 [==============================] - 0s 6ms/step - loss: 3620.7383 - mae: 3620.7383 - mse: 42701820.0000 - val_loss: 3285.0789 - val_mae: 3285.0789 - val_mse: 39713432.0000\n",
            "Epoch 59/80\n",
            "27/27 [==============================] - 0s 6ms/step - loss: 3616.0034 - mae: 3616.0034 - mse: 42747276.0000 - val_loss: 3276.5178 - val_mae: 3276.5178 - val_mse: 39562332.0000\n",
            "Epoch 60/80\n",
            "27/27 [==============================] - 0s 6ms/step - loss: 3614.0688 - mae: 3614.0688 - mse: 42880444.0000 - val_loss: 3269.7678 - val_mae: 3269.7678 - val_mse: 39657012.0000\n",
            "Epoch 61/80\n",
            "27/27 [==============================] - 0s 6ms/step - loss: 3612.6975 - mae: 3612.6975 - mse: 43285160.0000 - val_loss: 3263.2292 - val_mae: 3263.2292 - val_mse: 39544692.0000\n",
            "Epoch 62/80\n",
            "27/27 [==============================] - 0s 6ms/step - loss: 3610.5144 - mae: 3610.5144 - mse: 43333736.0000 - val_loss: 3268.5869 - val_mae: 3268.5869 - val_mse: 39603120.0000\n",
            "Epoch 63/80\n",
            "27/27 [==============================] - 0s 6ms/step - loss: 3611.5537 - mae: 3611.5537 - mse: 43598020.0000 - val_loss: 3242.0837 - val_mae: 3242.0837 - val_mse: 39497712.0000\n",
            "Epoch 64/80\n",
            "27/27 [==============================] - 0s 6ms/step - loss: 3603.3130 - mae: 3603.3130 - mse: 43712624.0000 - val_loss: 3236.8596 - val_mae: 3236.8596 - val_mse: 39520404.0000\n",
            "Epoch 65/80\n",
            "27/27 [==============================] - 0s 6ms/step - loss: 3603.2600 - mae: 3603.2600 - mse: 43919336.0000 - val_loss: 3245.0503 - val_mae: 3245.0503 - val_mse: 39681508.0000\n",
            "Epoch 66/80\n",
            "27/27 [==============================] - 0s 6ms/step - loss: 3601.6433 - mae: 3601.6433 - mse: 44068392.0000 - val_loss: 3225.1033 - val_mae: 3225.1033 - val_mse: 39678796.0000\n",
            "Epoch 67/80\n",
            "27/27 [==============================] - 0s 6ms/step - loss: 3599.0745 - mae: 3599.0745 - mse: 44152596.0000 - val_loss: 3215.7632 - val_mae: 3215.7632 - val_mse: 39508560.0000\n",
            "Epoch 68/80\n",
            "27/27 [==============================] - 0s 6ms/step - loss: 3596.3657 - mae: 3596.3657 - mse: 44758304.0000 - val_loss: 3219.4009 - val_mae: 3219.4009 - val_mse: 40039552.0000\n",
            "Epoch 69/80\n",
            "27/27 [==============================] - 0s 7ms/step - loss: 3597.3630 - mae: 3597.3630 - mse: 44913988.0000 - val_loss: 3209.4275 - val_mae: 3209.4275 - val_mse: 39899652.0000\n",
            "Epoch 70/80\n",
            "27/27 [==============================] - 0s 6ms/step - loss: 3591.4565 - mae: 3591.4565 - mse: 45458500.0000 - val_loss: 3202.8274 - val_mae: 3202.8274 - val_mse: 40187316.0000\n",
            "Epoch 71/80\n",
            "27/27 [==============================] - 0s 6ms/step - loss: 3590.7942 - mae: 3590.7942 - mse: 45326632.0000 - val_loss: 3195.6416 - val_mae: 3195.6416 - val_mse: 40006440.0000\n",
            "Epoch 72/80\n",
            "27/27 [==============================] - 0s 6ms/step - loss: 3589.2756 - mae: 3589.2756 - mse: 45818344.0000 - val_loss: 3192.7512 - val_mae: 3192.7512 - val_mse: 40300536.0000\n",
            "Epoch 73/80\n",
            "27/27 [==============================] - 0s 6ms/step - loss: 3583.9197 - mae: 3583.9197 - mse: 46184172.0000 - val_loss: 3180.3560 - val_mae: 3180.3560 - val_mse: 40495372.0000\n",
            "Epoch 74/80\n",
            "27/27 [==============================] - 0s 6ms/step - loss: 3585.7783 - mae: 3585.7783 - mse: 46803912.0000 - val_loss: 3178.1655 - val_mae: 3178.1655 - val_mse: 40829736.0000\n",
            "Epoch 75/80\n",
            "27/27 [==============================] - 0s 6ms/step - loss: 3580.1438 - mae: 3580.1438 - mse: 47186780.0000 - val_loss: 3182.9470 - val_mae: 3182.9470 - val_mse: 41003844.0000\n",
            "Epoch 76/80\n",
            "27/27 [==============================] - 0s 6ms/step - loss: 3578.3748 - mae: 3578.3748 - mse: 47567604.0000 - val_loss: 3165.1128 - val_mae: 3165.1128 - val_mse: 41323512.0000\n",
            "Epoch 77/80\n",
            "27/27 [==============================] - 0s 6ms/step - loss: 3576.0183 - mae: 3576.0183 - mse: 47943456.0000 - val_loss: 3169.5249 - val_mae: 3169.5249 - val_mse: 41390748.0000\n",
            "Epoch 78/80\n",
            "27/27 [==============================] - 0s 6ms/step - loss: 3575.3418 - mae: 3575.3418 - mse: 48335740.0000 - val_loss: 3152.6482 - val_mae: 3152.6482 - val_mse: 41736264.0000\n",
            "Epoch 79/80\n",
            "27/27 [==============================] - 0s 5ms/step - loss: 3576.2886 - mae: 3576.2886 - mse: 49253380.0000 - val_loss: 3149.4080 - val_mae: 3149.4080 - val_mse: 42329860.0000\n",
            "Epoch 80/80\n",
            "27/27 [==============================] - 0s 6ms/step - loss: 3574.3933 - mae: 3574.3933 - mse: 49410992.0000 - val_loss: 3138.1384 - val_mae: 3138.1384 - val_mse: 42271232.0000\n"
          ]
        },
        {
          "output_type": "execute_result",
          "data": {
            "text/plain": [
              "<keras.callbacks.History at 0x7f943fd2cc90>"
            ]
          },
          "metadata": {},
          "execution_count": 18
        }
      ]
    },
    {
      "cell_type": "markdown",
      "source": [
        "### Evaluating and predicting"
      ],
      "metadata": {
        "id": "PmB5ytb3ytTK"
      }
    },
    {
      "cell_type": "code",
      "metadata": {
        "id": "Xe7RXH3N3CWU",
        "colab": {
          "base_uri": "https://localhost:8080/",
          "height": 338
        },
        "outputId": "3659a44a-8d41-4ed7-edab-2e1d69ba5ed0"
      },
      "source": [
        "# RUN THIS CELL TO TEST YOUR MODEL. DO NOT MODIFY CONTENTS.\n",
        "# Test model by checking how well the model generalizes using the test set.\n",
        "loss, mae, mse = model.evaluate(test_dataset, test_labels, verbose=2)\n",
        "\n",
        "print(\"Testing set Mean Abs Error: {:5.2f} expenses\".format(mae))\n",
        "\n",
        "if mae < 3500:\n",
        "  print(\"You passed the challenge. Great job!\")\n",
        "else:\n",
        "  print(\"The Mean Abs Error must be less than 3500. Keep trying.\")\n",
        "\n",
        "# Plot predictions.\n",
        "test_predictions = model.predict(test_dataset).flatten()\n",
        "\n",
        "a = plt.axes(aspect='equal')\n",
        "plt.scatter(test_labels, test_predictions)\n",
        "plt.xlabel('True values (expenses)')\n",
        "plt.ylabel('Predictions (expenses)')\n",
        "lims = [0, 50000]\n",
        "plt.xlim(lims)\n",
        "plt.ylim(lims)\n",
        "_ = plt.plot(lims,lims)\n"
      ],
      "execution_count": 19,
      "outputs": [
        {
          "output_type": "stream",
          "name": "stdout",
          "text": [
            "9/9 - 0s - loss: 3170.8928 - mae: 3170.8928 - mse: 42071240.0000 - 43ms/epoch - 5ms/step\n",
            "Testing set Mean Abs Error: 3170.89 expenses\n",
            "You passed the challenge. Great job!\n"
          ]
        },
        {
          "output_type": "display_data",
          "data": {
            "text/plain": [
              "<Figure size 432x288 with 1 Axes>"
            ],
            "image/png": "[encoded data removed]"
          },
          "metadata": {
            "needs_background": "light"
          }
        }
      ]
    },
    {
      "cell_type": "code",
      "source": [
        ""
      ],
      "metadata": {
        "id": "MyyjuuvO7SrO"
      },
      "execution_count": 19,
      "outputs": []
    }
  ]
}