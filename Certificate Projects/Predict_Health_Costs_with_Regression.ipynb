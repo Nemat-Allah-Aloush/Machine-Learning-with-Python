{
  "cells": [
    {
      "cell_type": "markdown",
      "metadata": {
        "id": "M9TX15KOkPBV"
      },
      "source": [
        "*Note: You are currently reading this using Google Colaboratory which is a cloud-hosted version of Jupyter Notebook. This is a document containing both text cells for documentation and runnable code cells. If you are unfamiliar with Jupyter Notebook, watch this 3-minute introduction before starting this challenge: https://www.youtube.com/watch?v=inN8seMm7UI*\n",
        "\n",
        "---\n",
        "\n",
        "In this challenge, you will predict healthcare costs using a regression algorithm.\n",
        "\n",
        "You are given a dataset that contains information about different people including their healthcare costs. Use the data to predict healthcare costs based on new data.\n",
        "\n",
        "The first two cells of this notebook import libraries and the data.\n",
        "\n",
        "Make sure to convert categorical data to numbers. Use 80% of the data as the `train_dataset` and 20% of the data as the `test_dataset`.\n",
        "\n",
        "`pop` off the \"expenses\" column from these datasets to create new datasets called `train_labels` and `test_labels`. Use these labels when training your model.\n",
        "\n",
        "Create a model and train it with the `train_dataset`. Run the final cell in this notebook to check your model. The final cell will use the unseen `test_dataset` to check how well the model generalizes.\n",
        "\n",
        "To pass the challenge, `model.evaluate` must return a Mean Absolute Error of under 3500. This means it predicts health care costs correctly within $3500.\n",
        "\n",
        "The final cell will also predict expenses using the `test_dataset` and graph the results."
      ]
    },
    {
      "cell_type": "markdown",
      "metadata": {
        "id": "_PE0mMI_yhwl"
      },
      "source": [
        "### Imports"
      ]
    },
    {
      "cell_type": "code",
      "execution_count": 11,
      "metadata": {
        "id": "1rRo8oNqZ-Rj",
        "vscode": {
          "languageId": "python"
        }
      },
      "outputs": [],
      "source": [
        "# Import libraries. You may or may not use all of these.\n",
        "!pip install -q git+https://github.com/tensorflow/docs\n",
        "import matplotlib.pyplot as plt\n",
        "import numpy as np\n",
        "import pandas as pd\n",
        "\n",
        "try:\n",
        "  # %tensorflow_version only exists in Colab.\n",
        "  %tensorflow_version 2.x\n",
        "except Exception:\n",
        "  pass\n",
        "import tensorflow as tf\n",
        "\n",
        "from tensorflow import keras\n",
        "from tensorflow.keras import layers\n",
        "\n",
        "import tensorflow_docs as tfdocs\n",
        "import tensorflow_docs.plots\n",
        "import tensorflow_docs.modeling\n",
        "\n",
        "from sklearn.model_selection import train_test_split "
      ]
    },
    {
      "cell_type": "markdown",
      "metadata": {
        "id": "tzI5d6EQyo80"
      },
      "source": [
        "### Downloading and processing Dataset"
      ]
    },
    {
      "cell_type": "code",
      "execution_count": 86,
      "metadata": {
        "colab": {
          "base_uri": "https://localhost:8080/",
          "height": 397
        },
        "id": "CiX2FI4gZtTt",
        "outputId": "28930187-4799-40ad-9c52-553c3cc9915d",
        "vscode": {
          "languageId": "python"
        }
      },
      "outputs": [
        {
          "name": "stdout",
          "output_type": "stream",
          "text": [
            "--2022-04-19 09:06:56--  https://cdn.freecodecamp.org/project-data/health-costs/insurance.csv\n",
            "Resolving cdn.freecodecamp.org (cdn.freecodecamp.org)... 104.26.3.33, 104.26.2.33, 172.67.70.149, ...\n",
            "Connecting to cdn.freecodecamp.org (cdn.freecodecamp.org)|104.26.3.33|:443... connected.\n",
            "HTTP request sent, awaiting response... 200 OK\n",
            "Length: 50264 (49K) [text/csv]\n",
            "Saving to: ‘insurance.csv.9’\n",
            "\n",
            "\rinsurance.csv.9       0%[                    ]       0  --.-KB/s               \rinsurance.csv.9     100%[===================>]  49.09K  --.-KB/s    in 0.001s  \n",
            "\n",
            "2022-04-19 09:06:56 (79.5 MB/s) - ‘insurance.csv.9’ saved [50264/50264]\n",
            "\n"
          ]
        },
        {
          "data": {
            "text/html": [
              "\n",
              "  <div id=\"df-a71c16ab-f021-4584-9b45-9fe738b7ec5f\">\n",
              "    <div class=\"colab-df-container\">\n",
              "      <div>\n",
              "<style scoped>\n",
              "    .dataframe tbody tr th:only-of-type {\n",
              "        vertical-align: middle;\n",
              "    }\n",
              "\n",
              "    .dataframe tbody tr th {\n",
              "        vertical-align: top;\n",
              "    }\n",
              "\n",
              "    .dataframe thead th {\n",
              "        text-align: right;\n",
              "    }\n",
              "</style>\n",
              "<table border=\"1\" class=\"dataframe\">\n",
              "  <thead>\n",
              "    <tr style=\"text-align: right;\">\n",
              "      <th></th>\n",
              "      <th>age</th>\n",
              "      <th>sex</th>\n",
              "      <th>bmi</th>\n",
              "      <th>children</th>\n",
              "      <th>smoker</th>\n",
              "      <th>region</th>\n",
              "      <th>expenses</th>\n",
              "    </tr>\n",
              "  </thead>\n",
              "  <tbody>\n",
              "    <tr>\n",
              "      <th>1333</th>\n",
              "      <td>50</td>\n",
              "      <td>male</td>\n",
              "      <td>31.0</td>\n",
              "      <td>3</td>\n",
              "      <td>no</td>\n",
              "      <td>northwest</td>\n",
              "      <td>10600.55</td>\n",
              "    </tr>\n",
              "    <tr>\n",
              "      <th>1334</th>\n",
              "      <td>18</td>\n",
              "      <td>female</td>\n",
              "      <td>31.9</td>\n",
              "      <td>0</td>\n",
              "      <td>no</td>\n",
              "      <td>northeast</td>\n",
              "      <td>2205.98</td>\n",
              "    </tr>\n",
              "    <tr>\n",
              "      <th>1335</th>\n",
              "      <td>18</td>\n",
              "      <td>female</td>\n",
              "      <td>36.9</td>\n",
              "      <td>0</td>\n",
              "      <td>no</td>\n",
              "      <td>southeast</td>\n",
              "      <td>1629.83</td>\n",
              "    </tr>\n",
              "    <tr>\n",
              "      <th>1336</th>\n",
              "      <td>21</td>\n",
              "      <td>female</td>\n",
              "      <td>25.8</td>\n",
              "      <td>0</td>\n",
              "      <td>no</td>\n",
              "      <td>southwest</td>\n",
              "      <td>2007.95</td>\n",
              "    </tr>\n",
              "    <tr>\n",
              "      <th>1337</th>\n",
              "      <td>61</td>\n",
              "      <td>female</td>\n",
              "      <td>29.1</td>\n",
              "      <td>0</td>\n",
              "      <td>yes</td>\n",
              "      <td>northwest</td>\n",
              "      <td>29141.36</td>\n",
              "    </tr>\n",
              "  </tbody>\n",
              "</table>\n",
              "</div>\n",
              "      <button class=\"colab-df-convert\" onclick=\"convertToInteractive('df-a71c16ab-f021-4584-9b45-9fe738b7ec5f')\"\n",
              "              title=\"Convert this dataframe to an interactive table.\"\n",
              "              style=\"display:none;\">\n",
              "        \n",
              "  <svg xmlns=\"http://www.w3.org/2000/svg\" height=\"24px\"viewBox=\"0 0 24 24\"\n",
              "       width=\"24px\">\n",
              "    <path d=\"M0 0h24v24H0V0z\" fill=\"none\"/>\n",
              "    <path d=\"M18.56 5.44l.94 2.06.94-2.06 2.06-.94-2.06-.94-.94-2.06-.94 2.06-2.06.94zm-11 1L8.5 8.5l.94-2.06 2.06-.94-2.06-.94L8.5 2.5l-.94 2.06-2.06.94zm10 10l.94 2.06.94-2.06 2.06-.94-2.06-.94-.94-2.06-.94 2.06-2.06.94z\"/><path d=\"M17.41 7.96l-1.37-1.37c-.4-.4-.92-.59-1.43-.59-.52 0-1.04.2-1.43.59L10.3 9.45l-7.72 7.72c-.78.78-.78 2.05 0 2.83L4 21.41c.39.39.9.59 1.41.59.51 0 1.02-.2 1.41-.59l7.78-7.78 2.81-2.81c.8-.78.8-2.07 0-2.86zM5.41 20L4 18.59l7.72-7.72 1.47 1.35L5.41 20z\"/>\n",
              "  </svg>\n",
              "      </button>\n",
              "      \n",
              "  <style>\n",
              "    .colab-df-container {\n",
              "      display:flex;\n",
              "      flex-wrap:wrap;\n",
              "      gap: 12px;\n",
              "    }\n",
              "\n",
              "    .colab-df-convert {\n",
              "      background-color: #E8F0FE;\n",
              "      border: none;\n",
              "      border-radius: 50%;\n",
              "      cursor: pointer;\n",
              "      display: none;\n",
              "      fill: #1967D2;\n",
              "      height: 32px;\n",
              "      padding: 0 0 0 0;\n",
              "      width: 32px;\n",
              "    }\n",
              "\n",
              "    .colab-df-convert:hover {\n",
              "      background-color: #E2EBFA;\n",
              "      box-shadow: 0px 1px 2px rgba(60, 64, 67, 0.3), 0px 1px 3px 1px rgba(60, 64, 67, 0.15);\n",
              "      fill: #174EA6;\n",
              "    }\n",
              "\n",
              "    [theme=dark] .colab-df-convert {\n",
              "      background-color: #3B4455;\n",
              "      fill: #D2E3FC;\n",
              "    }\n",
              "\n",
              "    [theme=dark] .colab-df-convert:hover {\n",
              "      background-color: #434B5C;\n",
              "      box-shadow: 0px 1px 3px 1px rgba(0, 0, 0, 0.15);\n",
              "      filter: drop-shadow(0px 1px 2px rgba(0, 0, 0, 0.3));\n",
              "      fill: #FFFFFF;\n",
              "    }\n",
              "  </style>\n",
              "\n",
              "      <script>\n",
              "        const buttonEl =\n",
              "          document.querySelector('#df-a71c16ab-f021-4584-9b45-9fe738b7ec5f button.colab-df-convert');\n",
              "        buttonEl.style.display =\n",
              "          google.colab.kernel.accessAllowed ? 'block' : 'none';\n",
              "\n",
              "        async function convertToInteractive(key) {\n",
              "          const element = document.querySelector('#df-a71c16ab-f021-4584-9b45-9fe738b7ec5f');\n",
              "          const dataTable =\n",
              "            await google.colab.kernel.invokeFunction('convertToInteractive',\n",
              "                                                     [key], {});\n",
              "          if (!dataTable) return;\n",
              "\n",
              "          const docLinkHtml = 'Like what you see? Visit the ' +\n",
              "            '<a target=\"_blank\" href=https://colab.research.google.com/notebooks/data_table.ipynb>data table notebook</a>'\n",
              "            + ' to learn more about interactive tables.';\n",
              "          element.innerHTML = '';\n",
              "          dataTable['output_type'] = 'display_data';\n",
              "          await google.colab.output.renderOutput(dataTable, element);\n",
              "          const docLink = document.createElement('div');\n",
              "          docLink.innerHTML = docLinkHtml;\n",
              "          element.appendChild(docLink);\n",
              "        }\n",
              "      </script>\n",
              "    </div>\n",
              "  </div>\n",
              "  "
            ],
            "text/plain": [
              "      age     sex   bmi  children smoker     region  expenses\n",
              "1333   50    male  31.0         3     no  northwest  10600.55\n",
              "1334   18  female  31.9         0     no  northeast   2205.98\n",
              "1335   18  female  36.9         0     no  southeast   1629.83\n",
              "1336   21  female  25.8         0     no  southwest   2007.95\n",
              "1337   61  female  29.1         0    yes  northwest  29141.36"
            ]
          },
          "execution_count": 86,
          "metadata": {},
          "output_type": "execute_result"
        }
      ],
      "source": [
        "# Import data\n",
        "!wget https://cdn.freecodecamp.org/project-data/health-costs/insurance.csv\n",
        "dataset = pd.read_csv('insurance.csv')\n",
        "dataset.tail()"
      ]
    },
    {
      "cell_type": "markdown",
      "metadata": {
        "id": "vH6PpkaL1qCj"
      },
      "source": [
        "##### Transforming categorical Dataset"
      ]
    },
    {
      "cell_type": "code",
      "execution_count": 87,
      "metadata": {
        "id": "KmWvboic7m4-",
        "vscode": {
          "languageId": "python"
        }
      },
      "outputs": [],
      "source": [
        "# Convert categorical columns into numeric\n",
        "dataset['sex'] = dataset['sex'].astype('category').cat.codes\n",
        "dataset['smoker'] = dataset['smoker'].astype('category').cat.codes\n",
        "dataset['region'] = dataset['region'].astype('category').cat.codes"
      ]
    },
    {
      "cell_type": "code",
      "execution_count": 96,
      "metadata": {
        "colab": {
          "base_uri": "https://localhost:8080/",
          "height": 423
        },
        "id": "7G79Fbv9Gz1T",
        "outputId": "d0bc5e79-3233-47d0-8525-59c5d0705fdb",
        "vscode": {
          "languageId": "python"
        }
      },
      "outputs": [
        {
          "data": {
            "text/html": [
              "\n",
              "  <div id=\"df-6a019f93-e6a4-4e89-bcbf-b89a1e53ef5c\">\n",
              "    <div class=\"colab-df-container\">\n",
              "      <div>\n",
              "<style scoped>\n",
              "    .dataframe tbody tr th:only-of-type {\n",
              "        vertical-align: middle;\n",
              "    }\n",
              "\n",
              "    .dataframe tbody tr th {\n",
              "        vertical-align: top;\n",
              "    }\n",
              "\n",
              "    .dataframe thead th {\n",
              "        text-align: right;\n",
              "    }\n",
              "</style>\n",
              "<table border=\"1\" class=\"dataframe\">\n",
              "  <thead>\n",
              "    <tr style=\"text-align: right;\">\n",
              "      <th></th>\n",
              "      <th>age</th>\n",
              "      <th>sex</th>\n",
              "      <th>bmi</th>\n",
              "      <th>children</th>\n",
              "      <th>smoker</th>\n",
              "      <th>region</th>\n",
              "      <th>expenses</th>\n",
              "    </tr>\n",
              "  </thead>\n",
              "  <tbody>\n",
              "    <tr>\n",
              "      <th>0</th>\n",
              "      <td>19</td>\n",
              "      <td>0</td>\n",
              "      <td>27.9</td>\n",
              "      <td>0</td>\n",
              "      <td>1</td>\n",
              "      <td>3</td>\n",
              "      <td>16884.92</td>\n",
              "    </tr>\n",
              "    <tr>\n",
              "      <th>1</th>\n",
              "      <td>18</td>\n",
              "      <td>1</td>\n",
              "      <td>33.8</td>\n",
              "      <td>1</td>\n",
              "      <td>0</td>\n",
              "      <td>2</td>\n",
              "      <td>1725.55</td>\n",
              "    </tr>\n",
              "    <tr>\n",
              "      <th>2</th>\n",
              "      <td>28</td>\n",
              "      <td>1</td>\n",
              "      <td>33.0</td>\n",
              "      <td>3</td>\n",
              "      <td>0</td>\n",
              "      <td>2</td>\n",
              "      <td>4449.46</td>\n",
              "    </tr>\n",
              "    <tr>\n",
              "      <th>3</th>\n",
              "      <td>33</td>\n",
              "      <td>1</td>\n",
              "      <td>22.7</td>\n",
              "      <td>0</td>\n",
              "      <td>0</td>\n",
              "      <td>1</td>\n",
              "      <td>21984.47</td>\n",
              "    </tr>\n",
              "    <tr>\n",
              "      <th>4</th>\n",
              "      <td>32</td>\n",
              "      <td>1</td>\n",
              "      <td>28.9</td>\n",
              "      <td>0</td>\n",
              "      <td>0</td>\n",
              "      <td>1</td>\n",
              "      <td>3866.86</td>\n",
              "    </tr>\n",
              "    <tr>\n",
              "      <th>...</th>\n",
              "      <td>...</td>\n",
              "      <td>...</td>\n",
              "      <td>...</td>\n",
              "      <td>...</td>\n",
              "      <td>...</td>\n",
              "      <td>...</td>\n",
              "      <td>...</td>\n",
              "    </tr>\n",
              "    <tr>\n",
              "      <th>1333</th>\n",
              "      <td>50</td>\n",
              "      <td>1</td>\n",
              "      <td>31.0</td>\n",
              "      <td>3</td>\n",
              "      <td>0</td>\n",
              "      <td>1</td>\n",
              "      <td>10600.55</td>\n",
              "    </tr>\n",
              "    <tr>\n",
              "      <th>1334</th>\n",
              "      <td>18</td>\n",
              "      <td>0</td>\n",
              "      <td>31.9</td>\n",
              "      <td>0</td>\n",
              "      <td>0</td>\n",
              "      <td>0</td>\n",
              "      <td>2205.98</td>\n",
              "    </tr>\n",
              "    <tr>\n",
              "      <th>1335</th>\n",
              "      <td>18</td>\n",
              "      <td>0</td>\n",
              "      <td>36.9</td>\n",
              "      <td>0</td>\n",
              "      <td>0</td>\n",
              "      <td>2</td>\n",
              "      <td>1629.83</td>\n",
              "    </tr>\n",
              "    <tr>\n",
              "      <th>1336</th>\n",
              "      <td>21</td>\n",
              "      <td>0</td>\n",
              "      <td>25.8</td>\n",
              "      <td>0</td>\n",
              "      <td>0</td>\n",
              "      <td>3</td>\n",
              "      <td>2007.95</td>\n",
              "    </tr>\n",
              "    <tr>\n",
              "      <th>1337</th>\n",
              "      <td>61</td>\n",
              "      <td>0</td>\n",
              "      <td>29.1</td>\n",
              "      <td>0</td>\n",
              "      <td>1</td>\n",
              "      <td>1</td>\n",
              "      <td>29141.36</td>\n",
              "    </tr>\n",
              "  </tbody>\n",
              "</table>\n",
              "<p>1338 rows × 7 columns</p>\n",
              "</div>\n",
              "      <button class=\"colab-df-convert\" onclick=\"convertToInteractive('df-6a019f93-e6a4-4e89-bcbf-b89a1e53ef5c')\"\n",
              "              title=\"Convert this dataframe to an interactive table.\"\n",
              "              style=\"display:none;\">\n",
              "        \n",
              "  <svg xmlns=\"http://www.w3.org/2000/svg\" height=\"24px\"viewBox=\"0 0 24 24\"\n",
              "       width=\"24px\">\n",
              "    <path d=\"M0 0h24v24H0V0z\" fill=\"none\"/>\n",
              "    <path d=\"M18.56 5.44l.94 2.06.94-2.06 2.06-.94-2.06-.94-.94-2.06-.94 2.06-2.06.94zm-11 1L8.5 8.5l.94-2.06 2.06-.94-2.06-.94L8.5 2.5l-.94 2.06-2.06.94zm10 10l.94 2.06.94-2.06 2.06-.94-2.06-.94-.94-2.06-.94 2.06-2.06.94z\"/><path d=\"M17.41 7.96l-1.37-1.37c-.4-.4-.92-.59-1.43-.59-.52 0-1.04.2-1.43.59L10.3 9.45l-7.72 7.72c-.78.78-.78 2.05 0 2.83L4 21.41c.39.39.9.59 1.41.59.51 0 1.02-.2 1.41-.59l7.78-7.78 2.81-2.81c.8-.78.8-2.07 0-2.86zM5.41 20L4 18.59l7.72-7.72 1.47 1.35L5.41 20z\"/>\n",
              "  </svg>\n",
              "      </button>\n",
              "      \n",
              "  <style>\n",
              "    .colab-df-container {\n",
              "      display:flex;\n",
              "      flex-wrap:wrap;\n",
              "      gap: 12px;\n",
              "    }\n",
              "\n",
              "    .colab-df-convert {\n",
              "      background-color: #E8F0FE;\n",
              "      border: none;\n",
              "      border-radius: 50%;\n",
              "      cursor: pointer;\n",
              "      display: none;\n",
              "      fill: #1967D2;\n",
              "      height: 32px;\n",
              "      padding: 0 0 0 0;\n",
              "      width: 32px;\n",
              "    }\n",
              "\n",
              "    .colab-df-convert:hover {\n",
              "      background-color: #E2EBFA;\n",
              "      box-shadow: 0px 1px 2px rgba(60, 64, 67, 0.3), 0px 1px 3px 1px rgba(60, 64, 67, 0.15);\n",
              "      fill: #174EA6;\n",
              "    }\n",
              "\n",
              "    [theme=dark] .colab-df-convert {\n",
              "      background-color: #3B4455;\n",
              "      fill: #D2E3FC;\n",
              "    }\n",
              "\n",
              "    [theme=dark] .colab-df-convert:hover {\n",
              "      background-color: #434B5C;\n",
              "      box-shadow: 0px 1px 3px 1px rgba(0, 0, 0, 0.15);\n",
              "      filter: drop-shadow(0px 1px 2px rgba(0, 0, 0, 0.3));\n",
              "      fill: #FFFFFF;\n",
              "    }\n",
              "  </style>\n",
              "\n",
              "      <script>\n",
              "        const buttonEl =\n",
              "          document.querySelector('#df-6a019f93-e6a4-4e89-bcbf-b89a1e53ef5c button.colab-df-convert');\n",
              "        buttonEl.style.display =\n",
              "          google.colab.kernel.accessAllowed ? 'block' : 'none';\n",
              "\n",
              "        async function convertToInteractive(key) {\n",
              "          const element = document.querySelector('#df-6a019f93-e6a4-4e89-bcbf-b89a1e53ef5c');\n",
              "          const dataTable =\n",
              "            await google.colab.kernel.invokeFunction('convertToInteractive',\n",
              "                                                     [key], {});\n",
              "          if (!dataTable) return;\n",
              "\n",
              "          const docLinkHtml = 'Like what you see? Visit the ' +\n",
              "            '<a target=\"_blank\" href=https://colab.research.google.com/notebooks/data_table.ipynb>data table notebook</a>'\n",
              "            + ' to learn more about interactive tables.';\n",
              "          element.innerHTML = '';\n",
              "          dataTable['output_type'] = 'display_data';\n",
              "          await google.colab.output.renderOutput(dataTable, element);\n",
              "          const docLink = document.createElement('div');\n",
              "          docLink.innerHTML = docLinkHtml;\n",
              "          element.appendChild(docLink);\n",
              "        }\n",
              "      </script>\n",
              "    </div>\n",
              "  </div>\n",
              "  "
            ],
            "text/plain": [
              "      age  sex   bmi  children  smoker  region  expenses\n",
              "0      19    0  27.9         0       1       3  16884.92\n",
              "1      18    1  33.8         1       0       2   1725.55\n",
              "2      28    1  33.0         3       0       2   4449.46\n",
              "3      33    1  22.7         0       0       1  21984.47\n",
              "4      32    1  28.9         0       0       1   3866.86\n",
              "...   ...  ...   ...       ...     ...     ...       ...\n",
              "1333   50    1  31.0         3       0       1  10600.55\n",
              "1334   18    0  31.9         0       0       0   2205.98\n",
              "1335   18    0  36.9         0       0       2   1629.83\n",
              "1336   21    0  25.8         0       0       3   2007.95\n",
              "1337   61    0  29.1         0       1       1  29141.36\n",
              "\n",
              "[1338 rows x 7 columns]"
            ]
          },
          "execution_count": 96,
          "metadata": {},
          "output_type": "execute_result"
        }
      ],
      "source": [
        "#looking at the dataset\n",
        "dataset"
      ]
    },
    {
      "cell_type": "code",
      "execution_count": 99,
      "metadata": {
        "id": "KdGKFJYYHSOX",
        "vscode": {
          "languageId": "python"
        }
      },
      "outputs": [],
      "source": [
        "# poping out the labels\n",
        "labels=dataset.pop('expenses')"
      ]
    },
    {
      "cell_type": "markdown",
      "metadata": {
        "id": "5s9-mI9V-iV_"
      },
      "source": [
        "##### Splitting the dataset"
      ]
    },
    {
      "cell_type": "code",
      "execution_count": 88,
      "metadata": {
        "id": "HJYfZum3-kXc",
        "vscode": {
          "languageId": "python"
        }
      },
      "outputs": [],
      "source": [
        "# Splitting dataset into train and test data\n",
        "train_dataset, test_dataset = np.split(dataset, [int(0.8 * len(dataset))])"
      ]
    },
    {
      "cell_type": "code",
      "execution_count": 100,
      "metadata": {
        "id": "zdrQTvyOHE49",
        "vscode": {
          "languageId": "python"
        }
      },
      "outputs": [],
      "source": [
        "train_dataset, test_dataset, train_labels, test_labels = train_test_split(dataset, labels, test_size=0.33, random_state=42)"
      ]
    },
    {
      "cell_type": "markdown",
      "metadata": {
        "id": "Hs2Fq_W6-48d"
      },
      "source": [
        "##### Normalizations"
      ]
    },
    {
      "cell_type": "code",
      "execution_count": 101,
      "metadata": {
        "id": "yxGeCV8c_CLh",
        "vscode": {
          "languageId": "python"
        }
      },
      "outputs": [],
      "source": [
        "# create normalization layer\n",
        "normalizer = layers.experimental.preprocessing.Normalization(axis=-1)"
      ]
    },
    {
      "cell_type": "code",
      "execution_count": 102,
      "metadata": {
        "id": "KAQGyWWP_DUk",
        "vscode": {
          "languageId": "python"
        }
      },
      "outputs": [],
      "source": [
        "# fit the state of the preprocessing layer to the data\n",
        "normalizer.adapt(np.array(train_dataset))"
      ]
    },
    {
      "cell_type": "markdown",
      "metadata": {
        "id": "b9mNjwAZ3UcT"
      },
      "source": [
        "### Building the model\n"
      ]
    },
    {
      "cell_type": "code",
      "execution_count": 103,
      "metadata": {
        "colab": {
          "base_uri": "https://localhost:8080/"
        },
        "id": "nqYvbNUr_uY9",
        "outputId": "5696e78f-437d-4096-8d20-ccbc9f159c49",
        "vscode": {
          "languageId": "python"
        }
      },
      "outputs": [
        {
          "name": "stdout",
          "output_type": "stream",
          "text": [
            "Model: \"sequential_5\"\n",
            "_________________________________________________________________\n",
            " Layer (type)                Output Shape              Param #   \n",
            "=================================================================\n",
            " normalization_4 (Normalizat  (None, 6)                13        \n",
            " ion)                                                            \n",
            "                                                                 \n",
            " dense_11 (Dense)            (None, 2)                 14        \n",
            "                                                                 \n",
            " dense_12 (Dense)            (None, 1)                 3         \n",
            "                                                                 \n",
            "=================================================================\n",
            "Total params: 30\n",
            "Trainable params: 17\n",
            "Non-trainable params: 13\n",
            "_________________________________________________________________\n"
          ]
        }
      ],
      "source": [
        "# Create model\n",
        "model = keras.Sequential([normalizer,\n",
        "                          layers.Dense(2),\n",
        "                          layers.Dense(1)])\n",
        "\n",
        "model.compile(optimizer=keras.optimizers.Adam(learning_rate=0.1),\n",
        "              loss='mae', metrics=['mae', 'mse'])\n",
        "\n",
        "model.summary()"
      ]
    },
    {
      "cell_type": "code",
      "execution_count": 105,
      "metadata": {
        "colab": {
          "base_uri": "https://localhost:8080/"
        },
        "id": "XCyq2kxcFNoH",
        "outputId": "1a3ecd6e-608e-42d2-8bd1-8b15ee21bcad",
        "vscode": {
          "languageId": "python"
        }
      },
      "outputs": [
        {
          "name": "stdout",
          "output_type": "stream",
          "text": [
            "Epoch 1/100\n",
            "23/23 [==============================] - 1s 7ms/step - loss: 13601.5039 - mae: 13601.5039 - mse: 330754368.0000 - val_loss: 12469.2139 - val_mae: 12469.2139 - val_mse: 303993408.0000\n",
            "Epoch 2/100\n",
            "23/23 [==============================] - 0s 5ms/step - loss: 13573.4346 - mae: 13573.4346 - mse: 329917376.0000 - val_loss: 12422.8750 - val_mae: 12422.8750 - val_mse: 302695040.0000\n",
            "Epoch 3/100\n",
            "23/23 [==============================] - 0s 5ms/step - loss: 13501.4912 - mae: 13501.4912 - mse: 327748192.0000 - val_loss: 12329.7656 - val_mae: 12329.7656 - val_mse: 299991872.0000\n",
            "Epoch 4/100\n",
            "23/23 [==============================] - 0s 6ms/step - loss: 13374.9609 - mae: 13374.9609 - mse: 323980416.0000 - val_loss: 12179.9219 - val_mae: 12179.9219 - val_mse: 295821568.0000\n",
            "Epoch 5/100\n",
            "23/23 [==============================] - 0s 5ms/step - loss: 13189.5840 - mae: 13189.5840 - mse: 318446848.0000 - val_loss: 11973.9316 - val_mae: 11973.9316 - val_mse: 290206752.0000\n",
            "Epoch 6/100\n",
            "23/23 [==============================] - 0s 6ms/step - loss: 12941.9668 - mae: 12941.9668 - mse: 311374176.0000 - val_loss: 11710.3086 - val_mae: 11710.3086 - val_mse: 282986464.0000\n",
            "Epoch 7/100\n",
            "23/23 [==============================] - 0s 6ms/step - loss: 12634.2119 - mae: 12634.2119 - mse: 302560704.0000 - val_loss: 11389.4521 - val_mae: 11389.4521 - val_mse: 274527584.0000\n",
            "Epoch 8/100\n",
            "23/23 [==============================] - 0s 5ms/step - loss: 12267.3076 - mae: 12267.3076 - mse: 292008480.0000 - val_loss: 11021.0195 - val_mae: 11021.0195 - val_mse: 264443040.0000\n",
            "Epoch 9/100\n",
            "23/23 [==============================] - 0s 5ms/step - loss: 11844.8984 - mae: 11844.8984 - mse: 280063712.0000 - val_loss: 10604.5596 - val_mae: 10604.5596 - val_mse: 253043936.0000\n",
            "Epoch 10/100\n",
            "23/23 [==============================] - 0s 5ms/step - loss: 11370.2021 - mae: 11370.2021 - mse: 266484480.0000 - val_loss: 10143.6006 - val_mae: 10143.6006 - val_mse: 240328656.0000\n",
            "Epoch 11/100\n",
            "23/23 [==============================] - 0s 5ms/step - loss: 10841.9717 - mae: 10841.9717 - mse: 251468976.0000 - val_loss: 9624.7979 - val_mae: 9624.7979 - val_mse: 226205216.0000\n",
            "Epoch 12/100\n",
            "23/23 [==============================] - 0s 5ms/step - loss: 10246.2959 - mae: 10246.2959 - mse: 235007904.0000 - val_loss: 9043.6748 - val_mae: 9043.6748 - val_mse: 211034496.0000\n",
            "Epoch 13/100\n",
            "23/23 [==============================] - 0s 5ms/step - loss: 9597.0166 - mae: 9597.0166 - mse: 218148912.0000 - val_loss: 8417.2363 - val_mae: 8417.2363 - val_mse: 195999952.0000\n",
            "Epoch 14/100\n",
            "23/23 [==============================] - 0s 5ms/step - loss: 8894.1162 - mae: 8894.1162 - mse: 200593408.0000 - val_loss: 7756.3975 - val_mae: 7756.3975 - val_mse: 179777952.0000\n",
            "Epoch 15/100\n",
            "23/23 [==============================] - 0s 5ms/step - loss: 8158.6943 - mae: 8158.6943 - mse: 182906224.0000 - val_loss: 7054.6597 - val_mae: 7054.6597 - val_mse: 162899712.0000\n",
            "Epoch 16/100\n",
            "23/23 [==============================] - 0s 5ms/step - loss: 7371.4429 - mae: 7371.4429 - mse: 164501424.0000 - val_loss: 6322.7021 - val_mae: 6322.7021 - val_mse: 147409424.0000\n",
            "Epoch 17/100\n",
            "23/23 [==============================] - 0s 5ms/step - loss: 6600.9150 - mae: 6600.9150 - mse: 147244000.0000 - val_loss: 5623.2744 - val_mae: 5623.2744 - val_mse: 131136072.0000\n",
            "Epoch 18/100\n",
            "23/23 [==============================] - 0s 6ms/step - loss: 5886.4702 - mae: 5886.4702 - mse: 129498480.0000 - val_loss: 5115.3540 - val_mae: 5115.3540 - val_mse: 116427528.0000\n",
            "Epoch 19/100\n",
            "23/23 [==============================] - 0s 5ms/step - loss: 5340.6621 - mae: 5340.6621 - mse: 112477776.0000 - val_loss: 4759.9043 - val_mae: 4759.9043 - val_mse: 102598512.0000\n",
            "Epoch 20/100\n",
            "23/23 [==============================] - 0s 5ms/step - loss: 4890.2319 - mae: 4890.2319 - mse: 97891880.0000 - val_loss: 4430.7012 - val_mae: 4430.7012 - val_mse: 90444888.0000\n",
            "Epoch 21/100\n",
            "23/23 [==============================] - 0s 5ms/step - loss: 4467.0928 - mae: 4467.0928 - mse: 85135632.0000 - val_loss: 4143.5674 - val_mae: 4143.5674 - val_mse: 80681248.0000\n",
            "Epoch 22/100\n",
            "23/23 [==============================] - 0s 5ms/step - loss: 4130.1123 - mae: 4130.1123 - mse: 75112656.0000 - val_loss: 3912.6348 - val_mae: 3912.6348 - val_mse: 72405848.0000\n",
            "Epoch 23/100\n",
            "23/23 [==============================] - 0s 5ms/step - loss: 3908.7925 - mae: 3908.7925 - mse: 67441832.0000 - val_loss: 3797.6340 - val_mae: 3797.6340 - val_mse: 66367580.0000\n",
            "Epoch 24/100\n",
            "23/23 [==============================] - 0s 5ms/step - loss: 3781.9084 - mae: 3781.9084 - mse: 62390608.0000 - val_loss: 3716.3921 - val_mae: 3716.3921 - val_mse: 62817616.0000\n",
            "Epoch 25/100\n",
            "23/23 [==============================] - 0s 5ms/step - loss: 3734.0769 - mae: 3734.0769 - mse: 58871904.0000 - val_loss: 3690.3601 - val_mae: 3690.3601 - val_mse: 59760252.0000\n",
            "Epoch 26/100\n",
            "23/23 [==============================] - 0s 6ms/step - loss: 3715.5635 - mae: 3715.5635 - mse: 57265472.0000 - val_loss: 3680.6482 - val_mae: 3680.6482 - val_mse: 59202908.0000\n",
            "Epoch 27/100\n",
            "23/23 [==============================] - 0s 5ms/step - loss: 3707.9084 - mae: 3707.9084 - mse: 56278484.0000 - val_loss: 3672.1289 - val_mae: 3672.1289 - val_mse: 58308244.0000\n",
            "Epoch 28/100\n",
            "23/23 [==============================] - 0s 5ms/step - loss: 3704.0684 - mae: 3704.0684 - mse: 55647988.0000 - val_loss: 3659.7568 - val_mae: 3659.7568 - val_mse: 57703608.0000\n",
            "Epoch 29/100\n",
            "23/23 [==============================] - 0s 5ms/step - loss: 3700.0903 - mae: 3700.0903 - mse: 55054564.0000 - val_loss: 3651.5615 - val_mae: 3651.5615 - val_mse: 57253824.0000\n",
            "Epoch 30/100\n",
            "23/23 [==============================] - 0s 5ms/step - loss: 3697.8208 - mae: 3697.8208 - mse: 54569696.0000 - val_loss: 3647.3826 - val_mae: 3647.3826 - val_mse: 56569840.0000\n",
            "Epoch 31/100\n",
            "23/23 [==============================] - 0s 5ms/step - loss: 3697.0762 - mae: 3697.0762 - mse: 54156324.0000 - val_loss: 3646.0845 - val_mae: 3646.0845 - val_mse: 56360552.0000\n",
            "Epoch 32/100\n",
            "23/23 [==============================] - 0s 5ms/step - loss: 3697.1851 - mae: 3697.1851 - mse: 54059032.0000 - val_loss: 3640.5198 - val_mae: 3640.5198 - val_mse: 56224888.0000\n",
            "Epoch 33/100\n",
            "23/23 [==============================] - 0s 5ms/step - loss: 3695.3750 - mae: 3695.3750 - mse: 53642356.0000 - val_loss: 3630.7312 - val_mae: 3630.7312 - val_mse: 55764564.0000\n",
            "Epoch 34/100\n",
            "23/23 [==============================] - 0s 5ms/step - loss: 3694.1038 - mae: 3694.1038 - mse: 53242376.0000 - val_loss: 3623.7673 - val_mae: 3623.7673 - val_mse: 55500708.0000\n",
            "Epoch 35/100\n",
            "23/23 [==============================] - 0s 5ms/step - loss: 3693.6150 - mae: 3693.6150 - mse: 53153432.0000 - val_loss: 3622.9451 - val_mae: 3622.9451 - val_mse: 55121420.0000\n",
            "Epoch 36/100\n",
            "23/23 [==============================] - 0s 5ms/step - loss: 3695.5559 - mae: 3695.5559 - mse: 52807132.0000 - val_loss: 3618.4036 - val_mae: 3618.4036 - val_mse: 55005548.0000\n",
            "Epoch 37/100\n",
            "23/23 [==============================] - 0s 5ms/step - loss: 3692.0967 - mae: 3692.0967 - mse: 52702452.0000 - val_loss: 3612.6277 - val_mae: 3612.6277 - val_mse: 54766944.0000\n",
            "Epoch 38/100\n",
            "23/23 [==============================] - 0s 5ms/step - loss: 3688.3772 - mae: 3688.3772 - mse: 52161452.0000 - val_loss: 3603.3586 - val_mae: 3603.3586 - val_mse: 53996184.0000\n",
            "Epoch 39/100\n",
            "23/23 [==============================] - 0s 5ms/step - loss: 3685.4016 - mae: 3685.4016 - mse: 51596300.0000 - val_loss: 3614.7178 - val_mae: 3614.7178 - val_mse: 53671976.0000\n",
            "Epoch 40/100\n",
            "23/23 [==============================] - 0s 5ms/step - loss: 3688.9617 - mae: 3688.9617 - mse: 51240708.0000 - val_loss: 3597.3379 - val_mae: 3597.3379 - val_mse: 53357504.0000\n",
            "Epoch 41/100\n",
            "23/23 [==============================] - 0s 5ms/step - loss: 3686.4763 - mae: 3686.4763 - mse: 51008976.0000 - val_loss: 3587.8970 - val_mae: 3587.8970 - val_mse: 52965820.0000\n",
            "Epoch 42/100\n",
            "23/23 [==============================] - 0s 5ms/step - loss: 3686.9456 - mae: 3686.9456 - mse: 50270172.0000 - val_loss: 3577.9600 - val_mae: 3577.9600 - val_mse: 52040464.0000\n",
            "Epoch 43/100\n",
            "23/23 [==============================] - 0s 5ms/step - loss: 3679.8452 - mae: 3679.8452 - mse: 49868264.0000 - val_loss: 3571.4619 - val_mae: 3571.4619 - val_mse: 51958888.0000\n",
            "Epoch 44/100\n",
            "23/23 [==============================] - 0s 5ms/step - loss: 3679.2993 - mae: 3679.2993 - mse: 49528436.0000 - val_loss: 3568.0527 - val_mae: 3568.0527 - val_mse: 51346176.0000\n",
            "Epoch 45/100\n",
            "23/23 [==============================] - 0s 5ms/step - loss: 3675.8083 - mae: 3675.8083 - mse: 48911604.0000 - val_loss: 3554.9138 - val_mae: 3554.9138 - val_mse: 50648216.0000\n",
            "Epoch 46/100\n",
            "23/23 [==============================] - 0s 6ms/step - loss: 3674.7466 - mae: 3674.7466 - mse: 48747604.0000 - val_loss: 3549.7996 - val_mae: 3549.7996 - val_mse: 50546096.0000\n",
            "Epoch 47/100\n",
            "23/23 [==============================] - 0s 5ms/step - loss: 3672.3796 - mae: 3672.3796 - mse: 48233312.0000 - val_loss: 3544.1680 - val_mae: 3544.1680 - val_mse: 49924016.0000\n",
            "Epoch 48/100\n",
            "23/23 [==============================] - 0s 5ms/step - loss: 3674.0825 - mae: 3674.0825 - mse: 47988832.0000 - val_loss: 3543.6741 - val_mae: 3543.6741 - val_mse: 49704436.0000\n",
            "Epoch 49/100\n",
            "23/23 [==============================] - 0s 6ms/step - loss: 3675.7039 - mae: 3675.7039 - mse: 48025828.0000 - val_loss: 3537.4441 - val_mae: 3537.4441 - val_mse: 49413780.0000\n",
            "Epoch 50/100\n",
            "23/23 [==============================] - 0s 5ms/step - loss: 3671.4211 - mae: 3671.4211 - mse: 47736908.0000 - val_loss: 3534.9875 - val_mae: 3534.9875 - val_mse: 49524884.0000\n",
            "Epoch 51/100\n",
            "23/23 [==============================] - 0s 5ms/step - loss: 3674.2346 - mae: 3674.2346 - mse: 47226884.0000 - val_loss: 3527.0181 - val_mae: 3527.0181 - val_mse: 49065204.0000\n",
            "Epoch 52/100\n",
            "23/23 [==============================] - 0s 5ms/step - loss: 3671.8408 - mae: 3671.8408 - mse: 47316304.0000 - val_loss: 3519.2954 - val_mae: 3519.2954 - val_mse: 48837924.0000\n",
            "Epoch 53/100\n",
            "23/23 [==============================] - 0s 6ms/step - loss: 3668.2393 - mae: 3668.2393 - mse: 46827652.0000 - val_loss: 3517.2876 - val_mae: 3517.2876 - val_mse: 48491260.0000\n",
            "Epoch 54/100\n",
            "23/23 [==============================] - 0s 5ms/step - loss: 3668.1519 - mae: 3668.1519 - mse: 46674668.0000 - val_loss: 3514.7493 - val_mae: 3514.7493 - val_mse: 48548420.0000\n",
            "Epoch 55/100\n",
            "23/23 [==============================] - 0s 5ms/step - loss: 3666.1484 - mae: 3666.1484 - mse: 46560332.0000 - val_loss: 3505.3999 - val_mae: 3505.3999 - val_mse: 47970600.0000\n",
            "Epoch 56/100\n",
            "23/23 [==============================] - 0s 5ms/step - loss: 3665.9731 - mae: 3665.9731 - mse: 46094896.0000 - val_loss: 3512.5083 - val_mae: 3512.5083 - val_mse: 47538840.0000\n",
            "Epoch 57/100\n",
            "23/23 [==============================] - 0s 5ms/step - loss: 3663.3679 - mae: 3663.3679 - mse: 45770304.0000 - val_loss: 3501.9487 - val_mae: 3501.9487 - val_mse: 47152744.0000\n",
            "Epoch 58/100\n",
            "23/23 [==============================] - 0s 5ms/step - loss: 3662.2947 - mae: 3662.2947 - mse: 45567552.0000 - val_loss: 3481.7749 - val_mae: 3481.7749 - val_mse: 46882680.0000\n",
            "Epoch 59/100\n",
            "23/23 [==============================] - 0s 6ms/step - loss: 3660.2368 - mae: 3660.2368 - mse: 45682336.0000 - val_loss: 3495.2244 - val_mae: 3495.2244 - val_mse: 47053524.0000\n",
            "Epoch 60/100\n",
            "23/23 [==============================] - 0s 5ms/step - loss: 3661.9294 - mae: 3661.9294 - mse: 45224972.0000 - val_loss: 3490.4209 - val_mae: 3490.4209 - val_mse: 46647600.0000\n",
            "Epoch 61/100\n",
            "23/23 [==============================] - 0s 5ms/step - loss: 3658.7151 - mae: 3658.7151 - mse: 45259672.0000 - val_loss: 3475.9949 - val_mae: 3475.9949 - val_mse: 46631508.0000\n",
            "Epoch 62/100\n",
            "23/23 [==============================] - 0s 5ms/step - loss: 3659.6631 - mae: 3659.6631 - mse: 45022780.0000 - val_loss: 3473.6536 - val_mae: 3473.6536 - val_mse: 46001208.0000\n",
            "Epoch 63/100\n",
            "23/23 [==============================] - 0s 5ms/step - loss: 3660.8855 - mae: 3660.8855 - mse: 44810552.0000 - val_loss: 3465.2544 - val_mae: 3465.2544 - val_mse: 45780704.0000\n",
            "Epoch 64/100\n",
            "23/23 [==============================] - 0s 5ms/step - loss: 3660.1226 - mae: 3660.1226 - mse: 44374284.0000 - val_loss: 3452.2959 - val_mae: 3452.2959 - val_mse: 45217092.0000\n",
            "Epoch 65/100\n",
            "23/23 [==============================] - 0s 5ms/step - loss: 3657.8650 - mae: 3657.8650 - mse: 44275184.0000 - val_loss: 3457.1638 - val_mae: 3457.1638 - val_mse: 45332040.0000\n",
            "Epoch 66/100\n",
            "23/23 [==============================] - 0s 5ms/step - loss: 3654.3394 - mae: 3654.3394 - mse: 44187260.0000 - val_loss: 3442.6050 - val_mae: 3442.6050 - val_mse: 44910548.0000\n",
            "Epoch 67/100\n",
            "23/23 [==============================] - 0s 5ms/step - loss: 3651.4976 - mae: 3651.4976 - mse: 43695904.0000 - val_loss: 3433.3411 - val_mae: 3433.3411 - val_mse: 44442776.0000\n",
            "Epoch 68/100\n",
            "23/23 [==============================] - 0s 5ms/step - loss: 3651.4697 - mae: 3651.4697 - mse: 43602044.0000 - val_loss: 3421.7490 - val_mae: 3421.7490 - val_mse: 44104960.0000\n",
            "Epoch 69/100\n",
            "23/23 [==============================] - 0s 5ms/step - loss: 3649.7217 - mae: 3649.7217 - mse: 43376052.0000 - val_loss: 3415.8914 - val_mae: 3415.8914 - val_mse: 43787012.0000\n",
            "Epoch 70/100\n",
            "23/23 [==============================] - 0s 6ms/step - loss: 3652.6682 - mae: 3652.6682 - mse: 43597640.0000 - val_loss: 3417.3635 - val_mae: 3417.3635 - val_mse: 43949692.0000\n",
            "Epoch 71/100\n",
            "23/23 [==============================] - 0s 6ms/step - loss: 3649.0454 - mae: 3649.0454 - mse: 43138152.0000 - val_loss: 3416.7852 - val_mae: 3416.7852 - val_mse: 43499920.0000\n",
            "Epoch 72/100\n",
            "23/23 [==============================] - 0s 6ms/step - loss: 3643.9690 - mae: 3643.9690 - mse: 43111208.0000 - val_loss: 3403.0750 - val_mae: 3403.0750 - val_mse: 43616040.0000\n",
            "Epoch 73/100\n",
            "23/23 [==============================] - 0s 5ms/step - loss: 3646.8760 - mae: 3646.8760 - mse: 43071428.0000 - val_loss: 3402.3789 - val_mae: 3402.3789 - val_mse: 43194440.0000\n",
            "Epoch 74/100\n",
            "23/23 [==============================] - 0s 5ms/step - loss: 3643.2930 - mae: 3643.2930 - mse: 43008820.0000 - val_loss: 3398.1973 - val_mae: 3398.1973 - val_mse: 43275908.0000\n",
            "Epoch 75/100\n",
            "23/23 [==============================] - 0s 5ms/step - loss: 3645.7864 - mae: 3645.7864 - mse: 42822620.0000 - val_loss: 3373.8369 - val_mae: 3373.8369 - val_mse: 42798152.0000\n",
            "Epoch 76/100\n",
            "23/23 [==============================] - 0s 5ms/step - loss: 3642.5122 - mae: 3642.5122 - mse: 42590308.0000 - val_loss: 3376.2517 - val_mae: 3376.2517 - val_mse: 42514180.0000\n",
            "Epoch 77/100\n",
            "23/23 [==============================] - 0s 5ms/step - loss: 3640.8833 - mae: 3640.8833 - mse: 42639916.0000 - val_loss: 3371.9976 - val_mae: 3371.9976 - val_mse: 42470240.0000\n",
            "Epoch 78/100\n",
            "23/23 [==============================] - 0s 5ms/step - loss: 3639.7827 - mae: 3639.7827 - mse: 42504444.0000 - val_loss: 3375.9285 - val_mae: 3375.9285 - val_mse: 42336988.0000\n",
            "Epoch 79/100\n",
            "23/23 [==============================] - 0s 15ms/step - loss: 3636.2546 - mae: 3636.2546 - mse: 42450512.0000 - val_loss: 3354.3083 - val_mae: 3354.3083 - val_mse: 42163496.0000\n",
            "Epoch 80/100\n",
            "23/23 [==============================] - 0s 15ms/step - loss: 3639.8225 - mae: 3639.8225 - mse: 42423332.0000 - val_loss: 3355.6770 - val_mae: 3355.6770 - val_mse: 41866776.0000\n",
            "Epoch 81/100\n",
            "23/23 [==============================] - 0s 16ms/step - loss: 3639.1274 - mae: 3639.1274 - mse: 42504900.0000 - val_loss: 3358.0996 - val_mae: 3358.0996 - val_mse: 42090556.0000\n",
            "Epoch 82/100\n",
            "23/23 [==============================] - 0s 13ms/step - loss: 3638.8398 - mae: 3638.8398 - mse: 42574664.0000 - val_loss: 3341.8560 - val_mae: 3341.8560 - val_mse: 41883720.0000\n",
            "Epoch 83/100\n",
            "23/23 [==============================] - 0s 7ms/step - loss: 3637.3772 - mae: 3637.3772 - mse: 42317236.0000 - val_loss: 3342.5249 - val_mae: 3342.5249 - val_mse: 41729268.0000\n",
            "Epoch 84/100\n",
            "23/23 [==============================] - 0s 5ms/step - loss: 3638.1892 - mae: 3638.1892 - mse: 42411456.0000 - val_loss: 3342.8010 - val_mae: 3342.8010 - val_mse: 41520064.0000\n",
            "Epoch 85/100\n",
            "23/23 [==============================] - 0s 5ms/step - loss: 3631.8936 - mae: 3631.8936 - mse: 42121260.0000 - val_loss: 3320.4575 - val_mae: 3320.4575 - val_mse: 41200060.0000\n",
            "Epoch 86/100\n",
            "23/23 [==============================] - 0s 5ms/step - loss: 3632.7734 - mae: 3632.7734 - mse: 42174480.0000 - val_loss: 3321.0869 - val_mae: 3321.0869 - val_mse: 40980548.0000\n",
            "Epoch 87/100\n",
            "23/23 [==============================] - 0s 5ms/step - loss: 3628.7332 - mae: 3628.7332 - mse: 42124860.0000 - val_loss: 3310.3569 - val_mae: 3310.3569 - val_mse: 40916320.0000\n",
            "Epoch 88/100\n",
            "23/23 [==============================] - 0s 5ms/step - loss: 3628.9941 - mae: 3628.9941 - mse: 42370516.0000 - val_loss: 3310.3618 - val_mae: 3310.3618 - val_mse: 40894688.0000\n",
            "Epoch 89/100\n",
            "23/23 [==============================] - 0s 5ms/step - loss: 3628.4661 - mae: 3628.4661 - mse: 42062784.0000 - val_loss: 3306.1199 - val_mae: 3306.1199 - val_mse: 40654784.0000\n",
            "Epoch 90/100\n",
            "23/23 [==============================] - 0s 5ms/step - loss: 3627.6931 - mae: 3627.6931 - mse: 42235764.0000 - val_loss: 3294.6782 - val_mae: 3294.6782 - val_mse: 40726200.0000\n",
            "Epoch 91/100\n",
            "23/23 [==============================] - 0s 5ms/step - loss: 3627.4570 - mae: 3627.4570 - mse: 42175020.0000 - val_loss: 3297.5559 - val_mae: 3297.5559 - val_mse: 40589620.0000\n",
            "Epoch 92/100\n",
            "23/23 [==============================] - 0s 5ms/step - loss: 3628.4175 - mae: 3628.4175 - mse: 42102116.0000 - val_loss: 3306.4736 - val_mae: 3306.4736 - val_mse: 40652976.0000\n",
            "Epoch 93/100\n",
            "23/23 [==============================] - 0s 5ms/step - loss: 3627.1257 - mae: 3627.1257 - mse: 42232160.0000 - val_loss: 3295.9951 - val_mae: 3295.9951 - val_mse: 40644948.0000\n",
            "Epoch 94/100\n",
            "23/23 [==============================] - 0s 5ms/step - loss: 3627.7644 - mae: 3627.7644 - mse: 42430540.0000 - val_loss: 3296.5244 - val_mae: 3296.5244 - val_mse: 40705572.0000\n",
            "Epoch 95/100\n",
            "23/23 [==============================] - 0s 5ms/step - loss: 3627.4434 - mae: 3627.4434 - mse: 42323108.0000 - val_loss: 3297.9780 - val_mae: 3297.9780 - val_mse: 40473108.0000\n",
            "Epoch 96/100\n",
            "23/23 [==============================] - 0s 5ms/step - loss: 3627.1421 - mae: 3627.1421 - mse: 42265492.0000 - val_loss: 3300.2517 - val_mae: 3300.2517 - val_mse: 40647380.0000\n",
            "Epoch 97/100\n",
            "23/23 [==============================] - 0s 5ms/step - loss: 3626.5405 - mae: 3626.5405 - mse: 42426340.0000 - val_loss: 3298.4353 - val_mae: 3298.4353 - val_mse: 40725500.0000\n",
            "Epoch 98/100\n",
            "23/23 [==============================] - 0s 5ms/step - loss: 3623.5496 - mae: 3623.5496 - mse: 42466060.0000 - val_loss: 3293.3230 - val_mae: 3293.3230 - val_mse: 40593700.0000\n",
            "Epoch 99/100\n",
            "23/23 [==============================] - 0s 5ms/step - loss: 3627.5210 - mae: 3627.5210 - mse: 42265024.0000 - val_loss: 3284.9829 - val_mae: 3284.9829 - val_mse: 40266456.0000\n",
            "Epoch 100/100\n",
            "23/23 [==============================] - 0s 5ms/step - loss: 3624.1865 - mae: 3624.1865 - mse: 42326572.0000 - val_loss: 3285.9250 - val_mae: 3285.9250 - val_mse: 40391568.0000\n"
          ]
        },
        {
          "data": {
            "text/plain": [
              "<keras.callbacks.History at 0x7fafed077750>"
            ]
          },
          "execution_count": 105,
          "metadata": {},
          "output_type": "execute_result"
        }
      ],
      "source": [
        "# Train model\n",
        "model.fit(train_dataset, train_labels, epochs=100, validation_split=0.2)"
      ]
    },
    {
      "cell_type": "markdown",
      "metadata": {
        "id": "PmB5ytb3ytTK"
      },
      "source": [
        "### Evaluating and predicting"
      ]
    },
    {
      "cell_type": "code",
      "execution_count": 106,
      "metadata": {
        "colab": {
          "base_uri": "https://localhost:8080/",
          "height": 335
        },
        "id": "Xe7RXH3N3CWU",
        "outputId": "14b64fe4-56a3-419f-b7e3-fca8da088537",
        "vscode": {
          "languageId": "python"
        }
      },
      "outputs": [
        {
          "name": "stdout",
          "output_type": "stream",
          "text": [
            "14/14 - 0s - loss: 3387.1694 - mae: 3387.1694 - mse: 39063592.0000 - 58ms/epoch - 4ms/step\n",
            "Testing set Mean Abs Error: 3387.17 expenses\n",
            "You passed the challenge. Great job!\n"
          ]
        },
        {
          "data": {
            "image/png": "[encoded data removed]",
            "text/plain": [
              "<Figure size 432x288 with 1 Axes>"
            ]
          },
          "metadata": {
            "needs_background": "light"
          },
          "output_type": "display_data"
        }
      ],
      "source": [
        "# RUN THIS CELL TO TEST YOUR MODEL. DO NOT MODIFY CONTENTS.\n",
        "# Test model by checking how well the model generalizes using the test set.\n",
        "loss, mae, mse = model.evaluate(test_dataset, test_labels, verbose=2)\n",
        "\n",
        "print(\"Testing set Mean Abs Error: {:5.2f} expenses\".format(mae))\n",
        "\n",
        "if mae < 3500:\n",
        "  print(\"You passed the challenge. Great job!\")\n",
        "else:\n",
        "  print(\"The Mean Abs Error must be less than 3500. Keep trying.\")\n",
        "\n",
        "# Plot predictions.\n",
        "test_predictions = model.predict(test_dataset).flatten()\n",
        "\n",
        "a = plt.axes(aspect='equal')\n",
        "plt.scatter(test_labels, test_predictions)\n",
        "plt.xlabel('True values (expenses)')\n",
        "plt.ylabel('Predictions (expenses)')\n",
        "lims = [0, 50000]\n",
        "plt.xlim(lims)\n",
        "plt.ylim(lims)\n",
        "_ = plt.plot(lims,lims)\n"
      ]
    },
    {
      "cell_type": "code",
      "execution_count": null,
      "metadata": {
        "id": "dimVrpCYALQX",
        "vscode": {
          "languageId": "python"
        }
      },
      "outputs": [],
      "source": []
    }
  ],
  "metadata": {
    "accelerator": "GPU",
    "colab": {
      "collapsed_sections": [],
      "name": "Predict_Health_Costs_with_Regression.ipynb",
      "provenance": []
    },
    "kernelspec": {
      "display_name": "Python 3",
      "name": "python3"
    }
  },
  "nbformat": 4,
  "nbformat_minor": 0
}
